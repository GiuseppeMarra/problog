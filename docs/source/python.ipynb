{
 "cells": [
  {
   "cell_type": "raw",
   "metadata": {},
   "source": [
    "Using ProbLog from Python\n",
    "=========================\n",
    "\n",
    "ProbLog can be used as a toolbox from Python.\n",
    "\n",
    "\n",
    "Reading a model\n",
    "---------------\n",
    "\n",
    "The starting point of most pipeline is a model (:class:`problog.program.LogicProgram`).\n",
    "ProbLog offers four implementations of this interface:\n",
    "\n",
    "    * :class:`problog.program.PrologFile`: read and parse a model from a file containing Prolog code\n",
    "    * :class:`problog.program.PrologString`: parse a model from a string of Prolog code\n",
    "    * :class:`problog.program.SimpleProgram`: container for a model constructed by the user\n",
    "    * :class:`problog.engine.ClauseDB`: a compiled version of a model used by the grounding engine"
   ]
  },
  {
   "cell_type": "code",
   "execution_count": 1,
   "metadata": {
    "collapsed": false
   },
   "outputs": [],
   "source": [
    "from problog.program import PrologString\n",
    "\n",
    "modeltext = \"\"\"\n",
    "    0.6::edge(1,2).\n",
    "    0.1::edge(1,3).\n",
    "    0.4::edge(2,5).\n",
    "    0.3::edge(2,6).\n",
    "    0.3::edge(3,4).\n",
    "    0.8::edge(4,5).\n",
    "    0.2::edge(5,6).\n",
    "    0.1::edge(7,7).\n",
    "\n",
    "    path(X,Y) :- edge(X,Y).\n",
    "    path(X,Y) :- edge(X,Z),\n",
    "                 Y \\== Z,\n",
    "             path(Z,Y).\n",
    "\n",
    "    query(path(1,5)).\n",
    "    query(path(1,6)).\n",
    "\"\"\"\n",
    "model = PrologString(modeltext)"
   ]
  },
  {
   "cell_type": "raw",
   "metadata": {},
   "source": [
    "Querying a model\n",
    "----------------\n",
    "\n",
    "ProbLog contains its own Prolog-style engine.\n",
    "This engine is intended primarily for grounding a ProbLog model, but it can also be used for \\\n",
    "Prolog inference.\n",
    "The ProbLog engine can be initialized by creating an object of the class \\\n",
    " :class:`problog.engine.DefaultEngine`.\n",
    "This engine is stateless and can be used to independently execute queries on multiple models."
   ]
  },
  {
   "cell_type": "code",
   "execution_count": 2,
   "metadata": {
    "collapsed": true
   },
   "outputs": [],
   "source": [
    "from problog.engine import DefaultEngine\n",
    "engine = DefaultEngine()"
   ]
  },
  {
   "cell_type": "raw",
   "metadata": {},
   "source": [
    "We can use this engine to evaluate queries on a given model by using the method :func:`problog.engine.GenericEngine.query`."
   ]
  },
  {
   "cell_type": "code",
   "execution_count": 3,
   "metadata": {
    "collapsed": false
   },
   "outputs": [
    {
     "data": {
      "text/plain": [
       "[(1, 2), (1, 3), (2, 5), (2, 6), (3, 4), (4, 5), (5, 6), (7, 7)]"
      ]
     },
     "execution_count": 3,
     "metadata": {},
     "output_type": "execute_result"
    }
   ],
   "source": [
    "from problog.logic import Term, Constant\n",
    "query_term = Term('edge', None, None)\n",
    "engine.query(model, query_term)"
   ]
  },
  {
   "cell_type": "raw",
   "metadata": {},
   "source": [
    "This function evaluates the given term on the given model using Prolog-style inference.\n",
    "The Term can contain variables (indicated by ``None`` or a negative integer) or bound arguments.\n",
    "The result is a list of tuples of arguments."
   ]
  },
  {
   "cell_type": "raw",
   "metadata": {},
   "source": [
    "Grounding a model\n",
    "-----------------\n",
    "\n",
    "The queries is the above example only take into a account the logic part of the model.\n",
    "They completely ignore the weights of the model.\n",
    "\n",
    "In order to compute a probabilistic query one needs more stages.\n",
    "The first stage is grounding.\n",
    "\n",
    "The easiest way to ground a model is by using the method :func:`problog.engine.GenericEngine.ground_all`."
   ]
  },
  {
   "cell_type": "code",
   "execution_count": 4,
   "metadata": {
    "collapsed": false
   },
   "outputs": [],
   "source": [
    "ground_program = engine.ground_all(model)"
   ]
  },
  {
   "cell_type": "raw",
   "metadata": {},
   "source": [
    "This function uses all query and evidence atoms defined in the model and returns a ground logic formula representing the relevant part needed to solve the queries.\n",
    "\n",
    "Alternatively, one can pass other queries and evidence."
   ]
  },
  {
   "cell_type": "code",
   "execution_count": 12,
   "metadata": {
    "collapsed": false
   },
   "outputs": [],
   "source": [
    "ground_program = engine.ground_all(model, queries=[Term('path', Constant(1), Constant(3))], evidence=[(Term('path', Constant(1), Constant(5)), False)])"
   ]
  },
  {
   "cell_type": "code",
   "execution_count": 13,
   "metadata": {
    "collapsed": false
   },
   "outputs": [
    {
     "name": "stdout",
     "output_type": "stream",
     "text": [
      "1: atom(identifier=2, probability=0.1, group=None, name=path(1,3), source=None)\n",
      "2: atom(identifier=0, probability=0.6, group=None, name=edge(1,2), source=None)\n",
      "3: atom(identifier=3, probability=0.4, group=None, name=edge(2,5), source=None)\n",
      "4: atom(identifier=4, probability=0.3, group=None, name=edge(2,6), source=None)\n",
      "5: atom(identifier=7, probability=0.2, group=None, name=edge(5,6), source=None)\n",
      "Queries : \n",
      "* path(1,3) : 1\n",
      "\n"
     ]
    }
   ],
   "source": [
    "print (ground_program)"
   ]
  },
  {
   "cell_type": "code",
   "execution_count": 14,
   "metadata": {
    "collapsed": false
   },
   "outputs": [
    {
     "data": {
      "text/plain": [
       "{path(1,3): 0.10000000000000002}"
      ]
     },
     "execution_count": 14,
     "metadata": {},
     "output_type": "execute_result"
    }
   ],
   "source": [
    "from problog import get_evaluatable\n",
    "get_evaluatable().create_from(ground_program).evaluate()"
   ]
  },
  {
   "cell_type": "raw",
   "metadata": {},
   "source": [
    "Other examples\n",
    "--------------\n",
    "\n",
    "\n",
    ".. code-block:: python\n",
    "\n",
    "    from problog.program import PrologFile\n",
    "    from problog.formula import LogicFormula\n",
    "    from problog.sdd_formula import SDD\n",
    "    from problog.nnf_formula import NNF\n",
    "    from problog.cnf_formula import CNF\n",
    "\n",
    "\n",
    "    def problog_v1(model) :\n",
    "        program = PrologFile(model)\n",
    "        formula = LogicFormula.create_from(program)\n",
    "        cnf = CNF.create_from(formula)\n",
    "        nnf = NNF.create_from(cnf)\n",
    "        return nnf.evaluate()\n",
    "\n",
    "\n",
    "    def problog_v2(model) :\n",
    "        program = PrologFile(model)\n",
    "        formula = LogicFormula.create_from(program)\n",
    "        sdd = SDD.create_from(formula)\n",
    "        return sdd.evaluate()\n",
    "\n",
    "\n",
    "Decision-Theoretic ProbLog\n",
    "--------------------------\n",
    "\n",
    ".. code-block:: python\n",
    "\n",
    "    from problog.tasks.dtproblog import dtproblog\n",
    "    from problog.program import PrologString\n",
    "\n",
    "    model = \"\"\"\n",
    "        0.3::rain.\n",
    "        0.5::wind.\n",
    "        ?::umbrella.\n",
    "        ?::raincoat.\n",
    "\n",
    "        broken_umbrella :- umbrella, rain, wind.\n",
    "        dry :- rain, raincoat.\n",
    "        dry :- rain, umbrella, not broken_umbrella.\n",
    "        dry :- not(rain).\n",
    "\n",
    "        utility(broken_umbrella, -40).\n",
    "        utility(raincoat, -20).\n",
    "        utility(umbrella, -2).\n",
    "        utility(dry, 60).\n",
    "    \"\"\"\n",
    "\n",
    "    program = PrologString(model)\n",
    "    decisions, score, statistics = dtproblog(program)\n",
    "\n",
    "    for name, value in decisions.items():\n",
    "        print ('%s: %s' % (name, value))\n"
   ]
  }
 ],
 "metadata": {
  "kernelspec": {
   "display_name": "Python 2",
   "language": "python",
   "name": "python2"
  },
  "language_info": {
   "codemirror_mode": {
    "name": "ipython",
    "version": 2.0
   },
   "file_extension": ".py",
   "mimetype": "text/x-python",
   "name": "python",
   "nbconvert_exporter": "python",
   "pygments_lexer": "ipython2",
   "version": "2.7.10"
  }
 },
 "nbformat": 4,
 "nbformat_minor": 0
}