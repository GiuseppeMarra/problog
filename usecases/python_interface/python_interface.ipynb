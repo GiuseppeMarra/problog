{
 "cells": [
  {
   "cell_type": "markdown",
   "metadata": {},
   "source": [
    "# ProbLog as a Python library"
   ]
  },
  {
   "cell_type": "markdown",
   "metadata": {
    "collapsed": true
   },
   "source": [
    "ProbLog is mostly written in Python (except the knowledge compilation step, which is in C). This allows us to import ProbLog as a Python package. In this document we show some examples to illustrate this usage."
   ]
  },
  {
   "cell_type": "markdown",
   "metadata": {},
   "source": [
    "## Add ProbLog to your Python path\n",
    "\n",
    "We first add the path to the ProbLog directory to the Python path such that it can be imported. If ProbLog is already in your path, this step can be skipped"
   ]
  },
  {
   "cell_type": "code",
   "execution_count": 1,
   "metadata": {
    "collapsed": true
   },
   "outputs": [],
   "source": [
    "import sys, os\n",
    "sys.path.append(os.path.join('..','..'))\n",
    "sys.path.append(os.path.abspath(os.path.join(os.environ['PROBLOGDIR'])))"
   ]
  },
  {
   "cell_type": "markdown",
   "metadata": {},
   "source": [
    "## ProbLog as a string\n",
    "\n",
    "A ProbLog program can be composed as a string and fed into ProbLog:"
   ]
  },
  {
   "cell_type": "code",
   "execution_count": 2,
   "metadata": {
    "collapsed": false
   },
   "outputs": [
    {
     "name": "stdout",
     "output_type": "stream",
     "text": [
      "{win: 0.64}\n"
     ]
    }
   ],
   "source": [
    "from problog.program import PrologString\n",
    "from problog.core import ProbLog\n",
    "from problog.sdd_formula import SDD\n",
    "\n",
    "p = PrologString(\"\"\"coin(c1). coin(c2).\n",
    "0.4::heads(C); 0.6::tails(C) :- coin(C).\n",
    "win :- heads(C).\n",
    "query(win).\n",
    "\"\"\")\n",
    "\n",
    "print(ProbLog.convert(p, SDD).evaluate())"
   ]
  },
  {
   "cell_type": "markdown",
   "metadata": {},
   "source": [
    "In this example, we ask ProbLog to convert the ProbLog string to an SDD, which can be evaluated.\n",
    "\n",
    "### Controlling the ProbLog chain\n",
    "\n",
    "You can also control the intermediate steps in as much detail as you wish:"
   ]
  },
  {
   "cell_type": "code",
   "execution_count": 3,
   "metadata": {
    "collapsed": false
   },
   "outputs": [
    {
     "name": "stdout",
     "output_type": "stream",
     "text": [
      "Queries: win\n",
      "Evidence: \n",
      "{win: 0.64}\n"
     ]
    }
   ],
   "source": [
    "from problog.program import PrologString, PrologFile\n",
    "from problog.core import ProbLog\n",
    "from problog.logic import Term\n",
    "from problog.evaluator import SemiringSymbolic, Evaluator\n",
    "from problog.engine import DefaultEngine\n",
    "from problog.nnf_formula import NNF\n",
    "from problog.cnf_formula import CNF\n",
    "from problog.sdd_formula import SDD\n",
    "\n",
    "#p = PrologFile('path/to/myprogram.pl')\n",
    "p = PrologString(\"\"\"coin(c1). coin(c2).\n",
    "0.4::heads(C); 0.6::tails(C) :- coin(C).\n",
    "win :- heads(C).\n",
    "query(win).\n",
    "\"\"\")\n",
    "\n",
    "# Prepare ProbLog engine\n",
    "engine = DefaultEngine(label_all=True)\n",
    "db = engine.prepare(p)\n",
    "\n",
    "# Collect queries\n",
    "queries = engine.query(db, Term( 'query', None ))\n",
    "print ('Queries:', ', '.join([ str(q[0]) for q in queries ]))\n",
    "\n",
    "# Colllect evidence\n",
    "evidence = engine.query(db, Term( 'evidence', None, None ))\n",
    "print ('Evidence:', ', '.join([ '%s=%s' % ev for ev in evidence ]))\n",
    "\n",
    "# Ground program and make acyclic\n",
    "gp = engine.ground_all(db)\n",
    "gp = gp.makeAcyclic() # Not requried for SDDs\n",
    "\n",
    "# Create NNF circuit from program\n",
    "nnf = SDD.createFrom(gp) # Use SDDs\n",
    "#nnf = NNF.createFrom(CNF.createFrom(gp)) # Use d-DNNFs\n",
    "\n",
    "# Evaluate the circuit to obtain probabilities\n",
    "result = nnf.evaluate()\n",
    "\n",
    "print(result)"
   ]
  },
  {
   "cell_type": "markdown",
   "metadata": {},
   "source": [
    "## ProbLog as Python datastructures\n",
    "\n",
    "Instead of feeding a string and using the ProbLog syntax, it is also possible to create the program using Python datastructures:"
   ]
  },
  {
   "cell_type": "code",
   "execution_count": 4,
   "metadata": {
    "collapsed": false
   },
   "outputs": [
    {
     "name": "stdout",
     "output_type": "stream",
     "text": [
      "{win: 0.64}\n"
     ]
    }
   ],
   "source": [
    "from problog.program import SimpleProgram\n",
    "from problog.logic import Constant,Var,Term,AnnotatedDisjunction\n",
    "\n",
    "coin,heads,tails,win,query = Term('coin'),Term('heads'),Term('tails'),Term('win'),Term('query')\n",
    "C = Var('C')\n",
    "p = SimpleProgram()\n",
    "p += coin(Constant('c1'))\n",
    "p += coin(Constant('c2'))\n",
    "p += AnnotatedDisjunction([heads(C,p=Constant(0.4)), tails(C,p=Constant(0.6))], coin(C))\n",
    "p += (win << heads(C))\n",
    "p += query(win)\n",
    "\n",
    "print(ProbLog.convert(p, SDD).evaluate())"
   ]
  },
  {
   "cell_type": "markdown",
   "metadata": {},
   "source": [
    "The `<<` syntax is used to build a Prolog rule."
   ]
  },
  {
   "cell_type": "markdown",
   "metadata": {},
   "source": [
    "## Call Python definitions from ProbLog\n",
    "\n",
    "It is also possible to call Python definition from ProbLog while grounding a program.\n",
    "\n",
    "Python definitions can be made discoverable for ProbLog by using a `problog_extern` decorator. Suppose that you create a file `mylib.py` that contains the following Python code:"
   ]
  },
  {
   "cell_type": "code",
   "execution_count": 5,
   "metadata": {
    "collapsed": false
   },
   "outputs": [],
   "source": [
    "from problog.extern import problog_export\n",
    "\n",
    "@problog_export('+str', '+str', '-str')\n",
    "def concat_str(arg1, arg2):\n",
    "    return arg1 + arg2\n",
    "\n",
    "\n",
    "@problog_export('+int', '+int', '-int')\n",
    "def int_plus(arg1, arg2):\n",
    "    return arg1 + arg2\n",
    "\n",
    "\n",
    "@problog_export('+list', '+list', '-list')\n",
    "def concat_list(arg1, arg2):\n",
    "    return arg1 + arg2"
   ]
  },
  {
   "cell_type": "markdown",
   "metadata": {},
   "source": [
    "These functions are discoverable by ProbLog after using a `:- use_modele('mylib.py').` rule in ProbLog. Afterwards, we can use them as regular predicates:"
   ]
  },
  {
   "cell_type": "code",
   "execution_count": 6,
   "metadata": {
    "collapsed": false
   },
   "outputs": [
    {
     "name": "stdout",
     "output_type": "stream",
     "text": [
      "int_plus(1,2,3) : 1.0\n",
      "concat_str(a,b,ab) : 1.0\n",
      "concat_list([a, b],[c, d],[a, b, c, d]) : 1.0\n",
      "concat_list([a, b],[c],[a, b, c]) : 1.0\n"
     ]
    }
   ],
   "source": [
    "p = PrologString(\"\"\"\n",
    ":- use_module('mylib.py').\n",
    "\n",
    "query(concat_str(a,b,Z)).\n",
    "query(concat_list([a,b],[c,d],Z)).\n",
    "query(int_plus(1,2,Z)).\n",
    "query(concat_list([a,b],[c],Y)).\n",
    "\"\"\")\n",
    "\n",
    "result = ProbLog.convert(p, SDD).evaluate()\n",
    "for it in result.items() :\n",
    "    print ('%s : %s' % (it))\n"
   ]
  },
  {
   "cell_type": "markdown",
   "metadata": {},
   "source": [
    "## Extra information\n",
    "\n",
    "More information can be found on the ProbLog website:  \n",
    "http://dtai.cs.kuleuven.be/problog\n",
    "\n",
    "(c) 2015, KU Leuven, DTAI Research Group"
   ]
  }
 ],
 "metadata": {
  "kernelspec": {
   "display_name": "Python 3",
   "language": "python",
   "name": "python3"
  },
  "language_info": {
   "codemirror_mode": {
    "name": "ipython",
    "version": 3
   },
   "file_extension": ".py",
   "mimetype": "text/x-python",
   "name": "python",
   "nbconvert_exporter": "python",
   "pygments_lexer": "ipython3",
   "version": "3.4.2"
  }
 },
 "nbformat": 4,
 "nbformat_minor": 0
}
