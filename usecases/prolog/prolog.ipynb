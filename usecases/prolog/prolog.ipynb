{
 "cells": [
  {
   "cell_type": "markdown",
   "metadata": {},
   "source": [
    "## Using the Prolog engine\n",
    "\n",
    "ProbLog contains a builtin Prolog-like engine that can be also be used as a standalone Prolog.\n",
    "\n",
    "Unlike regular Prolog systems, each grounding of a query will occur only once as a result, even if their are multiple proofs.\n",
    "\n",
    "The engine support cyclic programs."
   ]
  },
  {
   "cell_type": "code",
   "execution_count": null,
   "metadata": {
    "collapsed": true
   },
   "outputs": [],
   "source": [
    "from problog.engine import DefaultEngine\n",
    "from problog.logic import *"
   ]
  },
  {
   "cell_type": "markdown",
   "metadata": {},
   "source": [
    "First, we initialize a Prolog model.\n",
    "We can load it from a string."
   ]
  },
  {
   "cell_type": "code",
   "execution_count": 28,
   "metadata": {
    "collapsed": false
   },
   "outputs": [],
   "source": [
    "from problog.program import PrologString\n",
    "pl = PrologString(\"\"\"\n",
    "mother_child(trude, sally).\n",
    " \n",
    "father_child(tom, sally).\n",
    "father_child(tom, erica).\n",
    "father_child(mike, tom).\n",
    " \n",
    "sibling(X, Y) :- parent_child(Z, X), parent_child(Z, Y).\n",
    " \n",
    "parent_child(X, Y) :- father_child(X, Y).\n",
    "parent_child(X, Y) :- mother_child(X, Y).\n",
    "\"\"\")"
   ]
  },
  {
   "cell_type": "markdown",
   "metadata": {},
   "source": [
    "or we can construct it in Python"
   ]
  },
  {
   "cell_type": "code",
   "execution_count": 25,
   "metadata": {
    "collapsed": false
   },
   "outputs": [],
   "source": [
    "from problog.program import SimpleProgram\n",
    "\n",
    "# Define the language of terms\n",
    "mother_child = Term('mother_child')\n",
    "father_child = Term('father_child')\n",
    "sibling = Term('sibling')\n",
    "parent_child = Term('parent_child')\n",
    "X, Y, Z = map(Var, 'XYZ')\n",
    "trude, sally, tom, erica, mike = map(Term, ['trude', 'sally', 'tom', 'erica', 'mike'])\n",
    "\n",
    "# Define the program\n",
    "pl = SimpleProgram()\n",
    "pl += mother_child(trude, sally)\n",
    "pl += father_child(tom, sally)\n",
    "pl += father_child(tom, erica)\n",
    "pl += father_child(mike, tom)\n",
    "pl += sibling(X, Y) << (parent_child(Z, X) & parent_child(Z, Y))\n",
    "pl += parent_child(X, Y) << father_child(X, Y)\n",
    "pl += parent_child(X, Y) << mother_child(X, Y)\n"
   ]
  },
  {
   "cell_type": "markdown",
   "metadata": {},
   "source": [
    "Next we initialize the engine, and we prepare the model for querying.\n",
    "The second step is optional but recommended when we want to query the same model multiple times."
   ]
  },
  {
   "cell_type": "code",
   "execution_count": 29,
   "metadata": {
    "collapsed": true
   },
   "outputs": [],
   "source": [
    "engine = DefaultEngine()\n",
    "db = engine.prepare(pl)"
   ]
  },
  {
   "cell_type": "markdown",
   "metadata": {},
   "source": [
    "We can now query the model.\n",
    "The engine only supports queries that consist of a single Term.\n",
    "\n",
    "The result of ``query`` is a list of tuples representing the arguments of the query term.\n",
    "If the query fails, this list is empty."
   ]
  },
  {
   "cell_type": "code",
   "execution_count": 40,
   "metadata": {
    "collapsed": false
   },
   "outputs": [
    {
     "name": "stdout",
     "output_type": "stream",
     "text": [
      "sibling(tom,sally)? False\n",
      "sibling(sally,erica)? True\n"
     ]
    }
   ],
   "source": [
    "query_term = sibling(tom, sally)\n",
    "res = engine.query(db, query_term)\n",
    "print ('%s? %s' % (query_term, bool(res)))\n",
    "\n",
    "query_term = sibling(sally, erica)\n",
    "res = engine.query(db, query_term)\n",
    "print ('%s? %s' % (query_term, bool(res)))"
   ]
  },
  {
   "cell_type": "markdown",
   "metadata": {},
   "source": [
    "Variables in the query should be replaced by ``None`` or a negative number."
   ]
  },
  {
   "cell_type": "code",
   "execution_count": 51,
   "metadata": {
    "collapsed": false
   },
   "outputs": [
    {
     "name": "stdout",
     "output_type": "stream",
     "text": [
      "sibling(sally,sally)\n",
      "sibling(sally,erica)\n",
      "sibling(erica,sally)\n",
      "sibling(erica,erica)\n",
      "sibling(tom,tom)\n"
     ]
    }
   ],
   "source": [
    "query_term = sibling(None, None)\n",
    "res = engine.query(db, query_term)\n",
    "\n",
    "for args in res:\n",
    "    print query_term(*args)"
   ]
  },
  {
   "cell_type": "code",
   "execution_count": 42,
   "metadata": {
    "collapsed": false
   },
   "outputs": [
    {
     "name": "stdout",
     "output_type": "stream",
     "text": [
      "sibling(sally,sally)\n",
      "sibling(sally,erica)\n"
     ]
    }
   ],
   "source": [
    "query_term = Term('sibling', Term('sally'), None)\n",
    "res = engine.query(db, query_term)\n",
    "\n",
    "for args in res:\n",
    "    print query_term(*args)"
   ]
  },
  {
   "cell_type": "code",
   "execution_count": 52,
   "metadata": {
    "collapsed": false
   },
   "outputs": [
    {
     "name": "stdout",
     "output_type": "stream",
     "text": [
      "sibling(sally,sally)\n",
      "sibling(erica,erica)\n",
      "sibling(tom,tom)\n"
     ]
    }
   ],
   "source": [
    "query_term = Term('sibling', -1, -1)\n",
    "res = engine.query(db, query_term)\n",
    "\n",
    "for args in res:\n",
    "    print query_term(*args)"
   ]
  },
  {
   "cell_type": "code",
   "execution_count": 57,
   "metadata": {
    "collapsed": false
   },
   "outputs": [
    {
     "name": "stdout",
     "output_type": "stream",
     "text": [
      "\n",
      "Queries : \n",
      "* sibling(sally,sally) : 0\n",
      "* sibling(erica,erica) : 0\n",
      "* sibling(tom,tom) : 0\n",
      "\n"
     ]
    }
   ],
   "source": [
    "print engine.ground_all(db, queries=[query_term])"
   ]
  },
  {
   "cell_type": "code",
   "execution_count": null,
   "metadata": {
    "collapsed": true
   },
   "outputs": [],
   "source": []
  }
 ],
 "metadata": {
  "kernelspec": {
   "display_name": "Python 2",
   "language": "python",
   "name": "python2"
  },
  "language_info": {
   "codemirror_mode": {
    "name": "ipython",
    "version": 2
   },
   "file_extension": ".py",
   "mimetype": "text/x-python",
   "name": "python",
   "nbconvert_exporter": "python",
   "pygments_lexer": "ipython2",
   "version": "2.7.9"
  }
 },
 "nbformat": 4,
 "nbformat_minor": 0
}
