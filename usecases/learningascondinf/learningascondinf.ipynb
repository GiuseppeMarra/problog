{
 "cells": [
  {
   "cell_type": "markdown",
   "metadata": {},
   "source": [
    "# Learning as Conditional Inference"
   ]
  },
  {
   "cell_type": "markdown",
   "metadata": {},
   "source": [
    "March 2015  \n",
    "[Wannes Meert](mailto:wannes.meert@cs.kuleuven.be)  \n",
    "[Anton Dries](mailto:anton.dries@cs.kuleuven.be)\n",
    "\n",
    "Based on [Church](http://projects.csail.mit.edu/church/wiki/Church)'s [ProbMods book](https://probmods.org/learning-as-conditional-inference.html)."
   ]
  },
  {
   "cell_type": "code",
   "execution_count": 1,
   "metadata": {
    "collapsed": false
   },
   "outputs": [],
   "source": [
    "import sys, os, imp\n",
    "\n",
    "sys.path.append(os.path.abspath('../..'))\n",
    "sys.path.append(os.path.abspath('../../examples'))\n",
    "sys.path.append(os.path.abspath('../../util'))\n",
    "\n",
    "%load_ext problog.magic"
   ]
  },
  {
   "cell_type": "markdown",
   "metadata": {},
   "source": [
    "In this notebook we will make use of the `problogmagic` extension for IPython to format results. All code can also be ran as\n",
    "\n",
    "    $ ./problog-cli.py path/to/file.pl\n",
    "\n",
    "Or in a Notebook without the magic extensions (but `problog-cli.py` in your path:\n",
    "\n",
    "    %%script problog-cli.py\n",
    "    ... rest of cell"
   ]
  },
  {
   "cell_type": "markdown",
   "metadata": {},
   "source": [
    "## Example: Learning About Coins\n",
    "\n",
    "This example computes the probability that it is a fair coin give a sequence of observations. What it computes is Bayes' rule:\n",
    "\\begin{equation*}\n",
    "    Pr(fair \\mid data) = \\frac{Pr(data \\mid fair) \\cdot Pr(fair)}{Pr(data)}\n",
    "\\end{equation*}\n",
    "\n",
    "with $Pr(data \\mid fair)$ the expression that is modelled by the ProbLog program. And $Pr(fair \\mid data)$ is asked for using the `query/1` and `evidence/2` predicates."
   ]
  },
  {
   "cell_type": "code",
   "execution_count": 2,
   "metadata": {
    "collapsed": false
   },
   "outputs": [
    {
     "data": {
      "text/html": [
       "<table style=\"width:100%;\"><tr><th style=\"width:66%;\">Atom<th>Probability<tr><td>fair_coin<td><div class=\"progress-bar\" role=\"progressbar\" aria-valuenow=\"6.174240771753263\" aria-valuemin=\"0\" aria-valuemax=\"100\" style=\"text-align:left;width:6.174240771753263%;padding:3px;color:black;background-color:#9ac2f4;\">0.0617</div></table>"
      ]
     },
     "metadata": {},
     "output_type": "display_data"
    }
   ],
   "source": [
    "%%problog\n",
    "\n",
    "%% Prior\n",
    "0.999::fair_coin.\n",
    "%% Normal and biased coin\n",
    "0.50::coin(h,T) ; 0.50::coin(t,T) :-   fair_coin.\n",
    "0.95::coin(h,T) ; 0.05::coin(t,T) :- \\+fair_coin.\n",
    "\n",
    "%% Probability of a sequence of coin tosses\n",
    "tosses(Cs) :- tosses(Cs,0).\n",
    "tosses([],T).\n",
    "tosses([C|R],T) :-\n",
    "    coin(C,T),\n",
    "    Tn is T + 1,\n",
    "    tosses(R,Tn).\n",
    "\n",
    "%% What is the observed sequence of coin tosses?\n",
    "%evidence(tosses([h,h,h,h,h]), true).\n",
    "%evidence(tosses([h,h,h,h,h,h,h,h,h,h]), true).\n",
    "evidence(tosses([h,h,h,h,h,h,h,h,h,h,h,h,h,h,h]), true).\n",
    "\n",
    "query(fair_coin)."
   ]
  },
  {
   "cell_type": "markdown",
   "metadata": {},
   "source": [
    "It is important to have a `T` argument in `coin/2` to indicate about which coin we are talking. Coins are independent of each other but the same coin could be fair or not. And it is important the system knows you are talking about the same coin."
   ]
  },
  {
   "cell_type": "markdown",
   "metadata": {},
   "source": [
    "## Learning a Continuous Parameter\n",
    "\n",
    "Suppose that the probability of how much the coin is biased is a continuous number. What is the posterior distribution over this probability given a sequence of observations. This result can be used to update our prior belief over the bias of the coin."
   ]
  },
  {
   "cell_type": "code",
   "execution_count": 20,
   "metadata": {
    "collapsed": false
   },
   "outputs": [
    {
     "data": {
      "text/html": [
       "<table style=\"width:100%;\"><tr><th style=\"width:33%;\">Atom<th>Prob<tr><td>cw(0)<td><div class=\"progress-bar\" role=\"progressbar\" aria-valuenow=\"0.0\" aria-valuemin=\"0\" aria-valuemax=\"100\" style=\"text-align:left;width:0.0%;padding:3px;color:black;\">0.0000</div><tr><td>cw(0.25)<td><div class=\"progress-bar\" role=\"progressbar\" aria-valuenow=\"0.07692307692307693\" aria-valuemin=\"0\" aria-valuemax=\"100\" style=\"text-align:left;width:0.07692307692307693%;padding:3px;color:black;\">0.0008</div><tr><td>cw(0.5)<td><div class=\"progress-bar\" role=\"progressbar\" aria-valuenow=\"2.4615384615384617\" aria-valuemin=\"0\" aria-valuemax=\"100\" style=\"text-align:left;width:2.4615384615384617%;padding:3px;color:black;\">0.0246</div><tr><td>cw(0.75)<td><div class=\"progress-bar\" role=\"progressbar\" aria-valuenow=\"18.692307692307693\" aria-valuemin=\"0\" aria-valuemax=\"100\" style=\"text-align:left;width:18.692307692307693%;padding:3px;color:white;\">0.1869</div><tr><td>cw(1.0)<td><div class=\"progress-bar\" role=\"progressbar\" aria-valuenow=\"78.76923076923077\" aria-valuemin=\"0\" aria-valuemax=\"100\" style=\"text-align:left;width:78.76923076923077%;padding:3px;color:white;\">0.7877</div></table>"
      ]
     },
     "metadata": {},
     "output_type": "display_data"
    }
   ],
   "source": [
    "%%problog\n",
    "\n",
    "%% Uniform prior on coin weights (cw)\n",
    "%% Discretised for ProbLog (TODO: can we do better?)\n",
    "P::cw(0) ; P::cw(0.25) ; P::cw(0.5) ; P::cw(0.75) ; P::cw(1.0) :- P is 1.0/5.\n",
    "%% Normal and biased coin\n",
    "Ph::coin(h,T) ; Pt::coin(t,T) :- cw(Ph), Pt is 1.0-Ph.\n",
    "\n",
    "%% Probability of a sequence of coin tosses\n",
    "tosses(Cs) :- tosses(Cs,0).\n",
    "tosses([],T).\n",
    "tosses([C|R],T) :-\n",
    "    coin(C,T),\n",
    "    Tn is T + 1,\n",
    "    tosses(R,Tn).\n",
    "\n",
    "%% What is the observed sequence of coin tosses?\n",
    "evidence(tosses([h,h,h,h,h]), true).\n",
    "\n",
    "query(cw(V))."
   ]
  },
  {
   "cell_type": "markdown",
   "metadata": {},
   "source": [
    "### Bayesian Learning\n",
    "\n",
    "We can integrate Bayesian learning into the ProbLog system by combining ProbLog and Python."
   ]
  },
  {
   "cell_type": "markdown",
   "metadata": {},
   "source": [
    "#### Sampling\n",
    "\n",
    "First, we can sample from a simple program to generate data:"
   ]
  },
  {
   "cell_type": "code",
   "execution_count": 14,
   "metadata": {
    "collapsed": false
   },
   "outputs": [
    {
     "data": {
      "text/html": [
       "<pre>coin(h). % Probability: 0.9<br>coin(h). % Probability: 0.9<br>coin(t). % Probability: 0.1<br>coin(h). % Probability: 0.9<br>coin(h). % Probability: 0.9<br>coin(h). % Probability: 0.9<br>coin(h). % Probability: 0.9<br>coin(h). % Probability: 0.9<br>coin(h). % Probability: 0.9<br>coin(h). % Probability: 0.9<br></pre>"
      ]
     },
     "metadata": {},
     "output_type": "display_data"
    }
   ],
   "source": [
    "%%problogsample -N 10\n",
    "\n",
    "0.9::coin(h) ; 0.1::coin(t).\n",
    "\n",
    "query(coin(S))."
   ]
  },
  {
   "cell_type": "markdown",
   "metadata": {},
   "source": [
    "Or we can sample a list of random length (stop probability is 0.1):"
   ]
  },
  {
   "cell_type": "code",
   "execution_count": 15,
   "metadata": {
    "collapsed": false
   },
   "outputs": [
    {
     "data": {
      "text/html": [
       "<pre>tosses([h, h, h, h, h, t, h, h, h, h, h, h, h, h, h, h, h, h, h, h, h, h, h, h, h, h, h, h, h, h]). % Probability: 1.9966781e-05<br></pre>"
      ]
     },
     "metadata": {},
     "output_type": "display_data"
    }
   ],
   "source": [
    "%%problogsample -N 1\n",
    "\n",
    "0.9::coin(h,T) ; 0.1::coin(t,T).\n",
    "\n",
    "0.1::stop(T).\n",
    "\n",
    "tosses(C) :- tosses(C,0).\n",
    "tosses([],T) :- stop(T).\n",
    "tosses([H|R],T) :- \\+stop(T), coin(H,T), Tn is T+1, tosses(R,Tn).\n",
    "\n",
    "query(tosses(C))."
   ]
  },
  {
   "cell_type": "markdown",
   "metadata": {},
   "source": [
    "#### Learn\n",
    "\n",
    "Then we can sample an increasing number of samples to apply the same Bayesian rule approach as above and see the accuracy of our estimation improve:"
   ]
  },
  {
   "cell_type": "code",
   "execution_count": 16,
   "metadata": {
    "collapsed": false
   },
   "outputs": [],
   "source": [
    "model_str = \"\"\"\n",
    "P::cw(0); P::cw(0.125); P::cw(0.25); P::cw(0.375); P::cw(0.5); P::cw(0.625); P::cw(0.75);P::cw(0.875); P::cw(1.0) :- P is 1.0/9.\n",
    "Ph::coin(h,T) ; Pt::coin(t,T) :- cw(Ph), Pt is 1.0-Ph.\n",
    "\n",
    "tosses(Cs) :- tosses(Cs,0).\n",
    "tosses([],T).\n",
    "tosses([C|R],T) :-\n",
    "    coin(C,T),\n",
    "    Tn is T + 1,\n",
    "    tosses(R,Tn).\n",
    "\n",
    "query(cw(V)).\n",
    "\n",
    "\"\"\"\n",
    "\n",
    "sample_str = \"\"\"\n",
    "0.9::coin(h) ; 0.1::coin(t).\n",
    "\n",
    "query(coin(S)).\n",
    "\"\"\""
   ]
  },
  {
   "cell_type": "code",
   "execution_count": 17,
   "metadata": {
    "collapsed": false
   },
   "outputs": [
    {
     "name": "stdout",
     "output_type": "stream",
     "text": [
      "Sampled observations: [h]\n",
      "Sampled observations: [t, h]\n",
      "Sampled observations: [h, t, h]\n",
      "Sampled observations: [h, h, h, h]\n",
      "Sampled observations: [h, h, h, h, t]\n",
      "Sampled observations: [h, h, h, h, h, t]\n"
     ]
    },
    {
     "data": {
      "image/png": "[encoded data removed]",
      "text/plain": [
       "<matplotlib.figure.Figure at 0x1096d1ac8>"
      ]
     },
     "metadata": {},
     "output_type": "display_data"
    }
   ],
   "source": [
    "from problog.core import ProbLog\n",
    "from problog.program import PrologString\n",
    "import example_sampling_alt as plsample # TODO: make part of problog package?\n",
    "from problog.sdd_formula import SDD\n",
    "\n",
    "import matplotlib.pyplot as plt\n",
    "%matplotlib inline\n",
    "\n",
    "#sizes = [1, 3, 6, 10, 20, 30, 50, 70, 100] # TODO: sizes > 6 are really slow\n",
    "sizes = [1, 2, 3, 4, 5, 6]\n",
    "results = []\n",
    "\n",
    "for observed_data_size in sizes:\n",
    "    model = PrologString(sample_str)\n",
    "    samples,_ = plsample.sample_object(model, N=observed_data_size)\n",
    "    observations = [list(sample.queries())[0][0].args[0] for sample in samples]\n",
    "    print('Sampled observations: {}'.format(observations))\n",
    "    observations_str = \"evidence(tosses({})).\\n\".format(observations)\n",
    "    model = PrologString(model_str+observations_str)\n",
    "    \n",
    "    nnf = ProbLog.convert(model, SDD)\n",
    "    outcome = nnf.evaluate()\n",
    "    \n",
    "    results.append(max([(atom.args[0],prob) for atom,prob in outcome.items()], key=lambda t:t[1]))\n",
    "\n",
    "plt.plot(sizes, [result[0] for result in results], marker='o');\n",
    "a = plt.gca()\n",
    "a.set_ylim([0,1.1]);"
   ]
  },
  {
   "cell_type": "markdown",
   "metadata": {},
   "source": [
    "### Beta prior\n",
    "\n"
   ]
  },
  {
   "cell_type": "markdown",
   "metadata": {},
   "source": [
    "The prior (discretized):"
   ]
  },
  {
   "cell_type": "code",
   "execution_count": 7,
   "metadata": {
    "collapsed": false
   },
   "outputs": [
    {
     "data": {
      "text/html": [
       "<table style=\"width:100%;\"><tr><th style=\"width:66%;\">Atom<th>Probability<tr><td>cw(0)<td><div class=\"progress-bar\" role=\"progressbar\" aria-valuenow=\"0.0\" aria-valuemin=\"0\" aria-valuemax=\"100\" style=\"text-align:left;width:0.0%;padding:3px;color:black;\">0.0000</div><tr><td>cw(0.25)<td><div class=\"progress-bar\" role=\"progressbar\" aria-valuenow=\"6.614850186451808\" aria-valuemin=\"0\" aria-valuemax=\"100\" style=\"text-align:left;width:6.614850186451808%;padding:3px;color:white;\">0.0661</div><tr><td>cw(0.5)<td><div class=\"progress-bar\" role=\"progressbar\" aria-valuenow=\"88.09852600097659\" aria-valuemin=\"0\" aria-valuemax=\"100\" style=\"text-align:left;width:88.09852600097659%;padding:3px;color:white;\">0.8810</div><tr><td>cw(0.75)<td><div class=\"progress-bar\" role=\"progressbar\" aria-valuenow=\"6.614850186451808\" aria-valuemin=\"0\" aria-valuemax=\"100\" style=\"text-align:left;width:6.614850186451808%;padding:3px;color:white;\">0.0661</div><tr><td>cw(1.0)<td><div class=\"progress-bar\" role=\"progressbar\" aria-valuenow=\"0.0\" aria-valuemin=\"0\" aria-valuemax=\"100\" style=\"text-align:left;width:0.0%;padding:3px;color:black;\">0.0000</div></table>"
      ]
     },
     "metadata": {},
     "output_type": "display_data"
    }
   ],
   "source": [
    "%%problog\n",
    "\n",
    ":- load_external('beta.py').\n",
    "\n",
    "%% Prior on coin weights (cw)\n",
    "%% TODO: make better/easier\n",
    "P0::cw(0) ; P25::cw(0.25) ; P50::cw(0.5) ; P75::cw(0.75) ; P100::cw(1.0) :-\n",
    "    call_external(beta_pdf(10,10,[0.0,0.25,0.50,0.75,1.00]), R),\n",
    "    [P0,P25,P50,P75,P100] = R.\n",
    "\n",
    "query(cw(V))."
   ]
  },
  {
   "cell_type": "markdown",
   "metadata": {},
   "source": [
    "The beta distribution is load from Python with:"
   ]
  },
  {
   "cell_type": "code",
   "execution_count": 45,
   "metadata": {
    "collapsed": false
   },
   "outputs": [
    {
     "name": "stdout",
     "output_type": "stream",
     "text": [
      "from scipy.stats import beta\r\n",
      "\r\n",
      "def beta_pdf(a, b, values):\r\n",
      "    pdf = beta.pdf(values, a, b)\r\n",
      "    return pdf.tolist()\r\n"
     ]
    }
   ],
   "source": [
    "!cat beta.py"
   ]
  },
  {
   "cell_type": "markdown",
   "metadata": {},
   "source": [
    "*The discretisation is ugly now.*\n",
    "\n",
    "**TODO**: figure out easier syntax/method\n",
    "\n",
    "<div style=\"background-color:#FB9496;margin:5px 0;padding:3px;\">Proposal:</div>\n",
    "\n",
    "    _::cw(_) :- call_external(beta_pdf(10,10,0.25), R), expandhead(R).\n",
    "\n",
    "- beta_pdf returns binary tuples [(prob,real)]\n",
    "- `expandhead/1` is a predicate that maps the head atom to the given list where the number of elements in a tuple match the underscores in the head atom.\n",
    "- How similar is this internally to `P::a :- P is 1/2.` ?\n"
   ]
  },
  {
   "cell_type": "markdown",
   "metadata": {},
   "source": [
    "And after observing evidence:"
   ]
  },
  {
   "cell_type": "code",
   "execution_count": 8,
   "metadata": {
    "collapsed": false
   },
   "outputs": [
    {
     "data": {
      "text/html": [
       "<table style=\"width:100%;\"><tr><th style=\"width:66%;\">Atom<th>Probability<tr><td>cw(0)<td><div class=\"progress-bar\" role=\"progressbar\" aria-valuenow=\"0.0\" aria-valuemin=\"0\" aria-valuemax=\"100\" style=\"text-align:left;width:0.0%;padding:3px;color:black;\">0.0000</div><tr><td>cw(0.25)<td><div class=\"progress-bar\" role=\"progressbar\" aria-valuenow=\"0.14921243308069132\" aria-valuemin=\"0\" aria-valuemax=\"100\" style=\"text-align:left;width:0.14921243308069132%;padding:3px;color:black;\">0.0015</div><tr><td>cw(0.5)<td><div class=\"progress-bar\" role=\"progressbar\" aria-valuenow=\"63.59216632831131\" aria-valuemin=\"0\" aria-valuemax=\"100\" style=\"text-align:left;width:63.59216632831131%;padding:3px;color:white;\">0.6359</div><tr><td>cw(0.75)<td><div class=\"progress-bar\" role=\"progressbar\" aria-valuenow=\"36.258621238607994\" aria-valuemin=\"0\" aria-valuemax=\"100\" style=\"text-align:left;width:36.258621238607994%;padding:3px;color:white;\">0.3626</div><tr><td>cw(1.0)<td><div class=\"progress-bar\" role=\"progressbar\" aria-valuenow=\"0.0\" aria-valuemin=\"0\" aria-valuemax=\"100\" style=\"text-align:left;width:0.0%;padding:3px;color:black;\">0.0000</div></table>"
      ]
     },
     "metadata": {},
     "output_type": "display_data"
    }
   ],
   "source": [
    "%%problog\n",
    "\n",
    ":- load_external('beta.py').\n",
    "\n",
    "%% Prior on coin weights (cw)\n",
    "P0::cw(0) ; P25::cw(0.25) ; P50::cw(0.5) ; P75::cw(0.75) ; P100::cw(1.0) :-\n",
    "    call_external(beta_pdf(10,10,[0.0,0.25,0.50,0.75,1.00]), R),\n",
    "    [P0,P25,P50,P75,P100] = R.\n",
    "\n",
    "%% Normal and biased coin\n",
    "Ph::coin(h,T) ; Pt::coin(t,T) :- cw(Ph), Pt is 1.0-Ph.\n",
    "\n",
    "%% Probability of a sequence of coin tosses\n",
    "tosses(Cs) :- tosses(Cs,0).\n",
    "tosses([],T).\n",
    "tosses([C|R],T) :-\n",
    "    coin(C,T),\n",
    "    Tn is T + 1,\n",
    "    tosses(R,Tn).\n",
    "\n",
    "%% What is the observed sequence of coin tosses?\n",
    "evidence(tosses([h,h,h,h,h]), true).\n",
    "\n",
    "query(cw(V))."
   ]
  },
  {
   "cell_type": "markdown",
   "metadata": {},
   "source": [
    "### Example: Estimating Causal Power\n",
    "\n",
    "..."
   ]
  },
  {
   "cell_type": "code",
   "execution_count": 26,
   "metadata": {
    "collapsed": false
   },
   "outputs": [
    {
     "data": {
      "text/html": [
       "<table style=\"width:100%;\"><tr><th style=\"width:33%;\">Atom<th>Probability<tr><td>cpw(0)<td><div class=\"progress-bar\" role=\"progressbar\" aria-valuenow=\"3.546987951807229\" aria-valuemin=\"0\" aria-valuemax=\"100\" style=\"text-align:left;width:3.546987951807229%;padding:3px;color:black;\">0.0355</div><tr><td>cpw(0.25)<td><div class=\"progress-bar\" role=\"progressbar\" aria-valuenow=\"6.604819277108434\" aria-valuemin=\"0\" aria-valuemax=\"100\" style=\"text-align:left;width:6.604819277108434%;padding:3px;color:white;\">0.0660</div><tr><td>cpw(0.5)<td><div class=\"progress-bar\" role=\"progressbar\" aria-valuenow=\"13.551807228915663\" aria-valuemin=\"0\" aria-valuemax=\"100\" style=\"text-align:left;width:13.551807228915663%;padding:3px;color:white;\">0.1355</div><tr><td>cpw(0.75)<td><div class=\"progress-bar\" role=\"progressbar\" aria-valuenow=\"26.946987951807234\" aria-valuemin=\"0\" aria-valuemax=\"100\" style=\"text-align:left;width:26.946987951807234%;padding:3px;color:white;\">0.2695</div><tr><td>cpw(1.0)<td><div class=\"progress-bar\" role=\"progressbar\" aria-valuenow=\"49.34939759036145\" aria-valuemin=\"0\" aria-valuemax=\"100\" style=\"text-align:left;width:49.34939759036145%;padding:3px;color:white;\">0.4935</div></table>"
      ]
     },
     "metadata": {},
     "output_type": "display_data"
    }
   ],
   "source": [
    "%%problog\n",
    "\n",
    "%% causal power of C to cause E (prior)\n",
    "P::cpw(0) ; P::cpw(0.25) ; P::cpw(0.5) ; P::cpw(0.75) ; P::cpw(1.0) :- P is 1.0/5.\n",
    "%% background probability of E (prior)\n",
    "P::bw(0) ; P::bw(0.25) ; P::bw(0.5) ; P::bw(0.75) ; P::bw(1.0) :- P is 1.0/5.\n",
    "\n",
    "%P::cp(T) :- cpw(P).\n",
    "%P::b(T) :- bw(P).\n",
    "%e_if_c(C,T) :- cp(T), C=true.\n",
    "%e_if_c(C,T) :- b(T).\n",
    "\n",
    "P::e_if_c(C,T) :- cpw(P), C=true.\n",
    "P::e_if_c(C,T) :- bw(P).\n",
    "\n",
    "evidence(e_if_c(true,0),  true).\n",
    "evidence(e_if_c(true,1),  true).\n",
    "evidence(e_if_c(false,2), false).\n",
    "evidence(e_if_c(true,3),  true).\n",
    "\n",
    "query(cpw(V))."
   ]
  },
  {
   "cell_type": "markdown",
   "metadata": {},
   "source": [
    "We can express this more ProbLog like. This results in a much easier model to comprehend:\n",
    "\n",
    "(Also slower, too many variables?)"
   ]
  },
  {
   "cell_type": "code",
   "execution_count": 27,
   "metadata": {
    "collapsed": false
   },
   "outputs": [
    {
     "data": {
      "text/html": [
       "<table style=\"width:100%;\"><tr><th style=\"width:33%;\">Atom<th>Probability<tr><td>cpw(0)<td><div class=\"progress-bar\" role=\"progressbar\" aria-valuenow=\"3.5469879518072305\" aria-valuemin=\"0\" aria-valuemax=\"100\" style=\"text-align:left;width:3.5469879518072305%;padding:3px;color:black;\">0.0355</div><tr><td>cpw(0.25)<td><div class=\"progress-bar\" role=\"progressbar\" aria-valuenow=\"6.604819277108436\" aria-valuemin=\"0\" aria-valuemax=\"100\" style=\"text-align:left;width:6.604819277108436%;padding:3px;color:white;\">0.0660</div><tr><td>cpw(0.5)<td><div class=\"progress-bar\" role=\"progressbar\" aria-valuenow=\"13.551807228915665\" aria-valuemin=\"0\" aria-valuemax=\"100\" style=\"text-align:left;width:13.551807228915665%;padding:3px;color:white;\">0.1355</div><tr><td>cpw(0.75)<td><div class=\"progress-bar\" role=\"progressbar\" aria-valuenow=\"26.946987951807237\" aria-valuemin=\"0\" aria-valuemax=\"100\" style=\"text-align:left;width:26.946987951807237%;padding:3px;color:white;\">0.2695</div><tr><td>cpw(1.0)<td><div class=\"progress-bar\" role=\"progressbar\" aria-valuenow=\"49.349397590361455\" aria-valuemin=\"0\" aria-valuemax=\"100\" style=\"text-align:left;width:49.349397590361455%;padding:3px;color:white;\">0.4935</div></table>"
      ]
     },
     "metadata": {},
     "output_type": "display_data"
    }
   ],
   "source": [
    "%%problog\n",
    "\n",
    "%% causal power of C to cause E (prior)\n",
    "P::cpw(0) ; P::cpw(0.25) ; P::cpw(0.5) ; P::cpw(0.75) ; P::cpw(1.0) :- P is 1.0/5.\n",
    "%% background probability of E (prior)\n",
    "P::bw(0) ; P::bw(0.25) ; P::bw(0.5) ; P::bw(0.75) ; P::bw(1.0) :- P is 1.0/5.\n",
    "\n",
    "0.5::c(T). % Prior on c. Will not be important because fully observed.\n",
    "\n",
    "P::e(T) :- cpw(P), c(T).\n",
    "P::e(T) :- bw(P).\n",
    "\n",
    "evidence(c(0), true).\n",
    "evidence(e(0), true).\n",
    "evidence(e(1), true).\n",
    "evidence(c(1), true).\n",
    "evidence(e(2), false).\n",
    "evidence(c(2), false).\n",
    "evidence(e(3), true).\n",
    "evidence(c(3), true).\n",
    "\n",
    "query(cpw(V))."
   ]
  },
  {
   "cell_type": "markdown",
   "metadata": {},
   "source": [
    "## Grammar-based Concept Induction\n"
   ]
  },
  {
   "cell_type": "markdown",
   "metadata": {},
   "source": [
    "### Example: Inferring an Arithmetic Expression"
   ]
  },
  {
   "cell_type": "markdown",
   "metadata": {},
   "source": [
    "#### Pure ProbLog\n",
    "\n",
    "Let's start with a version where we sample an arithmetic expressing using ProbLog and immediately compute the result of the expression (ignoring 'x'):"
   ]
  },
  {
   "cell_type": "code",
   "execution_count": 32,
   "metadata": {
    "collapsed": false
   },
   "outputs": [
    {
     "data": {
      "text/html": [
       "<pre>expr(1,1). % Probability: 0.35<br>expr(7,7). % Probability: 0.035<br>expr(1,1). % Probability: 0.35<br>expr('+'('+'('-'('-'(1,1),'+'(7,'+'('+'(1,1),5))),1),'+'(1,1)),-11). % Probability: 2.0199586e-13<br>expr(9,9). % Probability: 0.035<br></pre>"
      ]
     },
     "metadata": {},
     "output_type": "display_data"
    }
   ],
   "source": [
    "%%problogsample\n",
    "\n",
    "0.7::leaf(T).\n",
    "\n",
    "0.5::operator('+',T) ; 0.5::operator('-',T).\n",
    "\n",
    "% x = 1\n",
    "Px::l(1,T); P::l(0,T); P::l(1,T); P::l(2,T); P::l(3,T); P::l(4,T); P::l(5,T); P::l(6,T); P::l(7,T); P::l(8,T); P::l(9,T) :- Px = 0.5, P is (1-Px)/10.\n",
    "\n",
    "expr(A,R) :- expr(A,1,S), R is A.\n",
    "\n",
    "expr(L,T1,T2) :- leaf(T1), T2 is T1+1, l(L,T1).\n",
    "expr(S,T1,T2) :-\n",
    "   \\+ leaf(T1),\n",
    "   Ta is T1+1,\n",
    "   expr(E1,Ta,Tb),\n",
    "   expr(E2,Tb,T2),\n",
    "   operator(Operator,Ta),\n",
    "   S =.. [Operator,E1,E2].\n",
    "\n",
    "query(expr(A,R))."
   ]
  },
  {
   "cell_type": "markdown",
   "metadata": {},
   "source": [
    "If you want to include the `x` variable and give it a value of 1:"
   ]
  },
  {
   "cell_type": "code",
   "execution_count": 44,
   "metadata": {
    "collapsed": false
   },
   "outputs": [
    {
     "data": {
      "text/html": [
       "<pre>expr(5,5,1). % Probability: 0.035<br>expr([[5, '+', 5], '+', 6],16,1). % Probability: 9.646875e-07<br>expr(0,0,1). % Probability: 0.035<br>expr(4,4,1). % Probability: 0.035<br></pre>"
      ]
     },
     "metadata": {},
     "output_type": "display_data"
    }
   ],
   "source": [
    "%%problogsample -N 4\n",
    "\n",
    "0.7::leaf(T).\n",
    "\n",
    "0.5::operator('+',T) ; 0.5::operator('-',T).\n",
    "\n",
    "Px::l(x,T); P::l(0,T) ; P::l(1,T) ; P::l(2,T) ; P::l(3,T) ; P::l(4,T) ; P::l(5,T) ; P::l(6,T) ; P::l(7,T) ; P::l(8,T) ; P::l(9,T) :- P is 0.5/10, Px is 0.5.\n",
    "\n",
    "expr(L,R,X) :- expr(L,0,Tr,R,X).\n",
    "\n",
    "expr(L,T,T,X,X) :- leaf(T), l(L,T), L = 'x'.\n",
    "expr(L,T,T,L,X) :- leaf(T), l(L,T), L \\== 'x'.\n",
    "\n",
    "expr([L,O,R],T,Tr,Re,X) :-\n",
    "    \\+leaf(T), operator(O,T),\n",
    "    Tn1 is T+1, expr(L,Tn1,Tr1,RL,X),\n",
    "    Tn2 is Tr1+1, expr(R,Tn2,Tr,RR,X),\n",
    "    (O == '+', Re is RL+RR;\n",
    "     O == '-', Re is RL-RR).\n",
    "\n",
    "query(expr(E,R,1))."
   ]
  },
  {
   "cell_type": "markdown",
   "metadata": {},
   "source": [
    "#### ProbLog and Python combined\n",
    "\n",
    "We can also use ProbLog to generate expressions that are Python expressions. If we call ProbLog from within a Python environment we can mix ProbLog and Python to achieve what we want:"
   ]
  },
  {
   "cell_type": "code",
   "execution_count": 41,
   "metadata": {
    "collapsed": false
   },
   "outputs": [],
   "source": [
    "model_str = \"\"\"\n",
    "0.7::leaf(T).\n",
    "\n",
    "0.5::operator('+',T) ; 0.5::operator('-',T).\n",
    "\n",
    "Px::l(x,T); P::l(0,T) ; P::l(1,T) ; P::l(2,T) ; P::l(3,T) ; P::l(4,T) ; P::l(5,T) ; P::l(6,T) ; P::l(7,T) ; P::l(8,T) ; P::l(9,T) :- P is 0.5/10, Px is 0.5.\n",
    "\n",
    "expr(L) :- expr(L,0,Tr).\n",
    "\n",
    "expr(L,T1,T2) :- leaf(T1), T2 is T1+1, l(L,T1).\n",
    "expr([EL,O,ER],T1,T2) :-\n",
    "    \\+leaf(T1),\n",
    "    Ta is T1+1, operator(O,Ta),\n",
    "    expr(EL,Ta,Tb),\n",
    "    expr(ER,Tb,T2).\n",
    "\n",
    "query(expr(E)).\n",
    "\"\"\""
   ]
  },
  {
   "cell_type": "code",
   "execution_count": 42,
   "metadata": {
    "collapsed": false
   },
   "outputs": [
    {
     "name": "stdout",
     "output_type": "stream",
     "text": [
      "x --> 1\n",
      "x --> 1\n",
      "((x+((x-(x-((x-x)-((x+9)+x))))-x))-7) --> -18\n",
      "(x+0) --> 1\n",
      "4 --> 4\n",
      "x --> 1\n",
      "(x-(((x-(((x-(x+6))+0)+((4+x)-0)))+(x+(x+x)))-((8+((((x+((2+(4-(4-((1+7)-((6+((x+x)+x))+(x-x))))))-((3+((1+x)+x))+((x+8)-(x-(x-x))))))-6)+x)+((x-x)+4)))-(3-x)))) --> -11\n",
      "((8-3)-(0-x)) --> 6\n",
      "2 --> 2\n",
      "2 --> 2\n"
     ]
    }
   ],
   "source": [
    "from problog.program import PrologString\n",
    "import example_sampling_alt as plsample\n",
    "from problog.pypl import pl2py\n",
    "\n",
    "model = PrologString(model_str)\n",
    "samples, db = plsample.sample_object(model, N=10)\n",
    "x = 1\n",
    "\n",
    "def list2expr(l):\n",
    "    if type(l) == list:\n",
    "        return '({})'.format(''.join([list2expr(sl) for sl in l]))\n",
    "    else:\n",
    "        return str(l).replace(\"'\",'')\n",
    "\n",
    "for sample in samples:\n",
    "    expr = list(sample.queries())[0][0].args[0]\n",
    "    expr = list2expr(pl2py(expr))\n",
    "    print('{} --> {}'.format(expr, eval(expr)))"
   ]
  },
  {
   "cell_type": "markdown",
   "metadata": {},
   "source": [
    "### Example: Rational Rules\n",
    "\n",
    "*Note*: this is an example that shows that Psychologists assumed that we learn concepts by combining logical concepts. Unfortunately such a deterministic rule based system did not genearlize well. Afterwards researchers turned towards probabilistic models that were able to predict behavioral data very well, but lacked compositional conceptual structure. The point of Church is that it combines both. We should be able to do the same in ProbLog, no?\n",
    "\n",
    "**TODO**: Isn't this a good application for ProbFoil? We could sample random DNF formulas but it is more interesting to learn a ProbLog theory directly from the given data."
   ]
  },
  {
   "cell_type": "code",
   "execution_count": null,
   "metadata": {
    "collapsed": true
   },
   "outputs": [],
   "source": []
  },
  {
   "cell_type": "markdown",
   "metadata": {},
   "source": [
    "## More Information\n",
    "\n",
    "See the  [ProbLog website](https://dtai.cs.kuleuven.be/problog)."
   ]
  }
 ],
 "metadata": {
  "kernelspec": {
   "display_name": "Python 3",
   "language": "python",
   "name": "python3"
  },
  "language_info": {
   "codemirror_mode": {
    "name": "ipython",
    "version": 3
   },
   "file_extension": ".py",
   "mimetype": "text/x-python",
   "name": "python",
   "nbconvert_exporter": "python",
   "pygments_lexer": "ipython3",
   "version": "3.4.3"
  }
 },
 "nbformat": 4,
 "nbformat_minor": 0
}
