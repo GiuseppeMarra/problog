{
 "cells": [
  {
   "cell_type": "markdown",
   "metadata": {},
   "source": [
    "# Learning as Conditional Inference"
   ]
  },
  {
   "cell_type": "markdown",
   "metadata": {},
   "source": [
    "March 2015  \n",
    "[Wannes Meert](mailto:wannes.meert@cs.kuleuven.be)  \n",
    "[Anton Dries](mailto:anton.dries@cs.kuleuven.be)\n",
    "\n",
    "Based on [Church](http://projects.csail.mit.edu/church/wiki/Church)'s [ProbMods book](https://probmods.org/learning-as-conditional-inference.html)."
   ]
  },
  {
   "cell_type": "code",
   "execution_count": 2,
   "metadata": {
    "collapsed": true
   },
   "outputs": [],
   "source": [
    "import sys, os\n",
    "\n",
    "sys.path.append(os.path.abspath('../..'))"
   ]
  },
  {
   "cell_type": "markdown",
   "metadata": {},
   "source": [
    "## Example: Learning About Coins\n",
    "\n",
    "This example computes the probability that it is a fair coin give a sequence of observations. What it computes is Bayes' rule:\n",
    "\\begin{equation*}\n",
    "    Pr(fair \\mid data) = \\frac{Pr(data \\mid fair) \\cdot Pr(fair)}{Pr(data)}\n",
    "\\end{equation*}\n",
    "\n",
    "with $Pr(data \\mid fair)$ the expression that is modelled by the ProbLog program. And $Pr(fair \\mid data)$ is asked for using the `query/1` and `evidence/2` predicates."
   ]
  },
  {
   "cell_type": "code",
   "execution_count": 23,
   "metadata": {
    "collapsed": false
   },
   "outputs": [
    {
     "name": "stdout",
     "output_type": "stream",
     "text": [
      "\tfair_coin : 0.9758137\n"
     ]
    }
   ],
   "source": [
    "%%script problog-cli.py\n",
    "\n",
    "%% Prior\n",
    "0.999::fair_coin.\n",
    "%% Normal and biased coin\n",
    "0.50::coin(h,T) ; 0.50::coin(t,T) :-   fair_coin.\n",
    "0.95::coin(h,T) ; 0.05::coin(t,T) :- \\+fair_coin.\n",
    "\n",
    "%% Probability of a sequence of coin tosses\n",
    "tosses(Cs) :- tosses(Cs,0).\n",
    "tosses([],T).\n",
    "tosses([C|R],T) :-\n",
    "    coin(C,T),\n",
    "    Tn is T + 1,\n",
    "    tosses(R,Tn).\n",
    "\n",
    "%% What is the observed sequence of coin tosses?\n",
    "evidence(tosses([h,h,h,h,h]), true).\n",
    "%evidence(tosses([h,h,h,h,h,h,h,h,h,h]), true).\n",
    "%evidence(tosses([h,h,h,h,h,h,h,h,h,h,h,h,h,h,h]), true).\n",
    "\n",
    "query(fair_coin)."
   ]
  },
  {
   "cell_type": "markdown",
   "metadata": {},
   "source": [
    "## Learning a Continuous Parameter\n",
    "\n",
    "Suppose that the probability of how much the coin is biased is a continuous number. What is the posterior distribution over this probability given a sequence of observations. This result can be used to update our prior belief over the bias of the coin."
   ]
  },
  {
   "cell_type": "code",
   "execution_count": 32,
   "metadata": {
    "collapsed": false
   },
   "outputs": [
    {
     "name": "stdout",
     "output_type": "stream",
     "text": [
      "\t   cw(0) : 0\n",
      "\tcw(0.25) : 0.00076923077\n",
      "\t cw(0.5) : 0.024615385\n",
      "\tcw(0.75) : 0.18692308\n",
      "\t cw(1.0) : 0.78769231\n"
     ]
    }
   ],
   "source": [
    "%%script problog-cli.py\n",
    "\n",
    "%% Uniform prior on coin weights (cw)\n",
    "%% Discretised for ProbLog (TODO: can we do better?)\n",
    "P::cw(0) ; P::cw(0.25) ; P::cw(0.5) ; P::cw(0.75) ; P::cw(1.0) :- P is 1.0/5.\n",
    "%% Normal and biased coin\n",
    "Ph::coin(h,T) ; Pt::coin(t,T) :- cw(Ph), Pt is 1.0-Ph.\n",
    "\n",
    "%% Probability of a sequence of coin tosses\n",
    "tosses(Cs) :- tosses(Cs,0).\n",
    "tosses([],T).\n",
    "tosses([C|R],T) :-\n",
    "    coin(C,T),\n",
    "    Tn is T + 1,\n",
    "    tosses(R,Tn).\n",
    "\n",
    "%% What is the observed sequence of coin tosses?\n",
    "evidence(tosses([h,h,h,h,h]), true).\n",
    "\n",
    "query(cw(V))."
   ]
  },
  {
   "cell_type": "markdown",
   "metadata": {},
   "source": [
    "### Bayesian Learning\n",
    "\n",
    "We can integrate Bayesian learning into the ProbLog system by combining ProbLog and Python.\n",
    "\n",
    "First, we can sample from a simple program to generate data:"
   ]
  },
  {
   "cell_type": "code",
   "execution_count": 1,
   "metadata": {
    "collapsed": false
   },
   "outputs": [
    {
     "name": "stdout",
     "output_type": "stream",
     "text": [
      "\r\n",
      "0.9::coin(h) ; 0.1::coin(t).\r\n",
      "\r\n",
      "query(coin(S)).\r\n",
      "\r\n"
     ]
    }
   ],
   "source": [
    "!cat biased_coin_sample.pl"
   ]
  },
  {
   "cell_type": "code",
   "execution_count": 30,
   "metadata": {
    "collapsed": false
   },
   "outputs": [
    {
     "name": "stdout",
     "output_type": "stream",
     "text": [
      "====================\r\n",
      "coin(h).\r\n",
      "% Probability: 0.9\r\n",
      "====================\r\n",
      "coin(h).\r\n",
      "% Probability: 0.9\r\n",
      "====================\r\n",
      "coin(h).\r\n",
      "% Probability: 0.9\r\n",
      "====================\r\n",
      "coin(h).\r\n",
      "% Probability: 0.9\r\n"
     ]
    }
   ],
   "source": [
    "!../../examples/example_sampling_alt.py -N 4 biased_coin_sample.pl"
   ]
  },
  {
   "cell_type": "markdown",
   "metadata": {},
   "source": [
    "Or we can sample a list of random length:"
   ]
  },
  {
   "cell_type": "code",
   "execution_count": 12,
   "metadata": {
    "collapsed": false
   },
   "outputs": [
    {
     "name": "stdout",
     "output_type": "stream",
     "text": [
      "\r\n",
      "0.9::coin(h,T) ; 0.1::coin(t,T).\r\n",
      "\r\n",
      "0.1::stop(T).\r\n",
      "\r\n",
      "tosses(C) :- tosses(C,0).\r\n",
      "tosses([],T) :- stop(T).\r\n",
      "tosses([H|R],T) :- \\+stop(T), coin(H,T), Tn is T+1, tosses(R,Tn).\r\n",
      "\r\n",
      "query(tosses(C)).\r\n",
      "\r\n"
     ]
    }
   ],
   "source": [
    "!cat biased_coin_sample2.pl"
   ]
  },
  {
   "cell_type": "code",
   "execution_count": 15,
   "metadata": {
    "collapsed": false
   },
   "outputs": [
    {
     "name": "stdout",
     "output_type": "stream",
     "text": [
      "====================\r\n",
      "tosses([h, h, h, h, h, h, h, h, t, h, h, h, h, h]).\r\n",
      "% Probability: 0.00022358488\r\n"
     ]
    }
   ],
   "source": [
    "!../../examples/example_sampling_alt.py -N 1 biased_coin_sample2.pl"
   ]
  },
  {
   "cell_type": "markdown",
   "metadata": {},
   "source": [
    "Then we can sample an increasing number of samples to apply the same Bayesian rule approach as above:\n",
    "\n",
    "**TODO**: Use Python output of ProbLog"
   ]
  },
  {
   "cell_type": "code",
   "execution_count": null,
   "metadata": {
    "collapsed": false
   },
   "outputs": [],
   "source": [
    "from problog.program import PrologString\n",
    "\n",
    "# TODO: integrate ProbLog better into Python\n",
    "#model = PrologString(\"\"\"\n",
    "model_str = \"\"\"\n",
    "P::cw(0); P::cw(0.125); P::cw(0.25); P::cw(0.375); P::cw(0.5); P::cw(0.625); P::cw(0.75);P::cw(0.875); P::cw(1.0) :- P is 1.0/9.\n",
    "Ph::coin(h,T) ; Pt::coin(t,T) :- cw(Ph), Pt is 1.0-Ph.\n",
    "\n",
    "tosses(Cs) :- tosses(Cs,0).\n",
    "tosses([],T).\n",
    "tosses([C|R],T) :-\n",
    "    coin(C,T),\n",
    "    Tn is T + 1,\n",
    "    tosses(R,Tn).\n",
    "\n",
    "query(cw(V)).\n",
    "\n",
    "\"\"\"\n",
    "\n",
    "sample_str = \"\"\"\n",
    "0.9::coin(h,T) ; 0.1::coin(t,T).\n",
    "\"\"\"\n",
    "\n",
    "results = []\n",
    "\n",
    "#for observed_data_size in [1, 3, 6, 10, 20, 30, 50, 70, 100]:\n",
    "for observed_data_size in [1]:\n",
    "    # TODO: grab sampled data from sample_str\n",
    "    observed_data = \"[h,t,t,h,h,h,t,h,h,t,h,h,h]\"\n",
    "    observation_str = \"evidence(tosses({})).\\n\".format(observed_data)\n",
    "    model = PrologString(model_str+observation_str)\n",
    "    #TODO: use 'model.evaluate()', why doesn't it work?\n",
    "    result = model.evaluate()\n",
    "    results.append(result)\n",
    "    print(result)\n",
    "\n",
    "#TODO: plot results"
   ]
  },
  {
   "cell_type": "markdown",
   "metadata": {},
   "source": [
    "### Beta prior\n",
    "\n"
   ]
  },
  {
   "cell_type": "markdown",
   "metadata": {},
   "source": [
    "The prior (discretized):"
   ]
  },
  {
   "cell_type": "code",
   "execution_count": 14,
   "metadata": {
    "collapsed": false
   },
   "outputs": [
    {
     "name": "stdout",
     "output_type": "stream",
     "text": [
      "\t   cw(0) : 0\n",
      "\tcw(0.25) : 0.26459401\n",
      "\t cw(0.5) : 3.523941\n",
      "\tcw(0.75) : 0.26459401\n",
      "\t cw(1.0) : 0\n"
     ]
    }
   ],
   "source": [
    "%%script problog-cli.py\n",
    "\n",
    ":- load_external('beta.py').\n",
    "\n",
    "%% Prior on coin weights (cw)\n",
    "%% TODO: make better/easier\n",
    "P0::cw(0) ; P25::cw(0.25) ; P50::cw(0.5) ; P75::cw(0.75) ; P100::cw(1.0) :-\n",
    "    call_external(beta_pdf(10,10,[0.0,0.25,0.50,0.75,1.00]), R),\n",
    "    [P0,P25,P50,P75,P100] = R.\n",
    "\n",
    "query(cw(V))."
   ]
  },
  {
   "cell_type": "markdown",
   "metadata": {},
   "source": [
    "The beta distribution is load from Python with:"
   ]
  },
  {
   "cell_type": "code",
   "execution_count": 1,
   "metadata": {
    "collapsed": false
   },
   "outputs": [
    {
     "name": "stdout",
     "output_type": "stream",
     "text": [
      "from scipy.stats import beta\r\n",
      "\r\n",
      "def beta_pdf(a, b, values):\r\n",
      "    pdf = beta.pdf(values, a, b)\r\n",
      "    return pdf.tolist()\r\n"
     ]
    }
   ],
   "source": [
    "!cat beta.py"
   ]
  },
  {
   "cell_type": "markdown",
   "metadata": {},
   "source": [
    "*The discretisation is ugly now.*\n",
    "\n",
    "**TODO**: figure out easier syntax/method\n",
    "\n",
    "<div style=\"background-color:#FB9496;margin:5px 0;padding:3px;\">Proposal:</div>\n",
    "\n",
    "    _::cw(_) :- call_external(beta_pdf(10,10,0.25), R), expandhead(R).\n",
    "\n",
    "- beta_pdf returns binary tuples [(prob,real)]\n",
    "- `expandhead/1` is a predicate that maps the head atom to the given list where the number of elements in a tuple match the underscores in the head atom.\n",
    "- How similar is this internally to `P::a :- P is 1/2.` ?\n"
   ]
  },
  {
   "cell_type": "markdown",
   "metadata": {},
   "source": [
    "And after observing evidence:"
   ]
  },
  {
   "cell_type": "code",
   "execution_count": 11,
   "metadata": {
    "collapsed": false
   },
   "outputs": [
    {
     "name": "stdout",
     "output_type": "stream",
     "text": [
      "\t   cw(0) : 0\n",
      "\tcw(0.25) : 0.0014921243\n",
      "\t cw(0.5) : 0.63592166\n",
      "\tcw(0.75) : 0.36258621\n",
      "\t cw(1.0) : 0\n"
     ]
    }
   ],
   "source": [
    "%%script problog-cli.py\n",
    "\n",
    ":- load_external('beta.py').\n",
    "\n",
    "%% Prior on coin weights (cw)\n",
    "P0::cw(0) ; P25::cw(0.25) ; P50::cw(0.5) ; P75::cw(0.75) ; P100::cw(1.0) :-\n",
    "    call_external(beta_pdf(10,10,[0.0,0.25,0.50,0.75,1.00]), R),\n",
    "    [P0,P25,P50,P75,P100] = R.\n",
    "\n",
    "%% Normal and biased coin\n",
    "Ph::coin(h,T) ; Pt::coin(t,T) :- cw(Ph), Pt is 1.0-Ph.\n",
    "\n",
    "%% Probability of a sequence of coin tosses\n",
    "tosses(Cs) :- tosses(Cs,0).\n",
    "tosses([],T).\n",
    "tosses([C|R],T) :-\n",
    "    coin(C,T),\n",
    "    Tn is T + 1,\n",
    "    tosses(R,Tn).\n",
    "\n",
    "%% What is the observed sequence of coin tosses?\n",
    "evidence(tosses([h,h,h,h,h]), true).\n",
    "\n",
    "query(cw(V))."
   ]
  },
  {
   "cell_type": "markdown",
   "metadata": {},
   "source": [
    "### Example: Estimating Causal Power\n",
    "\n",
    "..."
   ]
  },
  {
   "cell_type": "code",
   "execution_count": 19,
   "metadata": {
    "collapsed": false
   },
   "outputs": [
    {
     "name": "stdout",
     "output_type": "stream",
     "text": [
      "\t   cpw(0) : 0.03546988\n",
      "\tcpw(0.25) : 0.066048193\n",
      "\t cpw(0.5) : 0.13551807\n",
      "\tcpw(0.75) : 0.26946988\n",
      "\t cpw(1.0) : 0.49349398\n"
     ]
    }
   ],
   "source": [
    "%%script problog-cli.py\n",
    "\n",
    "%% causal power of C to cause E (prior)\n",
    "P::cpw(0) ; P::cpw(0.25) ; P::cpw(0.5) ; P::cpw(0.75) ; P::cpw(1.0) :- P is 1.0/5.\n",
    "%% background probability of E (prior)\n",
    "P::bw(0) ; P::bw(0.25) ; P::bw(0.5) ; P::bw(0.75) ; P::bw(1.0) :- P is 1.0/5.\n",
    "\n",
    "%P::cp(T) :- cpw(P).\n",
    "%P::b(T) :- bw(P).\n",
    "%e_if_c(C,T) :- cp(T), C=true.\n",
    "%e_if_c(C,T) :- b(T).\n",
    "\n",
    "P::e_if_c(C,T) :- cpw(P), C=true.\n",
    "P::e_if_c(C,T) :- bw(P).\n",
    "\n",
    "% TODO: represent as list?\n",
    "evidence(e_if_c(true,0),  true).\n",
    "evidence(e_if_c(true,1),  true).\n",
    "evidence(e_if_c(false,2), false).\n",
    "evidence(e_if_c(true,3),  true).\n",
    "\n",
    "\n",
    "query(cpw(V))."
   ]
  },
  {
   "cell_type": "markdown",
   "metadata": {},
   "source": [
    "We can express this more ProbLog like. This results in a much easier model to comprehend compared to Church:\n",
    "\n",
    "(Also slower, too many variables?)"
   ]
  },
  {
   "cell_type": "code",
   "execution_count": 21,
   "metadata": {
    "collapsed": false
   },
   "outputs": [
    {
     "name": "stdout",
     "output_type": "stream",
     "text": [
      "\t   cpw(0) : 0.03546988\n",
      "\tcpw(0.25) : 0.066048193\n",
      "\t cpw(0.5) : 0.13551807\n",
      "\tcpw(0.75) : 0.26946988\n",
      "\t cpw(1.0) : 0.49349398\n"
     ]
    }
   ],
   "source": [
    "%%script problog-cli.py\n",
    "\n",
    "%% causal power of C to cause E (prior)\n",
    "P::cpw(0) ; P::cpw(0.25) ; P::cpw(0.5) ; P::cpw(0.75) ; P::cpw(1.0) :- P is 1.0/5.\n",
    "%% background probability of E (prior)\n",
    "P::bw(0) ; P::bw(0.25) ; P::bw(0.5) ; P::bw(0.75) ; P::bw(1.0) :- P is 1.0/5.\n",
    "\n",
    "0.5::c(T). % Prior on c. Will not be important because fully observed.\n",
    "\n",
    "P::e(T) :- cpw(P), c(T).\n",
    "P::e(T) :- bw(P).\n",
    "\n",
    "% TODO: represent as list?\n",
    "evidence(c(0), true).\n",
    "evidence(e(0), true).\n",
    "evidence(e(1), true).\n",
    "evidence(c(1), true).\n",
    "evidence(e(2), false).\n",
    "evidence(c(2), false).\n",
    "evidence(e(3), true).\n",
    "evidence(c(3), true).\n",
    "\n",
    "query(cpw(V))."
   ]
  },
  {
   "cell_type": "markdown",
   "metadata": {},
   "source": [
    "## Grammar-based Concept Induction\n"
   ]
  },
  {
   "cell_type": "markdown",
   "metadata": {},
   "source": [
    "### Example: Inferring an Arithmetic Expression\n",
    "\n",
    "For this we would also integrate ProbLog and Python. ProbLog for the probabilistic reasoning, Python for the arithmetic expressions (note that in principle everything available in Python can be used)."
   ]
  },
  {
   "cell_type": "code",
   "execution_count": 43,
   "metadata": {
    "collapsed": false
   },
   "outputs": [
    {
     "name": "stdout",
     "output_type": "stream",
     "text": [
      "0.7::leaf(T).\r\n",
      "0.5::operator('+',T) ; 0.5::operator('-',T).\r\n",
      "Px::l('x',T); P::l(0,T) ; P::l(1,T) ; P::l(2,T) ; P::l(3,T) ; P::l(4,T) ; P::l(5,T) ; P::l(6,T) ; P::l(7,T) ; P::l(8,T) ; P::l(9,T) :- P is 0.5/10, Px is 0.5.\r\n",
      "\r\n",
      "expr(L) :- expr(L,0,Tr).\r\n",
      "expr([L,T],T,T) :- leaf(T), l(L,T).\r\n",
      "expr([L,[O,T],R],T,Tr) :-\r\n",
      "    \\+leaf(T), operator(O,T),\r\n",
      "    Tn1 is T+1, expr(L,Tn1,Tr1),\r\n",
      "    Tn2 is Tr1+1, expr(R,Tn2,Tr).\r\n",
      "\r\n",
      "query(expr(E)).\r\n",
      "\r\n"
     ]
    }
   ],
   "source": [
    "!cat arithmetic_expression_sample.pl"
   ]
  },
  {
   "cell_type": "code",
   "execution_count": 40,
   "metadata": {
    "collapsed": false
   },
   "outputs": [
    {
     "name": "stdout",
     "output_type": "stream",
     "text": [
      "====================\n",
      "expr(['x', 0]).\n",
      "% Probability: 0.35\n",
      "====================\n",
      "expr(['x', 0]).\n",
      "% Probability: 0.35\n",
      "====================\n",
      "expr([['x', 1], ['+', 0], [3, 2]]).\n",
      "% Probability: 0.0018375\n",
      "====================\n",
      "expr([[[5, 2], ['+', 1], [[[8, 5], ['-', 4], ['x', 6]], ['+', 3], ['x', 7]]], ['+', 0], [3, 8]]).\n",
      "% Probability: 2.6589199e-09\n"
     ]
    }
   ],
   "source": [
    "!../../examples/example_sampling_alt.py -N 4 arithmetic_expression_sample.pl"
   ]
  },
  {
   "cell_type": "markdown",
   "metadata": {},
   "source": [
    "**TODO**: Parse sampled expressions and filter those who evaluate to 3 for x=1."
   ]
  },
  {
   "cell_type": "markdown",
   "metadata": {},
   "source": [
    "### Example: Rational Rules\n",
    "\n",
    "*Note*: this is an example that shows that Psychologists assumed that we learn concepts by combining logical concepts. Unfortunately such a deterministic rule based system did not genearlize well. Afterwards researchers turned towards probabilistic models that were able to predict behavioral data very well, but lacked compositional conceptual structure. The point of Church is that it combines both. We should be able to do the same in ProbLog, no?\n",
    "\n",
    "**TODO**: Isn't this a good application for ProbFoil? We could sample random DNF formulas but it is more interesting to learn a ProbLog theory directly from the given data."
   ]
  },
  {
   "cell_type": "code",
   "execution_count": null,
   "metadata": {
    "collapsed": true
   },
   "outputs": [],
   "source": []
  },
  {
   "cell_type": "markdown",
   "metadata": {},
   "source": [
    "## More Information\n",
    "\n",
    "See the  [ProbLog website](https://dtai.cs.kuleuven.be/problog)."
   ]
  }
 ],
 "metadata": {
  "kernelspec": {
   "display_name": "Python 3",
   "language": "python",
   "name": "python3"
  },
  "language_info": {
   "codemirror_mode": {
    "name": "ipython",
    "version": 3
   },
   "file_extension": ".py",
   "mimetype": "text/x-python",
   "name": "python",
   "nbconvert_exporter": "python",
   "pygments_lexer": "ipython3",
   "version": "3.4.2"
  }
 },
 "nbformat": 4,
 "nbformat_minor": 0
}
