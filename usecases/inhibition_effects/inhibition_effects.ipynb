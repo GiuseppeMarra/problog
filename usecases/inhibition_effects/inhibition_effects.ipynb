{
 "cells": [
  {
   "cell_type": "markdown",
   "metadata": {},
   "source": [
    "# Inhibition effects in ProbLog\n",
    "\n",
    "An important goal of statistical relational learning formalisms is to develop representations that are compact and expressive but also easy to read and maintain. This is can be achieved by exploiting the modularity of rule-based structures and is related to the noisy-or structure where parents independently influence a joint effect. Typically, these rules are combined in an additive manner where a new rule increases the probability of the effect.\n",
    "\n",
    "In this example, we show a language feature for ProbLog, where we allow negation in the head of rules to express the inhibition of an effect in a modular manner. This is a generalization of the inhibited noisy-or structure that can deal with cycles and, foremost, is non-conflicting. It is a natural counterpart to the standard noisy-or.\n",
    "\n",
    "Such a rule looks like:\n",
    "\n",
    "    0.7::a :- cause_a.\n",
    "    0.4::\\+a :- inhibit_a.\n",
    "\n",
    "Based on:\n",
    "\n",
    "- Meert, Wannes, and Joost Vennekens. \"Inhibited effects in CP-logic.\" Probabilistic Graphical Models. Springer International Publishing, 2014. 350-365.\n"
   ]
  },
  {
   "cell_type": "code",
   "execution_count": 1,
   "metadata": {
    "collapsed": true
   },
   "outputs": [],
   "source": [
    "import sys, os\n",
    "sys.path.append(os.path.abspath('../../util'))\n",
    "%load_ext problog.magic"
   ]
  },
  {
   "cell_type": "markdown",
   "metadata": {},
   "source": [
    "## Example 1\n",
    "\n",
    "Suppose we want to express two independent causes `c1` and `c2` that make an outcome `e` more likely. This is the typical case for a **noisy-or** gate:"
   ]
  },
  {
   "cell_type": "code",
   "execution_count": 2,
   "metadata": {
    "collapsed": false
   },
   "outputs": [
    {
     "data": {
      "text/html": [
       "<table style=\"width:100%;\"><tr><th style=\"width:66%;\">Atom<th>Probability<tr><td>e<td><div class=\"progress-bar\" role=\"progressbar\" aria-valuenow=\"57.99999999999999\" aria-valuemin=\"0\" aria-valuemax=\"100\" style=\"text-align:left;width:57.99999999999999%;padding:3px;color:black;background-color:#9ac2f4;\">0.5800</div></table>"
      ]
     },
     "metadata": {},
     "output_type": "display_data"
    }
   ],
   "source": [
    "%%problog\n",
    "0.5::c1. 0.5::c2.\n",
    "\n",
    "0.3::e :- c1.\n",
    "0.4::e :- c2.\n",
    "            \n",
    "evidence(c1,true).\n",
    "evidence(c2,true).\n",
    "            \n",
    "query(e)."
   ]
  },
  {
   "cell_type": "markdown",
   "metadata": {},
   "source": [
    "In some cases, however, if both causes are present this reduces the likelihood of the effect happening. For example when the presence of a second drug blocks the impact of the original drug. In such a case we can use negated heads. Depending on the chosen probabilities the effect can be lower than the joint occurance of `c1` and `c2` or be lower then either `p1` or `p2`:"
   ]
  },
  {
   "cell_type": "code",
   "execution_count": 3,
   "metadata": {
    "collapsed": false,
    "scrolled": true
   },
   "outputs": [
    {
     "data": {
      "text/html": [
       "<table style=\"width:100%;\"><tr><th style=\"width:66%;\">Atom<th>Probability<tr><td>e<td><div class=\"progress-bar\" role=\"progressbar\" aria-valuenow=\"48.32\" aria-valuemin=\"0\" aria-valuemax=\"100\" style=\"text-align:left;width:48.32%;padding:3px;color:black;background-color:#9ac2f4;\">0.4832</div></table>"
      ]
     },
     "metadata": {},
     "output_type": "display_data"
    }
   ],
   "source": [
    "%%problog\n",
    "0.5::c1. 0.5::c2.\n",
    "\n",
    "0.3::e1 :- c1.\n",
    "0.2::\\+e1 :- c2.\n",
    "\n",
    "0.4::e2 :- c2.\n",
    "0.2::\\+e2 :- c1.\n",
    "\n",
    "e :- e1.\n",
    "e :- e2.\n",
    "\n",
    "evidence(c1,true).\n",
    "evidence(c2,true).\n",
    "         \n",
    "query(e)."
   ]
  },
  {
   "cell_type": "markdown",
   "metadata": {},
   "source": [
    "If, like in the example above, the effect is only present when both causes are present, we can simplify the theory to:"
   ]
  },
  {
   "cell_type": "code",
   "execution_count": 4,
   "metadata": {
    "collapsed": false
   },
   "outputs": [
    {
     "data": {
      "text/html": [
       "<table style=\"width:100%;\"><tr><th style=\"width:66%;\">Atom<th>Probability<tr><td>e<td><div class=\"progress-bar\" role=\"progressbar\" aria-valuenow=\"48.333372\" aria-valuemin=\"0\" aria-valuemax=\"100\" style=\"text-align:left;width:48.333372%;padding:3px;color:black;background-color:#9ac2f4;\">0.4833</div></table>"
      ]
     },
     "metadata": {},
     "output_type": "display_data"
    }
   ],
   "source": [
    "%%problog\n",
    "0.5::c1. 0.5::c2.\n",
    "\n",
    "0.3::e :- c1.\n",
    "0.4::e :- c2.\n",
    "            \n",
    "0.166666::\\+e :- c1, c2.\n",
    "\n",
    "evidence(c1,true).\n",
    "evidence(c2,true).\n",
    "         \n",
    "query(e)."
   ]
  },
  {
   "cell_type": "markdown",
   "metadata": {},
   "source": [
    "Note that this solution reduces the number of parameters but is less modular if we would want to extend the example to three causes (you need to change the rule with `c1,c2` instead of simply adding new rules)."
   ]
  },
  {
   "cell_type": "markdown",
   "metadata": {},
   "source": [
    "## Example 2\n",
    "\n",
    "An infectious disease spreads through a population as follows: when- ever two people are in regular contact with each other and one is infected, there is a probability of 0.6 of the infection spreading also to the other person. Given a set of initially infected people and a graph of connections between individuals in the population, the goal is to predict the spread of the disease."
   ]
  },
  {
   "cell_type": "code",
   "execution_count": 5,
   "metadata": {
    "collapsed": false
   },
   "outputs": [
    {
     "data": {
      "text/html": [
       "<table style=\"width:100%;\"><tr><th style=\"width:66%;\">Atom<th>Probability<tr><td>inf(a)<td><div class=\"progress-bar\" role=\"progressbar\" aria-valuenow=\"19.9234\" aria-valuemin=\"0\" aria-valuemax=\"100\" style=\"text-align:left;width:19.9234%;padding:3px;color:black;background-color:#9ac2f4;\">0.1992</div><tr><td>inf(b)<td><div class=\"progress-bar\" role=\"progressbar\" aria-valuenow=\"19.9234\" aria-valuemin=\"0\" aria-valuemax=\"100\" style=\"text-align:left;width:19.9234%;padding:3px;color:black;background-color:#9ac2f4;\">0.1992</div></table>"
      ]
     },
     "metadata": {},
     "output_type": "display_data"
    }
   ],
   "source": [
    "%%problog\n",
    "person(a).\n",
    "person(b).\n",
    "\n",
    "0.1::initialInf(X) :- person(X).\n",
    "0.1::inf(X) :- person(X).\n",
    "0.1::contact(X,Y) :- person(X), person(Y).\n",
    "\n",
    "inf(X)      :- initialInf(X).\n",
    "0.6::inf(X) :- contact(X, Y), inf(Y).\n",
    "            \n",
    "query(inf(_))."
   ]
  },
  {
   "cell_type": "markdown",
   "metadata": {},
   "source": [
    "Given any set of individuals and any interpretation for the exogenous predicates InitialInf and Contact, this ProbLog program defines the probability with which each individual will be infected. In particular, no restrictions (such as acyclicity) are imposed on the Contact-relation.\n",
    "\n",
    "In addition to representing probability distributions in a compact way, ProbLog also aims at being elaboration tolerant: once a program for a given domain has been constructed, it should be easy to adapt this theory when we learn new facts about the domain. Ideally, new knowledge should be incorporated in a way which respects the inherent modularity of CP-logic, in the sense that it may involve adding or removing rules, but not changing existing rules.\n",
    "\n",
    "One such operation for which ProbLog is obviously well-suited is when a new cause for some effect is discovered. For instance, suppose we learn that, in addition to being among the initially infected and having contact with in- fected individuals from the population, people may also contract the disease by travelling to particular locations (e.g., with probability 0.2). We can update our program accordingly, by simply adding an additional rule:"
   ]
  },
  {
   "cell_type": "code",
   "execution_count": 6,
   "metadata": {
    "collapsed": false
   },
   "outputs": [
    {
     "data": {
      "text/html": [
       "<table style=\"width:100%;\"><tr><th style=\"width:66%;\">Atom<th>Probability<tr><td>inf(a)<td><div class=\"progress-bar\" role=\"progressbar\" aria-valuenow=\"21.602089360000004\" aria-valuemin=\"0\" aria-valuemax=\"100\" style=\"text-align:left;width:21.602089360000004%;padding:3px;color:black;background-color:#9ac2f4;\">0.2160</div><tr><td>inf(b)<td><div class=\"progress-bar\" role=\"progressbar\" aria-valuenow=\"21.602089360000004\" aria-valuemin=\"0\" aria-valuemax=\"100\" style=\"text-align:left;width:21.602089360000004%;padding:3px;color:black;background-color:#9ac2f4;\">0.2160</div></table>"
      ]
     },
     "metadata": {},
     "output_type": "display_data"
    }
   ],
   "source": [
    "%%problog\n",
    "person(a).\n",
    "person(b).\n",
    "\n",
    "0.1::initialInf(X) :- person(X).\n",
    "0.1::inf(X) :- person(X).\n",
    "0.1::contact(X,Y) :- person(X), person(Y).\n",
    "0.1::riskyTravel(X) :- person(X).\n",
    "\n",
    "inf(X)      :- initialInf(X).\n",
    "0.6::inf(X) :- contact(X, Y), inf(Y).\n",
    "0.2::inf(X) :- riskyTravel(X).\n",
    "            \n",
    "query(inf(_))."
   ]
  },
  {
   "cell_type": "markdown",
   "metadata": {},
   "source": [
    "Importantly, there is no need to change our existing rules.\n",
    "\n",
    "A second operation is discovering that certain parts of the population form an exception to the general rules. For instance, suppose that certain people are discovered to be especially susceptible (e.g., probability 0.8) to contracting the disease through contact with an already infected person. We can represent this by “case splitting” rule (2) into the following two rules:"
   ]
  },
  {
   "cell_type": "code",
   "execution_count": 7,
   "metadata": {
    "collapsed": false
   },
   "outputs": [
    {
     "data": {
      "text/html": [
       "<table style=\"width:100%;\"><tr><th style=\"width:66%;\">Atom<th>Probability<tr><td>inf(a)<td><div class=\"progress-bar\" role=\"progressbar\" aria-valuenow=\"21.634825672\" aria-valuemin=\"0\" aria-valuemax=\"100\" style=\"text-align:left;width:21.634825672%;padding:3px;color:black;background-color:#9ac2f4;\">0.2163</div><tr><td>inf(b)<td><div class=\"progress-bar\" role=\"progressbar\" aria-valuenow=\"21.634825672\" aria-valuemin=\"0\" aria-valuemax=\"100\" style=\"text-align:left;width:21.634825672%;padding:3px;color:black;background-color:#9ac2f4;\">0.2163</div></table>"
      ]
     },
     "metadata": {},
     "output_type": "display_data"
    }
   ],
   "source": [
    "%%problog\n",
    "person(a).\n",
    "person(b).\n",
    "\n",
    "0.1::initialInf(X) :- person(X).\n",
    "0.1::inf(X) :- person(X).\n",
    "0.1::contact(X,Y) :- person(X), person(Y).\n",
    "0.1::riskyTravel(X) :- person(X).\n",
    "0.1::susceptible(X) :- person(X).\n",
    "\n",
    "inf(X)      :- initialInf(X).\n",
    "0.6::inf(X) :- contact(X, Y), inf(Y), \\+susceptible(X).\n",
    "0.8::inf(X) :- contact(X, Y), inf(Y),   susceptible(X).\n",
    "0.2::inf(X) :- riskyTravel(X).\n",
    "            \n",
    "query(inf(_))."
   ]
  },
  {
   "cell_type": "markdown",
   "metadata": {},
   "source": [
    "However, this solution has the downside that it forces us to change an existing rule. A better alternative is to exploit the additive nature of different causes for the same effect in ProbLog:"
   ]
  },
  {
   "cell_type": "code",
   "execution_count": 8,
   "metadata": {
    "collapsed": false
   },
   "outputs": [
    {
     "data": {
      "text/html": [
       "<table style=\"width:100%;\"><tr><th style=\"width:66%;\">Atom<th>Probability<tr><td>inf(a)<td><div class=\"progress-bar\" role=\"progressbar\" aria-valuenow=\"21.634825672\" aria-valuemin=\"0\" aria-valuemax=\"100\" style=\"text-align:left;width:21.634825672%;padding:3px;color:black;background-color:#9ac2f4;\">0.2163</div><tr><td>inf(b)<td><div class=\"progress-bar\" role=\"progressbar\" aria-valuenow=\"21.634825672\" aria-valuemin=\"0\" aria-valuemax=\"100\" style=\"text-align:left;width:21.634825672%;padding:3px;color:black;background-color:#9ac2f4;\">0.2163</div></table>"
      ]
     },
     "metadata": {},
     "output_type": "display_data"
    }
   ],
   "source": [
    "%%problog\n",
    "person(a).\n",
    "person(b).\n",
    "\n",
    "0.1::initialInf(X) :- person(X).\n",
    "0.1::inf(X) :- person(X).\n",
    "0.1::contact(X,Y) :- person(X), person(Y).\n",
    "0.1::riskyTravel(X) :- person(X).\n",
    "0.1::susceptible(X) :- person(X).\n",
    "\n",
    "inf(X)      :- initialInf(X).\n",
    "0.6::inf(X) :- contact(X, Y), inf(Y).\n",
    "0.5::inf(X) :- contact(X, Y), inf(Y),   susceptible(X).\n",
    "0.2::inf(X) :- riskyTravel(X).\n",
    "            \n",
    "query(inf(_))."
   ]
  },
  {
   "cell_type": "markdown",
   "metadata": {},
   "source": [
    "For non-susceptible individuals, only the first rule is applicable, so they still get infected with the same probability of 0.6 as before. The same rule of course also applies to susceptible individuals, whom the second rule then gives an *additional* probability of getting infected *because* they are susceptible. This brings their total probability of being infected up to 0.6 + (1 − 0.6) · 0.5 = 0.8. When compared to the “case splitting” theory, this representation has the advantage that it allows the “default” rule for normal people to remain unchanged.\n",
    "\n",
    "In addition to discovering that certain parts of the population are especially susceptible to the infection, it is equally possible to discover that certain people tend to be more resistant to it. Again, this can be solved by case splitting:"
   ]
  },
  {
   "cell_type": "code",
   "execution_count": 9,
   "metadata": {
    "collapsed": false
   },
   "outputs": [
    {
     "data": {
      "text/html": [
       "<table style=\"width:100%;\"><tr><th style=\"width:66%;\">Atom<th>Probability<tr><td>inf(a)<td><div class=\"progress-bar\" role=\"progressbar\" aria-valuenow=\"21.569353048\" aria-valuemin=\"0\" aria-valuemax=\"100\" style=\"text-align:left;width:21.569353048%;padding:3px;color:black;background-color:#9ac2f4;\">0.2157</div><tr><td>inf(b)<td><div class=\"progress-bar\" role=\"progressbar\" aria-valuenow=\"21.569353048000004\" aria-valuemin=\"0\" aria-valuemax=\"100\" style=\"text-align:left;width:21.569353048000004%;padding:3px;color:black;background-color:#9ac2f4;\">0.2157</div></table>"
      ]
     },
     "metadata": {},
     "output_type": "display_data"
    }
   ],
   "source": [
    "%%problog\n",
    "person(a).\n",
    "person(b).\n",
    "\n",
    "0.1::initialInf(X) :- person(X).\n",
    "0.1::inf(X) :- person(X).\n",
    "0.1::contact(X,Y) :- person(X), person(Y).\n",
    "0.1::riskyTravel(X) :- person(X).\n",
    "0.1::resistant(X) :- person(X).\n",
    "\n",
    "inf(X)      :- initialInf(X).\n",
    "0.6::inf(X) :- contact(X, Y), inf(Y), \\+resistant(X).\n",
    "0.4::inf(X) :- contact(X, Y), inf(Y),   resistant(X).\n",
    "0.2::inf(X) :- riskyTravel(X).\n",
    "            \n",
    "query(inf(_))."
   ]
  },
  {
   "cell_type": "markdown",
   "metadata": {},
   "source": [
    "A solution in which we can keep our original “default” rule unchanged is not possible using noisy-or or is not intuitive to impossible in current probabilistic logics. Indeed, this is an obvious consequence of the fact that adding additional rules can only increase probabilities. In this paper, we introduce the new feature of negation in the head of rules, which will allow us to represent also a decrease in probabilities. In particular, we will be able to represent our example as:"
   ]
  },
  {
   "cell_type": "code",
   "execution_count": 10,
   "metadata": {
    "collapsed": false
   },
   "outputs": [
    {
     "data": {
      "text/html": [
       "<table style=\"width:100%;\"><tr><th style=\"width:66%;\">Atom<th>Probability<tr><td>inf(a)<td><div class=\"progress-bar\" role=\"progressbar\" aria-valuenow=\"20.85788095755304\" aria-valuemin=\"0\" aria-valuemax=\"100\" style=\"text-align:left;width:20.85788095755304%;padding:3px;color:black;background-color:#9ac2f4;\">0.2086</div><tr><td>inf(b)<td><div class=\"progress-bar\" role=\"progressbar\" aria-valuenow=\"20.857880957553043\" aria-valuemin=\"0\" aria-valuemax=\"100\" style=\"text-align:left;width:20.857880957553043%;padding:3px;color:black;background-color:#9ac2f4;\">0.2086</div></table>"
      ]
     },
     "metadata": {},
     "output_type": "display_data"
    }
   ],
   "source": [
    "%%problog\n",
    "person(a).\n",
    "person(b).\n",
    "\n",
    "0.1::initialInf(X) :- person(X).\n",
    "0.1::inf(X) :- person(X).\n",
    "0.1::contact(X,Y) :- person(X), person(Y).\n",
    "0.1::riskyTravel(X) :- person(X).\n",
    "0.1::resistant(X) :- person(X).\n",
    "\n",
    "inf(X)         :- initialInf(X).\n",
    "0.6::inf(X)    :- contact(X, Y), inf(Y).\n",
    "0.33::\\+inf(X) :- resistant(X).\n",
    "0.2::inf(X)    :- riskyTravel(X).\n",
    "            \n",
    "query(inf(_))."
   ]
  },
  {
   "cell_type": "markdown",
   "metadata": {},
   "source": [
    "## More information\n",
    "\n",
    "https://dtai.cs.kuleuven.be/problog\n",
    "\n",
    "(c) 2015, DTAI, KU Leuven"
   ]
  }
 ],
 "metadata": {
  "kernelspec": {
   "display_name": "Python 3",
   "language": "python",
   "name": "python3"
  },
  "language_info": {
   "codemirror_mode": {
    "name": "ipython",
    "version": 3
   },
   "file_extension": ".py",
   "mimetype": "text/x-python",
   "name": "python",
   "nbconvert_exporter": "python",
   "pygments_lexer": "ipython3",
   "version": "3.4.3"
  }
 },
 "nbformat": 4,
 "nbformat_minor": 0
}
