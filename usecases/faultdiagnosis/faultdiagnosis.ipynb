{
 "cells": [
  {
   "cell_type": "markdown",
   "metadata": {},
   "source": [
    "# Fault Diagnosis using ProbLog"
   ]
  },
  {
   "cell_type": "markdown",
   "metadata": {},
   "source": [
    "March 2015  \n",
    "[Wannes Meert](mailto:wannes.meert@cs.kuleuven.be), DTAI Research Group, KU Leuven"
   ]
  },
  {
   "cell_type": "markdown",
   "metadata": {},
   "source": [
    "Models for fault diagnosis have been designed as tables (FMECA), trees (FTA) and probabilistic models (BayesNet). Where the tables and trees have the advantage that they allow for natural and complex interactions using logic, they lack in robust dealing with uncertainty. Probabilistic models on the other hand are good candidates to quantify uncertainty but are suboptimal to represent complex, logical interactions. ProbLog offers an intuitive and powerful language to combine both requirements.\n",
    "\n",
    "Advantages of Probabilstic Logic Languages like ProbLog:\n",
    "\n",
    "- Lower number of parameters/probabilities because of the expressive logic conditions\n",
    "- Allowed to express cycles (not supported in FMECA, FTA or BayesNet)\n",
    "- Type-level expressions (not supported in FMECA, FTA or BayesNet)"
   ]
  },
  {
   "cell_type": "markdown",
   "metadata": {},
   "source": [
    "*Document setup*: Code blocks starting with `%%script problog-cli.py` are run by piping the rest of the block into the `problog-cli.py` script available in the [ProbLog distribution](https://dtai.cs.kuleuven.be/problog)."
   ]
  },
  {
   "cell_type": "code",
   "execution_count": 70,
   "metadata": {
    "collapsed": true
   },
   "outputs": [],
   "source": [
    "from IPython.display import SVG"
   ]
  },
  {
   "cell_type": "markdown",
   "metadata": {},
   "source": [
    "## Fault Tree Analysis (FTA)"
   ]
  },
  {
   "cell_type": "markdown",
   "metadata": {},
   "source": [
    "(NASA, 1995) \"NASA Preferred Reliability Practices: Fault Tolerant Design\", Practice No. PD-ED-1246, JPL, September 21, 1995.\n",
    "\n",
    "(Bobbio et al., 2001) A. Bobbio, L. Portinale, M. Minichino, and E. Ciancamerla. Improving the analysis of dependable systems by mapping fault trees into bayesian networks. Reliability Engineering and System Safety, 71:249–260, 2001.\n",
    "\n",
    "(Przytule and Milford, 2006) K. Wojtek Przytula and R. Milford. An efficient framework for the conversion of fault trees to diagnostic bayesian network models. In Aerospace Conference, 2006 IEEE, pages 14–pp. IEEE, 2006.\n"
   ]
  },
  {
   "cell_type": "markdown",
   "metadata": {},
   "source": [
    "### Construction of Tree"
   ]
  },
  {
   "cell_type": "markdown",
   "metadata": {},
   "source": [
    "#### OR Gate"
   ]
  },
  {
   "cell_type": "markdown",
   "metadata": {},
   "source": [
    "Failure `c` occurs if either failure `a` or `b` occurs (Bobbio et al., 2001, Fig. 1)."
   ]
  },
  {
   "cell_type": "code",
   "execution_count": 33,
   "metadata": {
    "collapsed": true
   },
   "outputs": [],
   "source": [
    "%%script problog-cli.py\n",
    "c :- a.\n",
    "c :- b."
   ]
  },
  {
   "cell_type": "markdown",
   "metadata": {},
   "source": [
    "#### AND Gate"
   ]
  },
  {
   "cell_type": "markdown",
   "metadata": {},
   "source": [
    "Failure `c` occurs if both failure `a` and `b` occur (Bobbio et al., 2001, Fig. 1)."
   ]
  },
  {
   "cell_type": "code",
   "execution_count": 34,
   "metadata": {
    "collapsed": true
   },
   "outputs": [],
   "source": [
    "%%script problog-cli.py\n",
    "c :- a, b."
   ]
  },
  {
   "cell_type": "markdown",
   "metadata": {},
   "source": [
    "#### K:N Gate"
   ]
  },
  {
   "cell_type": "markdown",
   "metadata": {},
   "source": [
    "Failure `f` occurs if two (K) of the three (N) failures `a`, `b` and `c` occur (Bobbio et al., 2001, Fig. 2)."
   ]
  },
  {
   "cell_type": "code",
   "execution_count": 35,
   "metadata": {
    "collapsed": true
   },
   "outputs": [],
   "source": [
    "%%script problog-cli.py\n",
    "f :- a,b.\n",
    "f :- a,c.\n",
    "f :- b,c."
   ]
  },
  {
   "cell_type": "markdown",
   "metadata": {},
   "source": [
    "#### Example FTA"
   ]
  },
  {
   "cell_type": "markdown",
   "metadata": {},
   "source": [
    "Multiprocessor system (Bobbio et al., 2001, Fig. 4)."
   ]
  },
  {
   "cell_type": "code",
   "execution_count": 2,
   "metadata": {
    "collapsed": false
   },
   "outputs": [
    {
     "name": "stdout",
     "output_type": "stream",
     "text": [
      "\tfault : 0.70079489\n"
     ]
    }
   ],
   "source": [
    "%%script problog-cli.py\n",
    "% FTA\n",
    "fault :- s12.\n",
    "fault :- n.\n",
    "s12   :- s1, s2.\n",
    "s1    :- d(1).\n",
    "s1    :- m(13).\n",
    "s1    :- p(1).\n",
    "s2    :- d(2).\n",
    "s2    :- m(23).\n",
    "s2    :- p(2).\n",
    "d1    :- d(11), d(12).\n",
    "d2    :- d(21), d(22).\n",
    "m13   :- m(1),  m(3).\n",
    "m23   :- m(2),  m(3).\n",
    "    \n",
    "% Failure probabilities\n",
    "% Assume a mission time of 5000 hours\n",
    "mission_time(5000).\n",
    "% Define the failure rates of the components (f/h)\n",
    "failure_rate('processor', 5e-7).\n",
    "failure_rate('memorybank', 3e-8).\n",
    "failure_rate('bus', 2e-9).\n",
    "failure_rate('disk', 8e-5).\n",
    "\n",
    "P::fails(Component) :-\n",
    "  mission_time(T),\n",
    "  failure_rate(Component, FR),\n",
    "  P is FR*T.\n",
    "\n",
    "0.5::n.\n",
    "p(X) :- fails('processor').\n",
    "d(X) :- fails('disk').\n",
    "m(X) :- fails('memorybank').\n",
    "        \n",
    "% Probability of failure\n",
    "query(fault)."
   ]
  },
  {
   "cell_type": "markdown",
   "metadata": {},
   "source": [
    "The tree visualized (using Graphviz DOT) looks as follows:"
   ]
  },
  {
   "cell_type": "code",
   "execution_count": 81,
   "metadata": {
    "collapsed": false
   },
   "outputs": [],
   "source": [
    "%%script --out graph dot -Tsvg\n",
    "digraph G {\n",
    "  graph [resolution=64, fontsize=12];\n",
    "  s12 -> fault; n -> fault;\n",
    "  s1 -> s12; s2 -> s12;\n",
    "  d1 -> s1; m13 -> s1; p1 -> s1;\n",
    "  d2 -> s2; m23 -> s2; p2 -> s2;\n",
    "  d11 -> d1; d12 -> d1;\n",
    "  m1 -> m13; m3 -> m13;\n",
    "  d21 -> d2; d22 -> d2;\n",
    "  m2 -> m23; m3 -> m23;\n",
    "}"
   ]
  },
  {
   "cell_type": "code",
   "execution_count": 82,
   "metadata": {
    "collapsed": false
   },
   "outputs": [
    {
     "data": {
      "image/svg+xml": [
       "<svg height=\"295pt\" viewBox=\"0.00 0.00 494.00 332.00\" width=\"439pt\" xmlns=\"http://www.w3.org/2000/svg\" xmlns:xlink=\"http://www.w3.org/1999/xlink\">\n",
       "<g class=\"graph\" id=\"graph0\" transform=\"scale(0.888889 0.888889) rotate(0) translate(4 328)\">\n",
       "<title>G</title>\n",
       "<polygon fill=\"white\" points=\"-4,4 -4,-328 490,-328 490,4 -4,4\" stroke=\"none\"/>\n",
       "<!-- s12 -->\n",
       "<g class=\"node\" id=\"node1\"><title>s12</title>\n",
       "<ellipse cx=\"261\" cy=\"-90\" fill=\"none\" rx=\"27\" ry=\"18\" stroke=\"black\"/>\n",
       "<text font-family=\"Times,serif\" font-size=\"14.00\" text-anchor=\"middle\" x=\"261\" y=\"-86.3\">s12</text>\n",
       "</g>\n",
       "<!-- fault -->\n",
       "<g class=\"node\" id=\"node2\"><title>fault</title>\n",
       "<ellipse cx=\"225\" cy=\"-18\" fill=\"none\" rx=\"27.0966\" ry=\"18\" stroke=\"black\"/>\n",
       "<text font-family=\"Times,serif\" font-size=\"14.00\" text-anchor=\"middle\" x=\"225\" y=\"-14.3\">fault</text>\n",
       "</g>\n",
       "<!-- s12&#45;&gt;fault -->\n",
       "<g class=\"edge\" id=\"edge1\"><title>s12-&gt;fault</title>\n",
       "<path d=\"M252.65,-72.7646C248.288,-64.2831 242.853,-53.7144 237.959,-44.1974\" fill=\"none\" stroke=\"black\"/>\n",
       "<polygon fill=\"black\" points=\"240.99,-42.4395 233.304,-35.1473 234.765,-45.6409 240.99,-42.4395\" stroke=\"black\"/>\n",
       "</g>\n",
       "<!-- n -->\n",
       "<g class=\"node\" id=\"node3\"><title>n</title>\n",
       "<ellipse cx=\"189\" cy=\"-90\" fill=\"none\" rx=\"27\" ry=\"18\" stroke=\"black\"/>\n",
       "<text font-family=\"Times,serif\" font-size=\"14.00\" text-anchor=\"middle\" x=\"189\" y=\"-86.3\">n</text>\n",
       "</g>\n",
       "<!-- n&#45;&gt;fault -->\n",
       "<g class=\"edge\" id=\"edge2\"><title>n-&gt;fault</title>\n",
       "<path d=\"M197.35,-72.7646C201.712,-64.2831 207.147,-53.7144 212.041,-44.1974\" fill=\"none\" stroke=\"black\"/>\n",
       "<polygon fill=\"black\" points=\"215.235,-45.6409 216.696,-35.1473 209.01,-42.4395 215.235,-45.6409\" stroke=\"black\"/>\n",
       "</g>\n",
       "<!-- s1 -->\n",
       "<g class=\"node\" id=\"node4\"><title>s1</title>\n",
       "<ellipse cx=\"207\" cy=\"-162\" fill=\"none\" rx=\"27\" ry=\"18\" stroke=\"black\"/>\n",
       "<text font-family=\"Times,serif\" font-size=\"14.00\" text-anchor=\"middle\" x=\"207\" y=\"-158.3\">s1</text>\n",
       "</g>\n",
       "<!-- s1&#45;&gt;s12 -->\n",
       "<g class=\"edge\" id=\"edge3\"><title>s1-&gt;s12</title>\n",
       "<path d=\"M218.984,-145.465C225.976,-136.402 234.936,-124.786 242.785,-114.612\" fill=\"none\" stroke=\"black\"/>\n",
       "<polygon fill=\"black\" points=\"245.712,-116.548 249.049,-106.492 240.17,-112.272 245.712,-116.548\" stroke=\"black\"/>\n",
       "</g>\n",
       "<!-- s2 -->\n",
       "<g class=\"node\" id=\"node5\"><title>s2</title>\n",
       "<ellipse cx=\"351\" cy=\"-162\" fill=\"none\" rx=\"27\" ry=\"18\" stroke=\"black\"/>\n",
       "<text font-family=\"Times,serif\" font-size=\"14.00\" text-anchor=\"middle\" x=\"351\" y=\"-158.3\">s2</text>\n",
       "</g>\n",
       "<!-- s2&#45;&gt;s12 -->\n",
       "<g class=\"edge\" id=\"edge4\"><title>s2-&gt;s12</title>\n",
       "<path d=\"M334.072,-147.834C320.495,-137.274 301.243,-122.3 285.908,-110.373\" fill=\"none\" stroke=\"black\"/>\n",
       "<polygon fill=\"black\" points=\"287.895,-107.484 277.852,-104.107 283.597,-113.01 287.895,-107.484\" stroke=\"black\"/>\n",
       "</g>\n",
       "<!-- d1 -->\n",
       "<g class=\"node\" id=\"node6\"><title>d1</title>\n",
       "<ellipse cx=\"99\" cy=\"-234\" fill=\"none\" rx=\"27\" ry=\"18\" stroke=\"black\"/>\n",
       "<text font-family=\"Times,serif\" font-size=\"14.00\" text-anchor=\"middle\" x=\"99\" y=\"-230.3\">d1</text>\n",
       "</g>\n",
       "<!-- d1&#45;&gt;s1 -->\n",
       "<g class=\"edge\" id=\"edge5\"><title>d1-&gt;s1</title>\n",
       "<path d=\"M117.812,-220.807C135.002,-209.665 160.618,-193.062 179.993,-180.504\" fill=\"none\" stroke=\"black\"/>\n",
       "<polygon fill=\"black\" points=\"181.916,-183.429 188.403,-175.053 178.108,-177.555 181.916,-183.429\" stroke=\"black\"/>\n",
       "</g>\n",
       "<!-- m13 -->\n",
       "<g class=\"node\" id=\"node7\"><title>m13</title>\n",
       "<ellipse cx=\"171\" cy=\"-234\" fill=\"none\" rx=\"27\" ry=\"18\" stroke=\"black\"/>\n",
       "<text font-family=\"Times,serif\" font-size=\"14.00\" text-anchor=\"middle\" x=\"171\" y=\"-230.3\">m13</text>\n",
       "</g>\n",
       "<!-- m13&#45;&gt;s1 -->\n",
       "<g class=\"edge\" id=\"edge6\"><title>m13-&gt;s1</title>\n",
       "<path d=\"M179.35,-216.765C183.712,-208.283 189.147,-197.714 194.041,-188.197\" fill=\"none\" stroke=\"black\"/>\n",
       "<polygon fill=\"black\" points=\"197.235,-189.641 198.696,-179.147 191.01,-186.439 197.235,-189.641\" stroke=\"black\"/>\n",
       "</g>\n",
       "<!-- p1 -->\n",
       "<g class=\"node\" id=\"node8\"><title>p1</title>\n",
       "<ellipse cx=\"243\" cy=\"-234\" fill=\"none\" rx=\"27\" ry=\"18\" stroke=\"black\"/>\n",
       "<text font-family=\"Times,serif\" font-size=\"14.00\" text-anchor=\"middle\" x=\"243\" y=\"-230.3\">p1</text>\n",
       "</g>\n",
       "<!-- p1&#45;&gt;s1 -->\n",
       "<g class=\"edge\" id=\"edge7\"><title>p1-&gt;s1</title>\n",
       "<path d=\"M234.65,-216.765C230.288,-208.283 224.853,-197.714 219.959,-188.197\" fill=\"none\" stroke=\"black\"/>\n",
       "<polygon fill=\"black\" points=\"222.99,-186.439 215.304,-179.147 216.765,-189.641 222.99,-186.439\" stroke=\"black\"/>\n",
       "</g>\n",
       "<!-- d2 -->\n",
       "<g class=\"node\" id=\"node9\"><title>d2</title>\n",
       "<ellipse cx=\"387\" cy=\"-234\" fill=\"none\" rx=\"27\" ry=\"18\" stroke=\"black\"/>\n",
       "<text font-family=\"Times,serif\" font-size=\"14.00\" text-anchor=\"middle\" x=\"387\" y=\"-230.3\">d2</text>\n",
       "</g>\n",
       "<!-- d2&#45;&gt;s2 -->\n",
       "<g class=\"edge\" id=\"edge8\"><title>d2-&gt;s2</title>\n",
       "<path d=\"M378.65,-216.765C374.288,-208.283 368.853,-197.714 363.959,-188.197\" fill=\"none\" stroke=\"black\"/>\n",
       "<polygon fill=\"black\" points=\"366.99,-186.439 359.304,-179.147 360.765,-189.641 366.99,-186.439\" stroke=\"black\"/>\n",
       "</g>\n",
       "<!-- m23 -->\n",
       "<g class=\"node\" id=\"node10\"><title>m23</title>\n",
       "<ellipse cx=\"315\" cy=\"-234\" fill=\"none\" rx=\"27\" ry=\"18\" stroke=\"black\"/>\n",
       "<text font-family=\"Times,serif\" font-size=\"14.00\" text-anchor=\"middle\" x=\"315\" y=\"-230.3\">m23</text>\n",
       "</g>\n",
       "<!-- m23&#45;&gt;s2 -->\n",
       "<g class=\"edge\" id=\"edge9\"><title>m23-&gt;s2</title>\n",
       "<path d=\"M323.35,-216.765C327.712,-208.283 333.147,-197.714 338.041,-188.197\" fill=\"none\" stroke=\"black\"/>\n",
       "<polygon fill=\"black\" points=\"341.235,-189.641 342.696,-179.147 335.01,-186.439 341.235,-189.641\" stroke=\"black\"/>\n",
       "</g>\n",
       "<!-- p2 -->\n",
       "<g class=\"node\" id=\"node11\"><title>p2</title>\n",
       "<ellipse cx=\"459\" cy=\"-234\" fill=\"none\" rx=\"27\" ry=\"18\" stroke=\"black\"/>\n",
       "<text font-family=\"Times,serif\" font-size=\"14.00\" text-anchor=\"middle\" x=\"459\" y=\"-230.3\">p2</text>\n",
       "</g>\n",
       "<!-- p2&#45;&gt;s2 -->\n",
       "<g class=\"edge\" id=\"edge10\"><title>p2-&gt;s2</title>\n",
       "<path d=\"M440.188,-220.807C422.998,-209.665 397.382,-193.062 378.007,-180.504\" fill=\"none\" stroke=\"black\"/>\n",
       "<polygon fill=\"black\" points=\"379.892,-177.555 369.597,-175.053 376.084,-183.429 379.892,-177.555\" stroke=\"black\"/>\n",
       "</g>\n",
       "<!-- d11 -->\n",
       "<g class=\"node\" id=\"node12\"><title>d11</title>\n",
       "<ellipse cx=\"27\" cy=\"-306\" fill=\"none\" rx=\"27\" ry=\"18\" stroke=\"black\"/>\n",
       "<text font-family=\"Times,serif\" font-size=\"14.00\" text-anchor=\"middle\" x=\"27\" y=\"-302.3\">d11</text>\n",
       "</g>\n",
       "<!-- d11&#45;&gt;d1 -->\n",
       "<g class=\"edge\" id=\"edge11\"><title>d11-&gt;d1</title>\n",
       "<path d=\"M41.5703,-290.834C51.7499,-280.938 65.5239,-267.546 77.0306,-256.359\" fill=\"none\" stroke=\"black\"/>\n",
       "<polygon fill=\"black\" points=\"79.4741,-258.865 84.2043,-249.385 74.5945,-253.846 79.4741,-258.865\" stroke=\"black\"/>\n",
       "</g>\n",
       "<!-- d12 -->\n",
       "<g class=\"node\" id=\"node13\"><title>d12</title>\n",
       "<ellipse cx=\"99\" cy=\"-306\" fill=\"none\" rx=\"27\" ry=\"18\" stroke=\"black\"/>\n",
       "<text font-family=\"Times,serif\" font-size=\"14.00\" text-anchor=\"middle\" x=\"99\" y=\"-302.3\">d12</text>\n",
       "</g>\n",
       "<!-- d12&#45;&gt;d1 -->\n",
       "<g class=\"edge\" id=\"edge12\"><title>d12-&gt;d1</title>\n",
       "<path d=\"M99,-287.697C99,-279.983 99,-270.712 99,-262.112\" fill=\"none\" stroke=\"black\"/>\n",
       "<polygon fill=\"black\" points=\"102.5,-262.104 99,-252.104 95.5001,-262.104 102.5,-262.104\" stroke=\"black\"/>\n",
       "</g>\n",
       "<!-- m1 -->\n",
       "<g class=\"node\" id=\"node14\"><title>m1</title>\n",
       "<ellipse cx=\"171\" cy=\"-306\" fill=\"none\" rx=\"27\" ry=\"18\" stroke=\"black\"/>\n",
       "<text font-family=\"Times,serif\" font-size=\"14.00\" text-anchor=\"middle\" x=\"171\" y=\"-302.3\">m1</text>\n",
       "</g>\n",
       "<!-- m1&#45;&gt;m13 -->\n",
       "<g class=\"edge\" id=\"edge13\"><title>m1-&gt;m13</title>\n",
       "<path d=\"M171,-287.697C171,-279.983 171,-270.712 171,-262.112\" fill=\"none\" stroke=\"black\"/>\n",
       "<polygon fill=\"black\" points=\"174.5,-262.104 171,-252.104 167.5,-262.104 174.5,-262.104\" stroke=\"black\"/>\n",
       "</g>\n",
       "<!-- m3 -->\n",
       "<g class=\"node\" id=\"node15\"><title>m3</title>\n",
       "<ellipse cx=\"243\" cy=\"-306\" fill=\"none\" rx=\"27\" ry=\"18\" stroke=\"black\"/>\n",
       "<text font-family=\"Times,serif\" font-size=\"14.00\" text-anchor=\"middle\" x=\"243\" y=\"-302.3\">m3</text>\n",
       "</g>\n",
       "<!-- m3&#45;&gt;m13 -->\n",
       "<g class=\"edge\" id=\"edge14\"><title>m3-&gt;m13</title>\n",
       "<path d=\"M228.43,-290.834C218.25,-280.938 204.476,-267.546 192.969,-256.359\" fill=\"none\" stroke=\"black\"/>\n",
       "<polygon fill=\"black\" points=\"195.405,-253.846 185.796,-249.385 190.526,-258.865 195.405,-253.846\" stroke=\"black\"/>\n",
       "</g>\n",
       "<!-- m3&#45;&gt;m23 -->\n",
       "<g class=\"edge\" id=\"edge18\"><title>m3-&gt;m23</title>\n",
       "<path d=\"M257.57,-290.834C267.75,-280.938 281.524,-267.546 293.031,-256.359\" fill=\"none\" stroke=\"black\"/>\n",
       "<polygon fill=\"black\" points=\"295.474,-258.865 300.204,-249.385 290.595,-253.846 295.474,-258.865\" stroke=\"black\"/>\n",
       "</g>\n",
       "<!-- d21 -->\n",
       "<g class=\"node\" id=\"node16\"><title>d21</title>\n",
       "<ellipse cx=\"387\" cy=\"-306\" fill=\"none\" rx=\"27\" ry=\"18\" stroke=\"black\"/>\n",
       "<text font-family=\"Times,serif\" font-size=\"14.00\" text-anchor=\"middle\" x=\"387\" y=\"-302.3\">d21</text>\n",
       "</g>\n",
       "<!-- d21&#45;&gt;d2 -->\n",
       "<g class=\"edge\" id=\"edge15\"><title>d21-&gt;d2</title>\n",
       "<path d=\"M387,-287.697C387,-279.983 387,-270.712 387,-262.112\" fill=\"none\" stroke=\"black\"/>\n",
       "<polygon fill=\"black\" points=\"390.5,-262.104 387,-252.104 383.5,-262.104 390.5,-262.104\" stroke=\"black\"/>\n",
       "</g>\n",
       "<!-- d22 -->\n",
       "<g class=\"node\" id=\"node17\"><title>d22</title>\n",
       "<ellipse cx=\"459\" cy=\"-306\" fill=\"none\" rx=\"27\" ry=\"18\" stroke=\"black\"/>\n",
       "<text font-family=\"Times,serif\" font-size=\"14.00\" text-anchor=\"middle\" x=\"459\" y=\"-302.3\">d22</text>\n",
       "</g>\n",
       "<!-- d22&#45;&gt;d2 -->\n",
       "<g class=\"edge\" id=\"edge16\"><title>d22-&gt;d2</title>\n",
       "<path d=\"M444.43,-290.834C434.25,-280.938 420.476,-267.546 408.969,-256.359\" fill=\"none\" stroke=\"black\"/>\n",
       "<polygon fill=\"black\" points=\"411.405,-253.846 401.796,-249.385 406.526,-258.865 411.405,-253.846\" stroke=\"black\"/>\n",
       "</g>\n",
       "<!-- m2 -->\n",
       "<g class=\"node\" id=\"node18\"><title>m2</title>\n",
       "<ellipse cx=\"315\" cy=\"-306\" fill=\"none\" rx=\"27\" ry=\"18\" stroke=\"black\"/>\n",
       "<text font-family=\"Times,serif\" font-size=\"14.00\" text-anchor=\"middle\" x=\"315\" y=\"-302.3\">m2</text>\n",
       "</g>\n",
       "<!-- m2&#45;&gt;m23 -->\n",
       "<g class=\"edge\" id=\"edge17\"><title>m2-&gt;m23</title>\n",
       "<path d=\"M315,-287.697C315,-279.983 315,-270.712 315,-262.112\" fill=\"none\" stroke=\"black\"/>\n",
       "<polygon fill=\"black\" points=\"318.5,-262.104 315,-252.104 311.5,-262.104 318.5,-262.104\" stroke=\"black\"/>\n",
       "</g>\n",
       "</g>\n",
       "</svg>"
      ],
      "text/plain": [
       "<IPython.core.display.SVG object>"
      ]
     },
     "execution_count": 82,
     "metadata": {},
     "output_type": "execute_result"
    }
   ],
   "source": [
    "SVG(graph)"
   ]
  },
  {
   "cell_type": "markdown",
   "metadata": {},
   "source": [
    "#### AND gate with Common Cause Failure (CCF)"
   ]
  },
  {
   "cell_type": "markdown",
   "metadata": {},
   "source": [
    "AND gate with some common cause failure, or 'leak probability' of 0.01 (Bobbio et al., 2001, Fig. 5)."
   ]
  },
  {
   "cell_type": "code",
   "execution_count": 3,
   "metadata": {
    "collapsed": false
   },
   "outputs": [
    {
     "name": "stdout",
     "output_type": "stream",
     "text": [
      "\ta : 0.01\n"
     ]
    }
   ],
   "source": [
    "%%script problog-cli.py\n",
    "a :- b,c.\n",
    "0.01::a.\n",
    "\n",
    "0.5::b. evidence(b,false).\n",
    "0.5::c. evidence(c,false).\n",
    "query(a)."
   ]
  },
  {
   "cell_type": "markdown",
   "metadata": {},
   "source": [
    "#### Inhibit gate"
   ]
  },
  {
   "cell_type": "markdown",
   "metadata": {},
   "source": [
    "Inhibit gate that states that `a` cannot occur if `c` is true, irrespective of `b`."
   ]
  },
  {
   "cell_type": "code",
   "execution_count": 6,
   "metadata": {
    "collapsed": false
   },
   "outputs": [
    {
     "name": "stdout",
     "output_type": "stream",
     "text": [
      "\ta : 0\n"
     ]
    }
   ],
   "source": [
    "%%script problog-cli.py\n",
    "a :- b.\n",
    "1.0::\\+a :- c.\n",
    "\n",
    "0.5::b. evidence(b,true).\n",
    "0.5::c. evidence(c,true).\n",
    "query(a)."
   ]
  },
  {
   "cell_type": "markdown",
   "metadata": {},
   "source": [
    "#### Any other possible Gate"
   ]
  },
  {
   "cell_type": "markdown",
   "metadata": {},
   "source": [
    "In fact, you can make any failure propagation probabilistic and dependent on different types of causes:"
   ]
  },
  {
   "cell_type": "markdown",
   "metadata": {},
   "source": [
    "For example, a **noisy-OR Gate** (with a leak probability):"
   ]
  },
  {
   "cell_type": "code",
   "execution_count": 7,
   "metadata": {
    "collapsed": false
   },
   "outputs": [
    {
     "name": "stdout",
     "output_type": "stream",
     "text": [
      "\ta : 0.91\n"
     ]
    }
   ],
   "source": [
    "%%script problog-cli.py\n",
    "0.9::a :- b.\n",
    "0.9::a :- c.\n",
    "0.1::a.\n",
    "\n",
    "0.5::b. evidence(b,false).\n",
    "0.5::c. evidence(c,true).\n",
    "query(a)."
   ]
  },
  {
   "cell_type": "markdown",
   "metadata": {},
   "source": [
    "Another example is a **noisy XOR gate** could be modelled as follows (if either failure `b` or `c` occur the probability of a failure is large but if none or both occur, the probability is low):"
   ]
  },
  {
   "cell_type": "code",
   "execution_count": 5,
   "metadata": {
    "collapsed": false
   },
   "outputs": [
    {
     "name": "stdout",
     "output_type": "stream",
     "text": [
      "\ta : 0.9\n"
     ]
    }
   ],
   "source": [
    "%%script problog-cli.py\n",
    "0.1::a :-   b,  c.\n",
    "0.9::a :-   b,\\+c.\n",
    "0.9::a :- \\+b,  c.\n",
    "0.1::a :- \\+b,\\+c.\n",
    "\n",
    "0.5::b. evidence(b,false).\n",
    "0.5::c. evidence(c,true).\n",
    "query(a)."
   ]
  },
  {
   "cell_type": "markdown",
   "metadata": {},
   "source": [
    "## Extensions from Probabilistic Graphical Models"
   ]
  },
  {
   "cell_type": "markdown",
   "metadata": {},
   "source": [
    "Probabilistic Graphical Models (e.g. Bayesian networks) are a generalization what can be expressed using an FTA. The have become rather popular because efficient algorithms were developed over the past decades that removes a lot of the restrictions present in models such as FTA. For example the restriction that the structure needs to be a tree is not required any more (the complexity for PGMs is now defined by the treewidth of the equivalent tree)."
   ]
  },
  {
   "cell_type": "markdown",
   "metadata": {},
   "source": [
    "#### Example FTA, extended"
   ]
  },
  {
   "cell_type": "markdown",
   "metadata": {},
   "source": [
    "Multiprocessor system with power supply (Bobbio et al., 2001, Fig. 6).\n",
    "\n",
    "The power supply is a multi-valied variables with values `correct`, `defective`, and `failed`.\n",
    "\n",
    "The power supply influences multiple levels of the FTA, which is not allowed in the FTA formalism but can be expressed in Bayesian networks or ProbLog."
   ]
  },
  {
   "cell_type": "code",
   "execution_count": 4,
   "metadata": {
    "collapsed": false
   },
   "outputs": [
    {
     "name": "stdout",
     "output_type": "stream",
     "text": [
      "\tfault : 0.82047693\n"
     ]
    }
   ],
   "source": [
    "%%script problog-cli.py\n",
    "% FTA\n",
    "fault :- s12.\n",
    "fault :- n.\n",
    "s12   :- s1, s2.\n",
    "s1    :- d(1).\n",
    "s1    :- m(13).\n",
    "s1    :- p(1).\n",
    "s2    :- d(2).\n",
    "s2    :- m(23).\n",
    "s2    :- p(2).\n",
    "d1    :- d(11), d(12).\n",
    "d2    :- d(21), d(22).\n",
    "m13   :- m(1),  m(3).\n",
    "m23   :- m(2),  m(3).\n",
    "\n",
    "% Failure probabilities\n",
    "% Assume a mission time of 5000 hours\n",
    "mission_time(5000).\n",
    "% Define the failure rates of the components (f/h)\n",
    "failure_rate('processor', 5e-7).\n",
    "failure_rate('memorybank', 3e-8).\n",
    "failure_rate('bus', 2e-9).\n",
    "failure_rate('disk', 8e-5).\n",
    "\n",
    "P::fails(Component) :-\n",
    "  mission_time(T),\n",
    "  failure_rate(Component, FR),\n",
    "  P is FR*T.\n",
    "\n",
    "0.5::n.\n",
    "p(X) :- fails('processor').\n",
    "ps   :- fails('powersupply').\n",
    "d(X) :- fails('disk').\n",
    "m(X) :- fails('memorybank').\n",
    "\n",
    "% Power supply failure\n",
    "0.1::fault :- ps(defective).\n",
    "fault :- ps(failed).\n",
    "\n",
    "0.1::p(X) :- ps(defective).\n",
    "p(X) :- ps(failed).\n",
    "\n",
    "failure_rate('powersupply', 8e-5).\n",
    "ps(failed) :- fails('powersupply').\n",
    "ps(defective) :- fails('powersupply').\n",
    "        \n",
    "% Probability of failure\n",
    "query(fault)."
   ]
  },
  {
   "cell_type": "markdown",
   "metadata": {},
   "source": [
    "When we visualize this 'FTA', you can see that there are now connections that span multiple levels. As a result this is a graph and not a tree. Traditional FTA techniques cannot handle graphs, fortunately probabilistic graphical models can and ProbLog computes a result in a fraction of a second."
   ]
  },
  {
   "cell_type": "code",
   "execution_count": 84,
   "metadata": {
    "collapsed": true
   },
   "outputs": [],
   "source": [
    "%%script --out graph dot -Tsvg\n",
    "digraph G {\n",
    "  graph [resolution=64, fontsize=12];\n",
    "  s12 -> fault; n -> fault; ps -> fault;\n",
    "  ps -> p1; ps -> p2;\n",
    "  s1 -> s12; s2 -> s12;\n",
    "  d1 -> s1; m13 -> s1; p1 -> s1;\n",
    "  d2 -> s2; m23 -> s2; p2 -> s2;\n",
    "  d11 -> d1; d12 -> d1;\n",
    "  m1 -> m13; m3 -> m13;\n",
    "  d21 -> d2; d22 -> d2;\n",
    "  m2 -> m23; m3 -> m23;\n",
    "}"
   ]
  },
  {
   "cell_type": "code",
   "execution_count": 85,
   "metadata": {
    "collapsed": false
   },
   "outputs": [
    {
     "data": {
      "image/svg+xml": [
       "<svg height=\"295pt\" viewBox=\"0.00 0.00 585.00 332.00\" width=\"520pt\" xmlns=\"http://www.w3.org/2000/svg\" xmlns:xlink=\"http://www.w3.org/1999/xlink\">\n",
       "<g class=\"graph\" id=\"graph0\" transform=\"scale(0.888889 0.888889) rotate(0) translate(4 328)\">\n",
       "<title>G</title>\n",
       "<polygon fill=\"white\" points=\"-4,4 -4,-328 581,-328 581,4 -4,4\" stroke=\"none\"/>\n",
       "<!-- s12 -->\n",
       "<g class=\"node\" id=\"node1\"><title>s12</title>\n",
       "<ellipse cx=\"262\" cy=\"-90\" fill=\"none\" rx=\"27\" ry=\"18\" stroke=\"black\"/>\n",
       "<text font-family=\"Times,serif\" font-size=\"14.00\" text-anchor=\"middle\" x=\"262\" y=\"-86.3\">s12</text>\n",
       "</g>\n",
       "<!-- fault -->\n",
       "<g class=\"node\" id=\"node2\"><title>fault</title>\n",
       "<ellipse cx=\"190\" cy=\"-18\" fill=\"none\" rx=\"27.0966\" ry=\"18\" stroke=\"black\"/>\n",
       "<text font-family=\"Times,serif\" font-size=\"14.00\" text-anchor=\"middle\" x=\"190\" y=\"-14.3\">fault</text>\n",
       "</g>\n",
       "<!-- s12&#45;&gt;fault -->\n",
       "<g class=\"edge\" id=\"edge1\"><title>s12-&gt;fault</title>\n",
       "<path d=\"M247.43,-74.8345C237.25,-64.9376 223.476,-51.5462 211.969,-40.3591\" fill=\"none\" stroke=\"black\"/>\n",
       "<polygon fill=\"black\" points=\"214.405,-37.8461 204.796,-33.3847 209.526,-42.865 214.405,-37.8461\" stroke=\"black\"/>\n",
       "</g>\n",
       "<!-- n -->\n",
       "<g class=\"node\" id=\"node3\"><title>n</title>\n",
       "<ellipse cx=\"190\" cy=\"-90\" fill=\"none\" rx=\"27\" ry=\"18\" stroke=\"black\"/>\n",
       "<text font-family=\"Times,serif\" font-size=\"14.00\" text-anchor=\"middle\" x=\"190\" y=\"-86.3\">n</text>\n",
       "</g>\n",
       "<!-- n&#45;&gt;fault -->\n",
       "<g class=\"edge\" id=\"edge2\"><title>n-&gt;fault</title>\n",
       "<path d=\"M190,-71.6966C190,-63.9827 190,-54.7125 190,-46.1124\" fill=\"none\" stroke=\"black\"/>\n",
       "<polygon fill=\"black\" points=\"193.5,-46.1043 190,-36.1043 186.5,-46.1044 193.5,-46.1043\" stroke=\"black\"/>\n",
       "</g>\n",
       "<!-- ps -->\n",
       "<g class=\"node\" id=\"node4\"><title>ps</title>\n",
       "<ellipse cx=\"190\" cy=\"-306\" fill=\"none\" rx=\"27\" ry=\"18\" stroke=\"black\"/>\n",
       "<text font-family=\"Times,serif\" font-size=\"14.00\" text-anchor=\"middle\" x=\"190\" y=\"-302.3\">ps</text>\n",
       "</g>\n",
       "<!-- ps&#45;&gt;fault -->\n",
       "<g class=\"edge\" id=\"edge3\"><title>ps-&gt;fault</title>\n",
       "<path d=\"M176.25,-290.069C168.039,-280.1 158.381,-266.247 154,-252 130.486,-175.534 130.486,-148.466 154,-72 157.286,-61.3149 163.54,-50.851 169.925,-42.0814\" fill=\"none\" stroke=\"black\"/>\n",
       "<polygon fill=\"black\" points=\"172.884,-43.9774 176.25,-33.9312 167.354,-39.6861 172.884,-43.9774\" stroke=\"black\"/>\n",
       "</g>\n",
       "<!-- p1 -->\n",
       "<g class=\"node\" id=\"node5\"><title>p1</title>\n",
       "<ellipse cx=\"262\" cy=\"-234\" fill=\"none\" rx=\"27\" ry=\"18\" stroke=\"black\"/>\n",
       "<text font-family=\"Times,serif\" font-size=\"14.00\" text-anchor=\"middle\" x=\"262\" y=\"-230.3\">p1</text>\n",
       "</g>\n",
       "<!-- ps&#45;&gt;p1 -->\n",
       "<g class=\"edge\" id=\"edge4\"><title>ps-&gt;p1</title>\n",
       "<path d=\"M204.57,-290.834C214.75,-280.938 228.524,-267.546 240.031,-256.359\" fill=\"none\" stroke=\"black\"/>\n",
       "<polygon fill=\"black\" points=\"242.474,-258.865 247.204,-249.385 237.595,-253.846 242.474,-258.865\" stroke=\"black\"/>\n",
       "</g>\n",
       "<!-- p2 -->\n",
       "<g class=\"node\" id=\"node6\"><title>p2</title>\n",
       "<ellipse cx=\"190\" cy=\"-234\" fill=\"none\" rx=\"27\" ry=\"18\" stroke=\"black\"/>\n",
       "<text font-family=\"Times,serif\" font-size=\"14.00\" text-anchor=\"middle\" x=\"190\" y=\"-230.3\">p2</text>\n",
       "</g>\n",
       "<!-- ps&#45;&gt;p2 -->\n",
       "<g class=\"edge\" id=\"edge5\"><title>ps-&gt;p2</title>\n",
       "<path d=\"M190,-287.697C190,-279.983 190,-270.712 190,-262.112\" fill=\"none\" stroke=\"black\"/>\n",
       "<polygon fill=\"black\" points=\"193.5,-262.104 190,-252.104 186.5,-262.104 193.5,-262.104\" stroke=\"black\"/>\n",
       "</g>\n",
       "<!-- s1 -->\n",
       "<g class=\"node\" id=\"node7\"><title>s1</title>\n",
       "<ellipse cx=\"334\" cy=\"-162\" fill=\"none\" rx=\"27\" ry=\"18\" stroke=\"black\"/>\n",
       "<text font-family=\"Times,serif\" font-size=\"14.00\" text-anchor=\"middle\" x=\"334\" y=\"-158.3\">s1</text>\n",
       "</g>\n",
       "<!-- p1&#45;&gt;s1 -->\n",
       "<g class=\"edge\" id=\"edge10\"><title>p1-&gt;s1</title>\n",
       "<path d=\"M276.57,-218.834C286.75,-208.938 300.524,-195.546 312.031,-184.359\" fill=\"none\" stroke=\"black\"/>\n",
       "<polygon fill=\"black\" points=\"314.474,-186.865 319.204,-177.385 309.595,-181.846 314.474,-186.865\" stroke=\"black\"/>\n",
       "</g>\n",
       "<!-- s2 -->\n",
       "<g class=\"node\" id=\"node8\"><title>s2</title>\n",
       "<ellipse cx=\"190\" cy=\"-162\" fill=\"none\" rx=\"27\" ry=\"18\" stroke=\"black\"/>\n",
       "<text font-family=\"Times,serif\" font-size=\"14.00\" text-anchor=\"middle\" x=\"190\" y=\"-158.3\">s2</text>\n",
       "</g>\n",
       "<!-- p2&#45;&gt;s2 -->\n",
       "<g class=\"edge\" id=\"edge13\"><title>p2-&gt;s2</title>\n",
       "<path d=\"M190,-215.697C190,-207.983 190,-198.712 190,-190.112\" fill=\"none\" stroke=\"black\"/>\n",
       "<polygon fill=\"black\" points=\"193.5,-190.104 190,-180.104 186.5,-190.104 193.5,-190.104\" stroke=\"black\"/>\n",
       "</g>\n",
       "<!-- s1&#45;&gt;s12 -->\n",
       "<g class=\"edge\" id=\"edge6\"><title>s1-&gt;s12</title>\n",
       "<path d=\"M319.43,-146.834C309.25,-136.938 295.476,-123.546 283.969,-112.359\" fill=\"none\" stroke=\"black\"/>\n",
       "<polygon fill=\"black\" points=\"286.405,-109.846 276.796,-105.385 281.526,-114.865 286.405,-109.846\" stroke=\"black\"/>\n",
       "</g>\n",
       "<!-- s2&#45;&gt;s12 -->\n",
       "<g class=\"edge\" id=\"edge7\"><title>s2-&gt;s12</title>\n",
       "<path d=\"M204.57,-146.834C214.75,-136.938 228.524,-123.546 240.031,-112.359\" fill=\"none\" stroke=\"black\"/>\n",
       "<polygon fill=\"black\" points=\"242.474,-114.865 247.204,-105.385 237.595,-109.846 242.474,-114.865\" stroke=\"black\"/>\n",
       "</g>\n",
       "<!-- d1 -->\n",
       "<g class=\"node\" id=\"node9\"><title>d1</title>\n",
       "<ellipse cx=\"478\" cy=\"-234\" fill=\"none\" rx=\"27\" ry=\"18\" stroke=\"black\"/>\n",
       "<text font-family=\"Times,serif\" font-size=\"14.00\" text-anchor=\"middle\" x=\"478\" y=\"-230.3\">d1</text>\n",
       "</g>\n",
       "<!-- d1&#45;&gt;s1 -->\n",
       "<g class=\"edge\" id=\"edge8\"><title>d1-&gt;s1</title>\n",
       "<path d=\"M456.752,-222.671C432.398,-210.832 392.281,-191.331 364.572,-177.862\" fill=\"none\" stroke=\"black\"/>\n",
       "<polygon fill=\"black\" points=\"365.859,-174.595 355.335,-173.371 362.798,-180.891 365.859,-174.595\" stroke=\"black\"/>\n",
       "</g>\n",
       "<!-- m13 -->\n",
       "<g class=\"node\" id=\"node10\"><title>m13</title>\n",
       "<ellipse cx=\"406\" cy=\"-234\" fill=\"none\" rx=\"27\" ry=\"18\" stroke=\"black\"/>\n",
       "<text font-family=\"Times,serif\" font-size=\"14.00\" text-anchor=\"middle\" x=\"406\" y=\"-230.3\">m13</text>\n",
       "</g>\n",
       "<!-- m13&#45;&gt;s1 -->\n",
       "<g class=\"edge\" id=\"edge9\"><title>m13-&gt;s1</title>\n",
       "<path d=\"M391.43,-218.834C381.25,-208.938 367.476,-195.546 355.969,-184.359\" fill=\"none\" stroke=\"black\"/>\n",
       "<polygon fill=\"black\" points=\"358.405,-181.846 348.796,-177.385 353.526,-186.865 358.405,-181.846\" stroke=\"black\"/>\n",
       "</g>\n",
       "<!-- d2 -->\n",
       "<g class=\"node\" id=\"node11\"><title>d2</title>\n",
       "<ellipse cx=\"80\" cy=\"-234\" fill=\"none\" rx=\"27\" ry=\"18\" stroke=\"black\"/>\n",
       "<text font-family=\"Times,serif\" font-size=\"14.00\" text-anchor=\"middle\" x=\"80\" y=\"-230.3\">d2</text>\n",
       "</g>\n",
       "<!-- d2&#45;&gt;s2 -->\n",
       "<g class=\"edge\" id=\"edge11\"><title>d2-&gt;s2</title>\n",
       "<path d=\"M99.1605,-220.807C116.669,-209.665 142.759,-193.062 162.493,-180.504\" fill=\"none\" stroke=\"black\"/>\n",
       "<polygon fill=\"black\" points=\"164.501,-183.375 171.059,-175.053 160.743,-177.469 164.501,-183.375\" stroke=\"black\"/>\n",
       "</g>\n",
       "<!-- m23 -->\n",
       "<g class=\"node\" id=\"node12\"><title>m23</title>\n",
       "<ellipse cx=\"334\" cy=\"-234\" fill=\"none\" rx=\"27\" ry=\"18\" stroke=\"black\"/>\n",
       "<text font-family=\"Times,serif\" font-size=\"14.00\" text-anchor=\"middle\" x=\"334\" y=\"-230.3\">m23</text>\n",
       "</g>\n",
       "<!-- m23&#45;&gt;s2 -->\n",
       "<g class=\"edge\" id=\"edge12\"><title>m23-&gt;s2</title>\n",
       "<path d=\"M312.752,-222.671C288.398,-210.832 248.281,-191.331 220.572,-177.862\" fill=\"none\" stroke=\"black\"/>\n",
       "<polygon fill=\"black\" points=\"221.859,-174.595 211.335,-173.371 218.798,-180.891 221.859,-174.595\" stroke=\"black\"/>\n",
       "</g>\n",
       "<!-- d11 -->\n",
       "<g class=\"node\" id=\"node13\"><title>d11</title>\n",
       "<ellipse cx=\"478\" cy=\"-306\" fill=\"none\" rx=\"27\" ry=\"18\" stroke=\"black\"/>\n",
       "<text font-family=\"Times,serif\" font-size=\"14.00\" text-anchor=\"middle\" x=\"478\" y=\"-302.3\">d11</text>\n",
       "</g>\n",
       "<!-- d11&#45;&gt;d1 -->\n",
       "<g class=\"edge\" id=\"edge14\"><title>d11-&gt;d1</title>\n",
       "<path d=\"M478,-287.697C478,-279.983 478,-270.712 478,-262.112\" fill=\"none\" stroke=\"black\"/>\n",
       "<polygon fill=\"black\" points=\"481.5,-262.104 478,-252.104 474.5,-262.104 481.5,-262.104\" stroke=\"black\"/>\n",
       "</g>\n",
       "<!-- d12 -->\n",
       "<g class=\"node\" id=\"node14\"><title>d12</title>\n",
       "<ellipse cx=\"550\" cy=\"-306\" fill=\"none\" rx=\"27\" ry=\"18\" stroke=\"black\"/>\n",
       "<text font-family=\"Times,serif\" font-size=\"14.00\" text-anchor=\"middle\" x=\"550\" y=\"-302.3\">d12</text>\n",
       "</g>\n",
       "<!-- d12&#45;&gt;d1 -->\n",
       "<g class=\"edge\" id=\"edge15\"><title>d12-&gt;d1</title>\n",
       "<path d=\"M535.43,-290.834C525.25,-280.938 511.476,-267.546 499.969,-256.359\" fill=\"none\" stroke=\"black\"/>\n",
       "<polygon fill=\"black\" points=\"502.405,-253.846 492.796,-249.385 497.526,-258.865 502.405,-253.846\" stroke=\"black\"/>\n",
       "</g>\n",
       "<!-- m1 -->\n",
       "<g class=\"node\" id=\"node15\"><title>m1</title>\n",
       "<ellipse cx=\"406\" cy=\"-306\" fill=\"none\" rx=\"27\" ry=\"18\" stroke=\"black\"/>\n",
       "<text font-family=\"Times,serif\" font-size=\"14.00\" text-anchor=\"middle\" x=\"406\" y=\"-302.3\">m1</text>\n",
       "</g>\n",
       "<!-- m1&#45;&gt;m13 -->\n",
       "<g class=\"edge\" id=\"edge16\"><title>m1-&gt;m13</title>\n",
       "<path d=\"M406,-287.697C406,-279.983 406,-270.712 406,-262.112\" fill=\"none\" stroke=\"black\"/>\n",
       "<polygon fill=\"black\" points=\"409.5,-262.104 406,-252.104 402.5,-262.104 409.5,-262.104\" stroke=\"black\"/>\n",
       "</g>\n",
       "<!-- m3 -->\n",
       "<g class=\"node\" id=\"node16\"><title>m3</title>\n",
       "<ellipse cx=\"334\" cy=\"-306\" fill=\"none\" rx=\"27\" ry=\"18\" stroke=\"black\"/>\n",
       "<text font-family=\"Times,serif\" font-size=\"14.00\" text-anchor=\"middle\" x=\"334\" y=\"-302.3\">m3</text>\n",
       "</g>\n",
       "<!-- m3&#45;&gt;m13 -->\n",
       "<g class=\"edge\" id=\"edge17\"><title>m3-&gt;m13</title>\n",
       "<path d=\"M348.57,-290.834C358.75,-280.938 372.524,-267.546 384.031,-256.359\" fill=\"none\" stroke=\"black\"/>\n",
       "<polygon fill=\"black\" points=\"386.474,-258.865 391.204,-249.385 381.595,-253.846 386.474,-258.865\" stroke=\"black\"/>\n",
       "</g>\n",
       "<!-- m3&#45;&gt;m23 -->\n",
       "<g class=\"edge\" id=\"edge21\"><title>m3-&gt;m23</title>\n",
       "<path d=\"M334,-287.697C334,-279.983 334,-270.712 334,-262.112\" fill=\"none\" stroke=\"black\"/>\n",
       "<polygon fill=\"black\" points=\"337.5,-262.104 334,-252.104 330.5,-262.104 337.5,-262.104\" stroke=\"black\"/>\n",
       "</g>\n",
       "<!-- d21 -->\n",
       "<g class=\"node\" id=\"node17\"><title>d21</title>\n",
       "<ellipse cx=\"99\" cy=\"-306\" fill=\"none\" rx=\"27\" ry=\"18\" stroke=\"black\"/>\n",
       "<text font-family=\"Times,serif\" font-size=\"14.00\" text-anchor=\"middle\" x=\"99\" y=\"-302.3\">d21</text>\n",
       "</g>\n",
       "<!-- d21&#45;&gt;d2 -->\n",
       "<g class=\"edge\" id=\"edge18\"><title>d21-&gt;d2</title>\n",
       "<path d=\"M94.4006,-288.055C92.2535,-280.145 89.6465,-270.54 87.2439,-261.688\" fill=\"none\" stroke=\"black\"/>\n",
       "<polygon fill=\"black\" points=\"90.5544,-260.523 84.557,-251.789 83.7988,-262.357 90.5544,-260.523\" stroke=\"black\"/>\n",
       "</g>\n",
       "<!-- d22 -->\n",
       "<g class=\"node\" id=\"node18\"><title>d22</title>\n",
       "<ellipse cx=\"27\" cy=\"-306\" fill=\"none\" rx=\"27\" ry=\"18\" stroke=\"black\"/>\n",
       "<text font-family=\"Times,serif\" font-size=\"14.00\" text-anchor=\"middle\" x=\"27\" y=\"-302.3\">d22</text>\n",
       "</g>\n",
       "<!-- d22&#45;&gt;d2 -->\n",
       "<g class=\"edge\" id=\"edge19\"><title>d22-&gt;d2</title>\n",
       "<path d=\"M38.7624,-289.465C45.6241,-280.402 54.4188,-268.786 62.1224,-258.612\" fill=\"none\" stroke=\"black\"/>\n",
       "<polygon fill=\"black\" points=\"65.0245,-260.577 68.2705,-250.492 59.4436,-256.352 65.0245,-260.577\" stroke=\"black\"/>\n",
       "</g>\n",
       "<!-- m2 -->\n",
       "<g class=\"node\" id=\"node19\"><title>m2</title>\n",
       "<ellipse cx=\"262\" cy=\"-306\" fill=\"none\" rx=\"27\" ry=\"18\" stroke=\"black\"/>\n",
       "<text font-family=\"Times,serif\" font-size=\"14.00\" text-anchor=\"middle\" x=\"262\" y=\"-302.3\">m2</text>\n",
       "</g>\n",
       "<!-- m2&#45;&gt;m23 -->\n",
       "<g class=\"edge\" id=\"edge20\"><title>m2-&gt;m23</title>\n",
       "<path d=\"M276.57,-290.834C286.75,-280.938 300.524,-267.546 312.031,-256.359\" fill=\"none\" stroke=\"black\"/>\n",
       "<polygon fill=\"black\" points=\"314.474,-258.865 319.204,-249.385 309.595,-253.846 314.474,-258.865\" stroke=\"black\"/>\n",
       "</g>\n",
       "</g>\n",
       "</svg>"
      ],
      "text/plain": [
       "<IPython.core.display.SVG object>"
      ]
     },
     "execution_count": 85,
     "metadata": {},
     "output_type": "execute_result"
    }
   ],
   "source": [
    "SVG(graph)"
   ]
  },
  {
   "cell_type": "markdown",
   "metadata": {},
   "source": [
    "### Multi-valued nodes\n",
    "\n",
    "PGMs allow for multi-valued nodes. For example a failure mode can be `high`, `low`, `none`:"
   ]
  },
  {
   "cell_type": "code",
   "execution_count": 2,
   "metadata": {
    "collapsed": false
   },
   "outputs": [
    {
     "name": "stdout",
     "output_type": "stream",
     "text": [
      "\tstatus(high) : 0.02823085\n",
      "\t status(low) : 0.1636372\n",
      "\tstatus(none) : 0.9010495\n"
     ]
    }
   ],
   "source": [
    "%%script problog-cli.py\n",
    "0.90::status(none) ; 0.09::status(low) ; 0.01::status(high).\n",
    "0.10::status(none) ; 0.80::status(low) ; 0.10::status(high) :- ccf1.\n",
    "0.05::status(none) ; 0.10::status(low) ; 0.85::status(high) :- ccf2.\n",
    "\n",
    "0.10::ccf1.\n",
    "0.01::ccf2.\n",
    "\n",
    "query(status(none)).\n",
    "query(status(low)).\n",
    "query(status(high))."
   ]
  },
  {
   "cell_type": "markdown",
   "metadata": {},
   "source": [
    "## Extensions from Probabilistic Logics"
   ]
  },
  {
   "cell_type": "markdown",
   "metadata": {},
   "source": [
    "Probabilistic logics (part of the field of probabilistic programming) provide a more rich modelling language and are able to exploit event more structure in the model than PGMs did. Especially for domains with a lot of deterministic or functional knowledge in the model, this can result in a significant decrease of runtime and allows for much more complex models.\n",
    "\n",
    "Therefore, a probabilistic logic allows for more complex statemens such as:\n",
    "\n",
    "- Both logic structure and quantitative uncertainty.\n",
    "- General rules over groups of objects (e.g., `d(X) :- fails('disk')` to express that all disks have the same failure probability).\n",
    "- Cycles are allowed (e.g., `fail(comp1) :- fail(comp2). fail(comp2) :- fail(comp1).`)."
   ]
  },
  {
   "cell_type": "markdown",
   "metadata": {},
   "source": [
    "#### Complex failure formulas"
   ]
  },
  {
   "cell_type": "markdown",
   "metadata": {},
   "source": [
    "The probability of failure is here defined using a simple formula: `failure_rate * time`. If a more complicated distribution is required, this can be computed using Python and the `call_external/1` predicate that ProbLog offers. We can add the following Python definitions to a file called `fails.py` to be used as part of ProbLog."
   ]
  },
  {
   "cell_type": "markdown",
   "metadata": {},
   "source": [
    "For example, we can use standard FTA failure rate formulas like:"
   ]
  },
  {
   "cell_type": "code",
   "execution_count": null,
   "metadata": {
    "collapsed": true
   },
   "outputs": [],
   "source": [
    "import math\n",
    "\n",
    "def fails_nonrepairable(lam, t):\n",
    "    \"\"\"Failure probability for a non-repairable component\n",
    "       lam: component failure time\n",
    "       t: exposure time\n",
    "    \"\"\"\n",
    "    return 1-math.exp(-lam*t)\n",
    "\n",
    "def fails_repairable(lam, tau):\n",
    "    \"\"\"Failure probability for a repairable component\n",
    "       lam: component failure rate\n",
    "       t: repair time\n",
    "    \"\"\"\n",
    "    return lam*tau/(1+lam*tau)\n",
    "    "
   ]
  },
  {
   "cell_type": "markdown",
   "metadata": {},
   "source": [
    "Or we can use Scipy for a wide range of distributions such as Weibull:"
   ]
  },
  {
   "cell_type": "code",
   "execution_count": 86,
   "metadata": {
    "collapsed": true
   },
   "outputs": [],
   "source": [
    "def fails_weibull(k, mu, lam, t):\n",
    "  import scipy\n",
    "  dist = scipy.stats.dweibull(k, mu, lam)\n",
    "  return dist.pdf(t)"
   ]
  },
  {
   "cell_type": "code",
   "execution_count": 89,
   "metadata": {
    "collapsed": false
   },
   "outputs": [],
   "source": [
    "%%script problog-cli.py\n",
    ":- load_external('fails.py').\n",
    "\n",
    "P::fails(Component) :-\n",
    "  k(K), mu(MU), lam(LAM), mission_time(T),\n",
    "  call_external(fails_weibull(K, MU, LAM, T), P)."
   ]
  },
  {
   "cell_type": "markdown",
   "metadata": {},
   "source": [
    "### Cut set analysis"
   ]
  },
  {
   "cell_type": "markdown",
   "metadata": {},
   "source": [
    "[Wikipedia](http://en.wikipedia.org/wiki/Fault_tree_analysis):\n",
    "\n",
    ">The route through a tree between an event and an initiator in the tree is called a Cut Set. The shortest credible way through the tree from fault to initiating event is called a Minimal Cut Set.\n",
    "\n",
    "Since ProbLog still expresses the logic interactions explicitely, one can apply cut set analysis on a ProbLog program. This can be achieved by using ProbLog's built-in translation to a CNF and apply an SMT solver for minimal cut sets. See for example the approach followed in the [Haskell Fault Tree Analysis library](https://github.com/tomahawkins/fault-tree)."
   ]
  },
  {
   "cell_type": "markdown",
   "metadata": {},
   "source": [
    "## Failure Mode and Effect Analysis (FMEA)\n",
    "\n",
    "(Quality Digest, 2005) Quality Digest, [Failure Mode and Effect Analysis -- A Tutorial](http://www.qualitydigest.com/inside/six-sigma-article/failure-mode-and-effect-analysis-tutorial), 2005.\n",
    "\n",
    "An FMEA is a summarization of what the causes and effects are of a failure in the system. It is a table with as columns item, function, failure, effect, SOD, and cause. Every row in the table expresses a failure of a certain system, subsystem or component.\n",
    "\n",
    "<table>\n",
    "\t<tbody><tr><th>Item</th><th>Function</th><th>Failure</th><th>Effect</th><th>SOD</th><th>Cause\n",
    "\t</th></tr><tr>\n",
    "\t\t<td>The name of the system, subsystem, subsubsystem, ..., or component.\n",
    "\t\t</td><td>A function the item is supposed to perform.\n",
    "\t\t</td><td>The failure mode.\n",
    "\t\t</td><td>A set of effects of the failure.\n",
    "\t\t</td><td>Probability indicating Severity, Occurence and Dectection.\n",
    "\t\t</td><td>A cause is a formula made from failures from a lower level, noise, design parameters, conjunctions, disjunctions and negations.\n",
    "</td></tr></tbody></table>"
   ]
  },
  {
   "cell_type": "markdown",
   "metadata": {},
   "source": [
    "### Translation to ProbLog\n",
    "\n",
    "<table>\n",
    "\t<tbody><tr><th>FM</th><th>Cause</th><th>Effect</th><th>Component</th><th>SOD\n",
    "\t</th></tr><tr>\n",
    "\t\t<td>fm1\n",
    "\t\t</td><td>event(cause1) OR (event(cause2, comp2) AND event(cause3, comp3))\n",
    "\t\t</td><td>event(effect1, comp1) AND event(effect2, comp1)\n",
    "\t\t</td><td>comp1\n",
    "\t\t</td><td>0.999\n",
    "</td></tr></tbody></table>"
   ]
  },
  {
   "cell_type": "code",
   "execution_count": null,
   "metadata": {
    "collapsed": true
   },
   "outputs": [],
   "source": [
    "%%script problog-cli.py\n",
    "\n",
    "or1 :- event(cause1, comp2).\n",
    "or1 :- event(cause2, comp2) , event(cause3,comp3).\n",
    "failuremode(fm, func1):0.999 :- or1.\n",
    "\n",
    "event(effect1, comp1) :- failuremode(fm, func1).\n",
    "event(effect2, comp1) :- failuremode(fm, func1)."
   ]
  },
  {
   "cell_type": "markdown",
   "metadata": {},
   "source": [
    "## More information\n",
    "\n",
    "[https://dtai.cs.kuleuven.be/problog](https://dtai.cs.kuleuven.be/problog)\n",
    "\n",
    "Copyright 2015, KU Leuven, [DTAI Research Group](https://dtai.cs.kuleuven.be)"
   ]
  }
 ],
 "metadata": {
  "kernelspec": {
   "display_name": "Python 3",
   "language": "python",
   "name": "python3"
  },
  "language_info": {
   "codemirror_mode": {
    "name": "ipython",
    "version": 3
   },
   "file_extension": ".py",
   "mimetype": "text/x-python",
   "name": "python",
   "nbconvert_exporter": "python",
   "pygments_lexer": "ipython3",
   "version": "3.4.2"
  }
 },
 "nbformat": 4,
 "nbformat_minor": 0
}
