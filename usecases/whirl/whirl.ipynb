{
 "cells": [
  {
   "cell_type": "markdown",
   "metadata": {},
   "source": [
    "# WHIRL in ProbLog"
   ]
  },
  {
   "cell_type": "markdown",
   "metadata": {},
   "source": [
    "Februari 2015  \n",
    "[Wannes Meert](mailto:wannes.meert@cs.kuleuven.be), [Angelika Kimmig](mailto:angelika.kimmig@cs.kuleuven.be), [Anton Dries](mailto:anton.dries@cs.kuleuven.be), DTAI Research Group, KU Leuven"
   ]
  },
  {
   "cell_type": "markdown",
   "metadata": {},
   "source": [
    "(Cohen 2000b):\n",
    "\n",
    "> WHIRL is an “information representation language” that synergistically combines properties of logic-based and text-based representation systems. WHIRL is a subset of Datalog that has been extended by introducing an atomic type for textual entities, an atomic operation for computing textual similarity, and a “soft” semantics; that is, inferences in WHIRL are associated with numeric scores, and presented to the user in decreasing order by score. "
   ]
  },
  {
   "cell_type": "markdown",
   "metadata": {},
   "source": [
    "(Cohen, 2000a) W. W. Cohen. Whirl: A word-based information representation language. Artificial Intelligence, 118(1):163–196, 2000.\n",
    "\n",
    "(Cohen, 2000b) W. W. Cohen. Data integration using similarity joins and a word-based information representation language. ACM Transactions on Information Systems (TOIS), 18(3):288–321, 2000."
   ]
  },
  {
   "cell_type": "code",
   "execution_count": 1,
   "metadata": {
    "collapsed": false
   },
   "outputs": [],
   "source": [
    "import sys, os\n",
    "from IPython.display import display, display_svg\n",
    "import pydot\n",
    "sys.path.append(os.path.abspath('../../util'))\n",
    "%load_ext problogmagic"
   ]
  },
  {
   "cell_type": "markdown",
   "metadata": {},
   "source": [
    "## Differences between WHIRL and ProbLog\n",
    "\n",
    "### Recursion and negation\n",
    "\n",
    "WHIRL does not allow for recursion or negation. Additionally, only one `many/2` predicate is allowed in a query. These restrictions do not apply to Problog because it knows how to handle such situations (e.g. the inclusion-exclusion principle).\n",
    "\n",
    "### Search strategy\n",
    "\n",
    "Problog does not use a find-best-substitution approach like the WHIRL system that uses an A* search strategy. The default reasoning technique in Problog finds all proofs. But the optimizations present in WHIRL can be implemented in the Python part.\n",
    "\n",
    "### Storage\n",
    "\n",
    "A more efficient way of storing all the reviews is to preprocess all reviews and use compact vector representations in ProbLog. This is also how it is represented in Cohen (200a). For illustratieve purposes, in this example we use full strings in ProbLog."
   ]
  },
  {
   "cell_type": "markdown",
   "metadata": {},
   "source": [
    "## Data"
   ]
  },
  {
   "cell_type": "markdown",
   "metadata": {},
   "source": [
    "In this example, we will be using movie reviews, listings and other information. The data is represented using Prolog facts:\n",
    "\n",
    "- `listing/3`: Movie theater listing\n",
    "- `review/2`: Movie review\n",
    "- `academy_award/1`: Category of oscars\n",
    "- `winner/3`: Which movie won wat category in what year"
   ]
  },
  {
   "cell_type": "code",
   "execution_count": 4,
   "metadata": {
    "collapsed": false
   },
   "outputs": [
    {
     "name": "stdout",
     "output_type": "stream",
     "text": [
      "listing('Roberts Theater Chatham', 'Brassed Off', '7:15 - 9:10').\r\n",
      "listing('Berkeley Cinema', 'Hercules', '2:00 - 4:15 - 7:30').\r\n",
      "listing('Sony Mountainside Theater', 'Men in Black', '7:40 - 8:40 - 9:30 - 10:10').\r\n",
      "listing('Sony Mountainside Theater', 'Argo', '7:40 - 8:40 - 9:30').\r\n",
      "\r\n",
      "review('Men in Black, 1997', '(***) One of the summer s biggest hits, this ... a comedy about space aliens with Will Smith ...').\r\n",
      "review('Face/Off, 1997',     '(**1/2) After a somewhat slow start, Cage and Travolta').\r\n",
      "review('Space Balls, 1987',  '(*1/2) While not one of Mel Brooks better efforts, this Star Wars spoof ... a comedy about space').\r\n",
      "review('Hercules',  'Animated Disney film').\r\n",
      "review('The Lord of the Rings: The Fellowship of the Ring, 2001', 'An epic fantasy film directed by Peter Jackson based on the first volume of J. R. R. Tolkien The Lord of the Rings. It is the first installment in the The Lord of the Rings film series, and was followed by The Two Towers (2002) and The Return of the King (2003), based on the second and third volumes of The Lord of the Rings.').\r\n",
      "\r\n",
      "academy_award('Best makeup').\r\n",
      "academy_award('Best movie').\r\n",
      "\r\n",
      "winner('Men in Black', 'Best makeup', 1997).\r\n",
      "winner('The Lord of the Rings: The Fellowship of the Ring', 'Best makeup', 2001).\r\n",
      "winner('Argo', 'Best movie', 2013).\r\n"
     ]
    }
   ],
   "source": [
    "!head -n 58 whirl.pl | tail -n 17"
   ]
  },
  {
   "cell_type": "markdown",
   "metadata": {},
   "source": [
    "## Similarity Metric and Score"
   ]
  },
  {
   "cell_type": "markdown",
   "metadata": {},
   "source": [
    "Similarity is expressed as $X \\sim Y$ in WHIRL and `similar(X,Y)` in our version. It has a score value associated it with it that in ProbLog will be expressed as a probability associated with a probabilistic fact.\n",
    "\n",
    "The $SCORE(B,\\theta)$ of an expression $B$ and substitution $\\theta$ is computed using this similarity.\n",
    "\n",
    "- if $B$ is a literal and a fact in the DB: $SCORE(B,\\theta) = s$ (the score, probability or weight of the fact)\n",
    "- if $B$ is a literal but not in the DB: $SCORE(B,\\theta) = 0$\n",
    "- if $B$ is a similarity literal $X \\sim Y$: $SCORE(B,\\theta) = SIM(\\vec{x}, \\vec{y})$, where $\\vec{x} = X\\theta$ and $\\vec{y} = Y\\theta$ and $\\theta$ a ground substitution.\n",
    "\n",
    "The similarity ($SIM$, $X \\sim Y$ or `similar(X,Y)`) between sentences and documents is computed using the TF-IDF metric (see `whirl.py` for the complete code).\n",
    "\n",
    "We use NLTK to translate a sentence into a list of stems:"
   ]
  },
  {
   "cell_type": "code",
   "execution_count": 2,
   "metadata": {
    "collapsed": false
   },
   "outputs": [],
   "source": [
    "from nltk import word_tokenize\n",
    "from nltk.stem.porter import PorterStemmer\n",
    "stemmer = PorterStemmer()\n",
    "\n",
    "def tokenize(text):\n",
    "  return (stemmer.stem(token) for token in word_tokenize(text))"
   ]
  },
  {
   "cell_type": "markdown",
   "metadata": {},
   "source": [
    "And Scikit-learn to compute the TF-IDF parameters and the similarity between sentences:"
   ]
  },
  {
   "cell_type": "code",
   "execution_count": 3,
   "metadata": {
    "collapsed": false
   },
   "outputs": [
    {
     "name": "stdout",
     "output_type": "stream",
     "text": [
      "['text', 'topic1', 'topic2']\n"
     ]
    },
    {
     "data": {
      "text/plain": [
       "array([[ 0.57973867,  0.81480247,  0.        ],\n",
       "       [ 0.57973867,  0.        ,  0.81480247]])"
      ]
     },
     "execution_count": 3,
     "metadata": {},
     "output_type": "execute_result"
    }
   ],
   "source": [
    "from sklearn.metrics.pairwise import cosine_similarity\n",
    "from sklearn.feature_extraction.text import TfidfVectorizer\n",
    "\n",
    "texts = ['Text topic1', 'And text topic2'] # In our setting, all the movie reviews are loaded\n",
    "tfidf = TfidfVectorizer(tokenizer=tokenize, stop_words='english')\n",
    "weights = tfidf.fit_transform(texts)\n",
    "\n",
    "def similarity(sentence1, sentence2):\n",
    "  return cosine_similarity(tfidf.transform(sentence1),tfidf.transform(sentence2))\n",
    "\n",
    "print(tfidf.get_feature_names())\n",
    "weights.toarray()"
   ]
  },
  {
   "cell_type": "markdown",
   "metadata": {},
   "source": [
    "## Run Python within ProbLog"
   ]
  },
  {
   "cell_type": "markdown",
   "metadata": {},
   "source": [
    "Python code can be run from ProbLog by including a Python file using `load_external/1` and calling a Python method using `call_external/2`."
   ]
  },
  {
   "cell_type": "code",
   "execution_count": 5,
   "metadata": {
    "collapsed": false
   },
   "outputs": [
    {
     "data": {
      "text/html": [
       "<table style=\"width:100%;\"><tr><th style=\"width:66%;\">Atom<th>Probability<tr><td>similar('comedy Smith','Will Smith')<td><div class=\"progress-bar\" role=\"progressbar\" aria-valuenow=\"77.82829228046184\" aria-valuemin=\"0\" aria-valuemax=\"100\" style=\"text-align:left;width:77.82829228046184%;padding:3px;color:black;background-color:#9ac2f4;\">0.7783</div><tr><td>similar('comedy Smith','space Brooks')<td><div class=\"progress-bar\" role=\"progressbar\" aria-valuenow=\"0.0\" aria-valuemin=\"0\" aria-valuemax=\"100\" style=\"text-align:left;width:0.0%;padding:3px;color:black;background-color:#9ac2f4;\">0.0000</div><tr><td>similar('comedy Smith','space Smith')<td><div class=\"progress-bar\" role=\"progressbar\" aria-valuenow=\"60.572430792929964\" aria-valuemin=\"0\" aria-valuemax=\"100\" style=\"text-align:left;width:60.572430792929964%;padding:3px;color:black;background-color:#9ac2f4;\">0.6057</div></table>"
      ]
     },
     "metadata": {},
     "output_type": "display_data"
    }
   ],
   "source": [
    "%%problog\n",
    ":- use_module('whirl.py').\n",
    "\n",
    "P::similar(X,Y) :-\n",
    "    similarity(X,Y,P),\n",
    "    P > 0.0.\n",
    "            \n",
    "query(similar('comedy Smith', 'space Smith')).\n",
    "query(similar('comedy Smith', 'space Brooks')).\n",
    "query(similar('comedy Smith', 'Will Smith'))."
   ]
  },
  {
   "cell_type": "markdown",
   "metadata": {},
   "source": [
    "The `fail/0` in the `similar/2` call is to instruct ProbLog not to keep track of two entities that are completely unrelated (instead of performing computations with probability 0.0).\n",
    "\n",
    "The results can be interpreted as follows:\n",
    "\n",
    "- 'comedy Smith' and 'Will Smith' has the highest probability because there is only one movie that is a comedy with Will Smith\n",
    "- 'comedy Smith' and 'space Smith' is a bit lower because there are two space comedies\n",
    "- 'comedy Smith' and 'space Brooks' is zero because there is no overlap"
   ]
  },
  {
   "cell_type": "markdown",
   "metadata": {},
   "source": [
    "### Optimizations"
   ]
  },
  {
   "cell_type": "markdown",
   "metadata": {},
   "source": [
    "We can adapt the `similar/2` predicate to use a more efficient search strategy and only unify if the two terms are very similar. If `similar\\2` fails, the atom is ignored and the combination of the two terms is not further explored."
   ]
  },
  {
   "cell_type": "code",
   "execution_count": 6,
   "metadata": {
    "collapsed": false
   },
   "outputs": [
    {
     "data": {
      "text/html": [
       "<table style=\"width:100%;\"><tr><th style=\"width:66%;\">Atom<th>Probability<tr><td>similar('comedy Smith','Will Smith')<td><div class=\"progress-bar\" role=\"progressbar\" aria-valuenow=\"77.82829228046184\" aria-valuemin=\"0\" aria-valuemax=\"100\" style=\"text-align:left;width:77.82829228046184%;padding:3px;color:black;background-color:#9ac2f4;\">0.7783</div><tr><td>similar('comedy Smith','space Brooks')<td><div class=\"progress-bar\" role=\"progressbar\" aria-valuenow=\"0.0\" aria-valuemin=\"0\" aria-valuemax=\"100\" style=\"text-align:left;width:0.0%;padding:3px;color:black;background-color:#9ac2f4;\">0.0000</div><tr><td>similar('comedy Smith','space Smith')<td><div class=\"progress-bar\" role=\"progressbar\" aria-valuenow=\"0.0\" aria-valuemin=\"0\" aria-valuemax=\"100\" style=\"text-align:left;width:0.0%;padding:3px;color:black;background-color:#9ac2f4;\">0.0000</div></table>"
      ]
     },
     "metadata": {},
     "output_type": "display_data"
    }
   ],
   "source": [
    "%%problog\n",
    ":- use_module('whirl.py').\n",
    "\n",
    "P::similar(X,Y) :-\n",
    "    similarity(X,Y,P),\n",
    "    P > 0.7. % Only keep likely matches\n",
    "            \n",
    "query(similar('comedy Smith', 'space Smith')).\n",
    "query(similar('comedy Smith', 'space Brooks')).\n",
    "query(similar('comedy Smith', 'Will Smith'))."
   ]
  },
  {
   "cell_type": "markdown",
   "metadata": {},
   "source": [
    "An optimisation proposed in Cohen (2000a) that is possible in the Python part is to build an (inverted) index of similar documents instead of trying all combinations:\n",
    "\n",
    "> Consider x􏲄, corresponding to the document \"Armadillos, Inc\". Due to the frequent term \"Inc\", there will be many documents Y that have nonzero similarity to x􏲄, and it will be expensive to retrieve all of these documents Y and compute their similarity to x􏲄. One way of avoiding this expense is to start by retrieving a small number of documents Y that are likely to be highly similar to x􏲄. In this case, one might use an index to find all Y's that contain the rare term \"Armadillos\". Since \"Armadillos\" is rare, this step will be inexpensive, and the Y's retrieved in this step must be somewhat similar to x􏲄."
   ]
  },
  {
   "cell_type": "markdown",
   "metadata": {},
   "source": [
    "## Conjunctive Queries\n",
    "\n",
    "The score of a conjunctive query $B_1 \\lor \\dots \\lor B_k$ is\n",
    "\n",
    "\\begin{equation*}\n",
    "SCORE(B_1 \\land \\dots \\land B_k, \\theta) = 1 - \\prod_{i=1}^{k}SCORE(B_i,\\theta)\n",
    "\\end{equation*}\n",
    "\n",
    "with $\\theta$ the ground unification."
   ]
  },
  {
   "cell_type": "markdown",
   "metadata": {},
   "source": [
    "### Q1\n",
    "\n",
    "Find reviews about comedies with space aliens"
   ]
  },
  {
   "cell_type": "code",
   "execution_count": 14,
   "metadata": {
    "collapsed": false
   },
   "outputs": [
    {
     "data": {
      "text/html": [
       "<table style=\"width:100%;\"><tr><th style=\"width:66%;\">Atom<th>Probability<tr><td>q1_('Men in Black, 1997','(***) One of the summer s biggest hits, this ... a comedy about space aliens with Will Smith ...')<td><div class=\"progress-bar\" role=\"progressbar\" aria-valuenow=\"53.79949630708509\" aria-valuemin=\"0\" aria-valuemax=\"100\" style=\"text-align:left;width:53.79949630708509%;padding:3px;color:black;background-color:#9ac2f4;\">0.5380</div><tr><td>q1_('Space Balls, 1987','(*1/2) While not one of Mel Brooks better efforts, this Star Wars spoof ... a comedy about space')<td><div class=\"progress-bar\" role=\"progressbar\" aria-valuenow=\"27.68851622996053\" aria-valuemin=\"0\" aria-valuemax=\"100\" style=\"text-align:left;width:27.68851622996053%;padding:3px;color:black;background-color:#9ac2f4;\">0.2769</div></table>"
      ]
     },
     "metadata": {},
     "output_type": "display_data"
    }
   ],
   "source": [
    "%%problog\n",
    ":- consult(whirl).\n",
    "\n",
    "q1_(Movie, Review) :- review(Movie, Review),\n",
    "                     similar(Review, 'comedy with space aliens').\n",
    "query(q1_(X,Y))."
   ]
  },
  {
   "cell_type": "markdown",
   "metadata": {},
   "source": [
    "### Q2\n",
    "\n",
    "Soft database join to see times and reviews"
   ]
  },
  {
   "cell_type": "code",
   "execution_count": 15,
   "metadata": {
    "collapsed": false
   },
   "outputs": [
    {
     "data": {
      "text/html": [
       "<table style=\"width:100%;\"><tr><th style=\"width:66%;\">Atom<th>Probability<tr><td>q2_('Berkeley Cinema','Hercules','2:00 - 4:15 - 7:30','Animated Disney film')<td><div class=\"progress-bar\" role=\"progressbar\" aria-valuenow=\"100.0\" aria-valuemin=\"0\" aria-valuemax=\"100\" style=\"text-align:left;width:100.0%;padding:3px;color:black;background-color:#9ac2f4;\">1.0000</div><tr><td>q2_('Sony Mountainside Theater','Men in Black','7:40 - 8:40 - 9:30 - 10:10','(***) One of the summer s biggest hits, this ... a comedy about space aliens with Will Smith ...')<td><div class=\"progress-bar\" role=\"progressbar\" aria-valuenow=\"86.85943660616971\" aria-valuemin=\"0\" aria-valuemax=\"100\" style=\"text-align:left;width:86.85943660616971%;padding:3px;color:black;background-color:#9ac2f4;\">0.8686</div></table>"
      ]
     },
     "metadata": {},
     "output_type": "display_data"
    }
   ],
   "source": [
    "%%problog\n",
    ":- consult(whirl).\n",
    "\n",
    "q2_(Cinema,Movie1,Times,Review) :- listing(Cinema, Movie1, Times),\n",
    "                                   review(Movie2, Review),\n",
    "                                   similar(Movie1,Movie2).\n",
    "query(q2_(C,M,T,R))."
   ]
  },
  {
   "cell_type": "markdown",
   "metadata": {},
   "source": [
    "### Q3\n",
    "\n",
    "Database join to see times and reviews. Whill be empty if no exactly matching movie titles"
   ]
  },
  {
   "cell_type": "code",
   "execution_count": 16,
   "metadata": {
    "collapsed": false
   },
   "outputs": [
    {
     "data": {
      "text/html": [
       "<table style=\"width:100%;\"><tr><th style=\"width:66%;\">Atom<th>Probability<tr><td>q3_('Berkeley Cinema','Hercules','2:00 - 4:15 - 7:30','Animated Disney film')<td><div class=\"progress-bar\" role=\"progressbar\" aria-valuenow=\"100.0\" aria-valuemin=\"0\" aria-valuemax=\"100\" style=\"text-align:left;width:100.0%;padding:3px;color:black;background-color:#9ac2f4;\">1.0000</div></table>"
      ]
     },
     "metadata": {},
     "output_type": "display_data"
    }
   ],
   "source": [
    "%%problog\n",
    ":- consult(whirl).\n",
    "\n",
    "q3_(Cinema,Movie,Times,Review) :- listing(Cinema,Movie,Times),\n",
    "                                  review(Movie,Review).\n",
    "query(q3_(C,M,T,R))."
   ]
  },
  {
   "cell_type": "markdown",
   "metadata": {},
   "source": [
    "### Q4\n",
    "\n",
    "See where the latest science fiction comedy is playing."
   ]
  },
  {
   "cell_type": "code",
   "execution_count": 19,
   "metadata": {
    "collapsed": false
   },
   "outputs": [
    {
     "data": {
      "text/html": [
       "<table style=\"width:100%;\"><tr><th style=\"width:66%;\">Atom<th>Probability<tr><td>q4_('Men in Black')<td><div class=\"progress-bar\" role=\"progressbar\" aria-valuenow=\"46.72993938929119\" aria-valuemin=\"0\" aria-valuemax=\"100\" style=\"text-align:left;width:46.72993938929119%;padding:3px;color:black;background-color:#9ac2f4;\">0.4673</div></table>"
      ]
     },
     "metadata": {},
     "output_type": "display_data"
    }
   ],
   "source": [
    "%%problog\n",
    ":- consult(whirl).\n",
    "\n",
    "q4_(Movie1) :- listing(Cinema, Movie1, Times), review(Movie2, Review),\n",
    "               similar(Movie1, Movie2),\n",
    "               similar(Review, 'comedy with space aliens').\n",
    "query(q4_(M))."
   ]
  },
  {
   "cell_type": "markdown",
   "metadata": {},
   "source": [
    "## Disjunctive Queries\n",
    "\n",
    "The probability of a disjunctive query is\n",
    "\n",
    "\\begin{equation*}\n",
    "SCORE(a, \\theta) = 1 - \\prod_{<\\theta,Body_i> \\in SUPPORT(a)}(1-SCORE(Body_i,\\theta))\n",
    "\\end{equation*}\n",
    "\n",
    "with SUPPORT for literal $a = v(a_1,\\dots,a_k)$ is the set of pairs $<\\theta,Body_i>$ for which\n",
    "\n",
    "- $v(X_1,\\dots,X_k)$ :- $Body_i.$ is a rule\n",
    "- $\\exists \\theta: v(X_1,\\dots,X_k)\\theta = a$\n",
    "- $Body_i\\theta$ is ground, and $SCORE(Body_i,\\theta) > 0$"
   ]
  },
  {
   "cell_type": "markdown",
   "metadata": {},
   "source": [
    "### Q4 (disjunctive)\n",
    "\n",
    "Disjunctive version of Q4. Finds cinemas that are playing either a science fiction comedy or an animated film produced by Disney"
   ]
  },
  {
   "cell_type": "code",
   "execution_count": 20,
   "metadata": {
    "collapsed": false
   },
   "outputs": [
    {
     "data": {
      "text/html": [
       "<table style=\"width:100%;\"><tr><th style=\"width:66%;\">Atom<th>Probability<tr><td>q4a_('Berkeley Cinema')<td><div class=\"progress-bar\" role=\"progressbar\" aria-valuenow=\"100.0\" aria-valuemin=\"0\" aria-valuemax=\"100\" style=\"text-align:left;width:100.0%;padding:3px;color:black;background-color:#9ac2f4;\">1.0000</div><tr><td>q4a_('Sony Mountainside Theater')<td><div class=\"progress-bar\" role=\"progressbar\" aria-valuenow=\"46.72993938929119\" aria-valuemin=\"0\" aria-valuemax=\"100\" style=\"text-align:left;width:46.72993938929119%;padding:3px;color:black;background-color:#9ac2f4;\">0.4673</div></table>"
      ]
     },
     "metadata": {},
     "output_type": "display_data"
    }
   ],
   "source": [
    "%%problog\n",
    ":- consult(whirl).\n",
    "\n",
    "view1_(Cinema) :- listing(Cinema, Movie1, Times), \n",
    "                  review(Movie2, Review),\n",
    "                  similar(Movie1, Movie2),\n",
    "                  similar(Review, \"comedy with space aliens\").\n",
    "view1_(Cinema) :- listing(Cinema, Movie1, Times),\n",
    "                  review(Movie2, Review),\n",
    "                  similar(Movie1, Movie2),\n",
    "                  similar(Review, \"animated Walt Disney film\").\n",
    "q4a_(Cinema) :- view1(Cinema).\n",
    "query(q4a_(C))."
   ]
  },
  {
   "cell_type": "markdown",
   "metadata": {},
   "source": [
    "## Soft Universal Quantification\n",
    "\n",
    "Soft universal quantification is expressed as `many(Template, Test)` and defined as the weighted average of the scores where the test succeeds for the given template:\n",
    "\n",
    "\\begin{equation*}\n",
    "SCORE(many(p(Y_1, \\dots, Y_k), Test, \\theta) = \\sum_{<s,a_1,\\dots,a_k> \\in P} \\frac{s}{S}\\cdot SCORE\\left(Test, (\\theta \\cup {Y_1=a_1, \\dots, Y_k=a_k})\\right)\n",
    "\\end{equation*}\n",
    "\n",
    "with $P$ the set of all tuples $<s,a_1,\\dots,a_k>$ such that $p(a_1,\\dots,a_k)$ in the DB with score $s$. and $S = \\sum_{<s,a_1,\\dots,a_k>\\in P}s$."
   ]
  },
  {
   "cell_type": "markdown",
   "metadata": {},
   "source": [
    "### Q5 (deterministic)\n",
    "\n",
    "Movie with Will Smith that won an award."
   ]
  },
  {
   "cell_type": "code",
   "execution_count": 21,
   "metadata": {
    "collapsed": false
   },
   "outputs": [
    {
     "data": {
      "text/html": [
       "<table style=\"width:100%;\"><tr><th style=\"width:66%;\">Atom<th>Probability<tr><td>q5a_('Men in Black, 1997','Best makeup')<td><div class=\"progress-bar\" role=\"progressbar\" aria-valuenow=\"30.800544275677886\" aria-valuemin=\"0\" aria-valuemax=\"100\" style=\"text-align:left;width:30.800544275677886%;padding:3px;color:black;background-color:#9ac2f4;\">0.3080</div></table>"
      ]
     },
     "metadata": {},
     "output_type": "display_data"
    }
   ],
   "source": [
    "%%problog\n",
    ":- consult(whirl).\n",
    "\n",
    "q5a_(Movie, Cat) :- review(Movie ,Review),\n",
    "                    similar(Review, 'Will Smith'),\n",
    "                    academy_award(Cat), winner(Movie2, Cat, Y),\n",
    "                    similar(Movie, Movie2).\n",
    "query(q5a_(M,C))."
   ]
  },
  {
   "cell_type": "markdown",
   "metadata": {},
   "source": [
    "### Q5\n",
    "\n",
    "Movie that is currently playing and has *many* academy awards."
   ]
  },
  {
   "cell_type": "code",
   "execution_count": 22,
   "metadata": {
    "collapsed": false
   },
   "outputs": [
    {
     "data": {
      "text/html": [
       "<table style=\"width:100%;\"><tr><th style=\"width:66%;\">Atom<th>Probability<tr><td>q5_('Argo')<td><div class=\"progress-bar\" role=\"progressbar\" aria-valuenow=\"33.33333333333333\" aria-valuemin=\"0\" aria-valuemax=\"100\" style=\"text-align:left;width:33.33333333333333%;padding:3px;color:black;background-color:#9ac2f4;\">0.3333</div><tr><td>q5_('Brassed Off')<td><div class=\"progress-bar\" role=\"progressbar\" aria-valuenow=\"0.0\" aria-valuemin=\"0\" aria-valuemax=\"100\" style=\"text-align:left;width:0.0%;padding:3px;color:black;background-color:#9ac2f4;\">0.0000</div><tr><td>q5_('Hercules')<td><div class=\"progress-bar\" role=\"progressbar\" aria-valuenow=\"0.0\" aria-valuemin=\"0\" aria-valuemax=\"100\" style=\"text-align:left;width:0.0%;padding:3px;color:black;background-color:#9ac2f4;\">0.0000</div><tr><td>q5_('Men in Black')<td><div class=\"progress-bar\" role=\"progressbar\" aria-valuenow=\"33.33333333333333\" aria-valuemin=\"0\" aria-valuemax=\"100\" style=\"text-align:left;width:33.33333333333333%;padding:3px;color:black;background-color:#9ac2f4;\">0.3333</div></table>"
      ]
     },
     "metadata": {},
     "output_type": "display_data"
    }
   ],
   "source": [
    "%%problog\n",
    ":- consult(whirl).\n",
    "\n",
    "q5_(M) :- listing(_,M,_),\n",
    "          many((academy_award(C),winner(_,C,Y)), winner(M,C,Y)).\n",
    "query(q5_(M))."
   ]
  },
  {
   "cell_type": "markdown",
   "metadata": {},
   "source": [
    "#### Implementation of the `many` predicate\n",
    "\n",
    "The `many` predicate present in WHIRL can be implemented in ProbLog using `findall` and a custom predicate to count the weighted average:"
   ]
  },
  {
   "cell_type": "code",
   "execution_count": null,
   "metadata": {
    "collapsed": false
   },
   "outputs": [],
   "source": [
    "%%problog\n",
    "\n",
    "many_int_prob(L) :- many_int(L, 0, 0, L).\n",
    "\n",
    "many_int([], P, N, L) :- T is P+N, T > 0, S is P/T, w(S,L).\n",
    "S::w(S,_).\n",
    "many_int([H|T], PA, NA, S) :-\n",
    "   (  call(H), PAN is PA + 1, NAN is NA;      % Test: true\n",
    "    \\+call(H), PAN is PA,     NAN is NA + 1), % Test: false\n",
    "   many_int(T, PAN, NAN, S).\n",
    "\n",
    "many(Template, Test) :-\n",
    "    findall(Test, Template, L),\n",
    "    many_int_prob(L)."
   ]
  },
  {
   "cell_type": "markdown",
   "metadata": {},
   "source": [
    "The `many_int` predicate is representing a binomial tree that in the leaves expresses the histogram of possible numbers of true and false tests in the list defined by the template."
   ]
  },
  {
   "cell_type": "code",
   "execution_count": 37,
   "metadata": {
    "collapsed": false
   },
   "outputs": [
    {
     "data": {
      "image/svg+xml": [
       "<?xml version=\"1.0\" encoding=\"UTF-8\" standalone=\"no\"?>\n",
       "<!DOCTYPE svg PUBLIC \"-//W3C//DTD SVG 1.1//EN\"\n",
       " \"http://www.w3.org/Graphics/SVG/1.1/DTD/svg11.dtd\">\n",
       "<!-- Generated by graphviz version 2.38.0 (20140413.2041)\n",
       " -->\n",
       "<!-- Title: binomial_tree Pages: 1 -->\n",
       "<svg width=\"202pt\" height=\"260pt\"\n",
       " viewBox=\"0.00 0.00 202.00 260.00\" xmlns=\"http://www.w3.org/2000/svg\" xmlns:xlink=\"http://www.w3.org/1999/xlink\">\n",
       "<g id=\"graph0\" class=\"graph\" transform=\"scale(1 1) rotate(0) translate(4 256)\">\n",
       "<title>binomial_tree</title>\n",
       "<polygon fill=\"white\" stroke=\"none\" points=\"-4,4 -4,-256 198,-256 198,4 -4,4\"/>\n",
       "<!-- 0_0 -->\n",
       "<g id=\"node1\" class=\"node\"><title>0_0</title>\n",
       "<text text-anchor=\"middle\" x=\"95.5\" y=\"-230.3\" font-family=\"Times,serif\" font-size=\"14.00\">0&#45;0</text>\n",
       "</g>\n",
       "<!-- 1_0 -->\n",
       "<g id=\"node2\" class=\"node\"><title>1_0</title>\n",
       "<text text-anchor=\"middle\" x=\"69.5\" y=\"-158.3\" font-family=\"Times,serif\" font-size=\"14.00\">0&#45;1</text>\n",
       "</g>\n",
       "<!-- 0_0&#45;&gt;1_0 -->\n",
       "<g id=\"edge1\" class=\"edge\"><title>0_0&#45;&gt;1_0</title>\n",
       "<path fill=\"none\" stroke=\"black\" d=\"M89.073,-215.697C85.0429,-204.846 79.8691,-190.917 75.853,-180.104\"/>\n",
       "</g>\n",
       "<!-- 1_1 -->\n",
       "<g id=\"node3\" class=\"node\"><title>1_1</title>\n",
       "<text text-anchor=\"middle\" x=\"122.5\" y=\"-158.3\" font-family=\"Times,serif\" font-size=\"14.00\">1&#45;0</text>\n",
       "</g>\n",
       "<!-- 0_0&#45;&gt;1_1 -->\n",
       "<g id=\"edge2\" class=\"edge\"><title>0_0&#45;&gt;1_1</title>\n",
       "<path fill=\"none\" stroke=\"black\" d=\"M102.174,-215.697C106.359,-204.846 111.732,-190.917 115.903,-180.104\"/>\n",
       "</g>\n",
       "<!-- 2_0 -->\n",
       "<g id=\"node4\" class=\"node\"><title>2_0</title>\n",
       "<text text-anchor=\"middle\" x=\"43.5\" y=\"-86.3\" font-family=\"Times,serif\" font-size=\"14.00\">0&#45;2</text>\n",
       "</g>\n",
       "<!-- 1_0&#45;&gt;2_0 -->\n",
       "<g id=\"edge3\" class=\"edge\"><title>1_0&#45;&gt;2_0</title>\n",
       "<path fill=\"none\" stroke=\"black\" d=\"M63.073,-143.697C59.0429,-132.846 53.8691,-118.917 49.853,-108.104\"/>\n",
       "</g>\n",
       "<!-- 2_1 -->\n",
       "<g id=\"node5\" class=\"node\"><title>2_1</title>\n",
       "<text text-anchor=\"middle\" x=\"96.5\" y=\"-86.3\" font-family=\"Times,serif\" font-size=\"14.00\">1&#45;1</text>\n",
       "</g>\n",
       "<!-- 1_0&#45;&gt;2_1 -->\n",
       "<g id=\"edge5\" class=\"edge\"><title>1_0&#45;&gt;2_1</title>\n",
       "<path fill=\"none\" stroke=\"black\" d=\"M76.1742,-143.697C80.3593,-132.846 85.7321,-118.917 89.9026,-108.104\"/>\n",
       "</g>\n",
       "<!-- 1_1&#45;&gt;2_1 -->\n",
       "<g id=\"edge4\" class=\"edge\"><title>1_1&#45;&gt;2_1</title>\n",
       "<path fill=\"none\" stroke=\"black\" d=\"M116.073,-143.697C112.043,-132.846 106.869,-118.917 102.853,-108.104\"/>\n",
       "</g>\n",
       "<!-- 2_2 -->\n",
       "<g id=\"node6\" class=\"node\"><title>2_2</title>\n",
       "<text text-anchor=\"middle\" x=\"149.5\" y=\"-86.3\" font-family=\"Times,serif\" font-size=\"14.00\">2&#45;0</text>\n",
       "</g>\n",
       "<!-- 1_1&#45;&gt;2_2 -->\n",
       "<g id=\"edge6\" class=\"edge\"><title>1_1&#45;&gt;2_2</title>\n",
       "<path fill=\"none\" stroke=\"black\" d=\"M129.174,-143.697C133.359,-132.846 138.732,-118.917 142.903,-108.104\"/>\n",
       "</g>\n",
       "<!-- 3_0 -->\n",
       "<g id=\"node7\" class=\"node\"><title>3_0</title>\n",
       "<text text-anchor=\"middle\" x=\"17.5\" y=\"-14.3\" font-family=\"Times,serif\" font-size=\"14.00\">0&#45;3</text>\n",
       "</g>\n",
       "<!-- 2_0&#45;&gt;3_0 -->\n",
       "<g id=\"edge7\" class=\"edge\"><title>2_0&#45;&gt;3_0</title>\n",
       "<path fill=\"none\" stroke=\"black\" d=\"M37.073,-71.6966C33.0429,-60.8463 27.8691,-46.9167 23.853,-36.1043\"/>\n",
       "</g>\n",
       "<!-- 3_1 -->\n",
       "<g id=\"node8\" class=\"node\"><title>3_1</title>\n",
       "<text text-anchor=\"middle\" x=\"70.5\" y=\"-14.3\" font-family=\"Times,serif\" font-size=\"14.00\">1&#45;2</text>\n",
       "</g>\n",
       "<!-- 2_0&#45;&gt;3_1 -->\n",
       "<g id=\"edge9\" class=\"edge\"><title>2_0&#45;&gt;3_1</title>\n",
       "<path fill=\"none\" stroke=\"black\" d=\"M50.1742,-71.6966C54.3593,-60.8463 59.7321,-46.9167 63.9026,-36.1043\"/>\n",
       "</g>\n",
       "<!-- 2_1&#45;&gt;3_1 -->\n",
       "<g id=\"edge8\" class=\"edge\"><title>2_1&#45;&gt;3_1</title>\n",
       "<path fill=\"none\" stroke=\"black\" d=\"M90.073,-71.6966C86.0429,-60.8463 80.8691,-46.9167 76.853,-36.1043\"/>\n",
       "</g>\n",
       "<!-- 3_2 -->\n",
       "<g id=\"node9\" class=\"node\"><title>3_2</title>\n",
       "<text text-anchor=\"middle\" x=\"123.5\" y=\"-14.3\" font-family=\"Times,serif\" font-size=\"14.00\">2&#45;1</text>\n",
       "</g>\n",
       "<!-- 2_1&#45;&gt;3_2 -->\n",
       "<g id=\"edge11\" class=\"edge\"><title>2_1&#45;&gt;3_2</title>\n",
       "<path fill=\"none\" stroke=\"black\" d=\"M103.174,-71.6966C107.359,-60.8463 112.732,-46.9167 116.903,-36.1043\"/>\n",
       "</g>\n",
       "<!-- 2_2&#45;&gt;3_2 -->\n",
       "<g id=\"edge10\" class=\"edge\"><title>2_2&#45;&gt;3_2</title>\n",
       "<path fill=\"none\" stroke=\"black\" d=\"M143.073,-71.6966C139.043,-60.8463 133.869,-46.9167 129.853,-36.1043\"/>\n",
       "</g>\n",
       "<!-- 3_3 -->\n",
       "<g id=\"node10\" class=\"node\"><title>3_3</title>\n",
       "<text text-anchor=\"middle\" x=\"176.5\" y=\"-14.3\" font-family=\"Times,serif\" font-size=\"14.00\">3&#45;0</text>\n",
       "</g>\n",
       "<!-- 2_2&#45;&gt;3_3 -->\n",
       "<g id=\"edge12\" class=\"edge\"><title>2_2&#45;&gt;3_3</title>\n",
       "<path fill=\"none\" stroke=\"black\" d=\"M156.174,-71.6966C160.359,-60.8463 165.732,-46.9167 169.903,-36.1043\"/>\n",
       "</g>\n",
       "</g>\n",
       "</svg>\n"
      ]
     },
     "metadata": {},
     "output_type": "display_data"
    }
   ],
   "source": [
    "gv = \"digraph binomial_tree {\\n\"\n",
    "max_depth = 3\n",
    "for depth in range(0,max_depth+1):\n",
    "    for col in range(depth+1):\n",
    "        node = '{}_{}'.format(depth,col)\n",
    "        label = '{}-{}'.format(col,depth-col)\n",
    "        gv += '\\t{} [shape=none,label=\"{}\",width=.3];\\n'.format(node,label)\n",
    "        if not col == depth:\n",
    "            parent = '{}_{}'.format(depth-1,col)\n",
    "            gv += '\\t{} -- {} [arrowhead=none];\\n'.format(parent,node)\n",
    "        if not col == 0:\n",
    "            parent = '{}_{}'.format(depth-1,col-1)\n",
    "            gv += '\\t{} -- {} [arrowhead=none];\\n'.format(parent,node)\n",
    "            \n",
    "gv += \"}\\n\"\n",
    "#print(gv)\n",
    "display_svg(pydot.graph_from_dot_data(gv).create_svg(), raw=True)"
   ]
  },
  {
   "cell_type": "markdown",
   "metadata": {},
   "source": [
    "#### Linear implementation of the `many` predicate"
   ]
  },
  {
   "cell_type": "code",
   "execution_count": 23,
   "metadata": {
    "collapsed": true
   },
   "outputs": [],
   "source": [
    "# TODO (see library for solution)"
   ]
  },
  {
   "cell_type": "markdown",
   "metadata": {},
   "source": [
    "## More information"
   ]
  },
  {
   "cell_type": "markdown",
   "metadata": {},
   "source": [
    "https://dtai.cs.kuleuven.be/problog"
   ]
  }
 ],
 "metadata": {
  "kernelspec": {
   "display_name": "Python 3",
   "language": "python",
   "name": "python3"
  },
  "language_info": {
   "codemirror_mode": {
    "name": "ipython",
    "version": 3
   },
   "file_extension": ".py",
   "mimetype": "text/x-python",
   "name": "python",
   "nbconvert_exporter": "python",
   "pygments_lexer": "ipython3",
   "version": "3.4.2"
  }
 },
 "nbformat": 4,
 "nbformat_minor": 0
}
