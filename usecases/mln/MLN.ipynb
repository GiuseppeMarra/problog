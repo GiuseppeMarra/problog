{
 "cells": [
  {
   "cell_type": "markdown",
   "metadata": {},
   "source": [
    "# Markov Logic Networks to ProbLog"
   ]
  },
  {
   "cell_type": "markdown",
   "metadata": {},
   "source": [
    "June 2015  \n",
    "[Wannes Meert](mailto:wannes.meert@cs.kuleuven.be), [Guy Van den Broeck](mailto:guy.vandenbroeck@cs.kuleuven.be), [Anton Dries](mailto:anton.dries@cs.kuleuven.be), DTAI Research Group, KU Leuven"
   ]
  },
  {
   "cell_type": "markdown",
   "metadata": {},
   "source": [
    "Although the semantics of ProbLog and MLNs are different, you can transform any first-order MLN into a ProbLog program. This is discussed in:\n",
    "\n",
    "> Daan Fierens, Guy Van den Broeck, Maurice Bruynooghe, and Luc De Raedt.\n",
    "> \"Constraints for probabilistic logic programming.\"\n",
    "> In Proceedings of the NIPS probabilistic programming workshop, pp. 1-4. 2012.\n",
    "\n",
    "The converse is false. For example, a ProbLog program with inductive definitions such as path or reachability cannot be expressed in first-order logic (although you can always reduce to SAT, propositionally).\n",
    "\n",
    "For an overview of the MLN semantics, we refer to:\n",
    "\n",
    "> Stanley Kok, Parag Singla, Matthew Richardson and Pedro Domingos (2005). \n",
    "> \"The Alchemy System for Statistical Relational AI\", Technical Report, \n",
    "> Department of Computer Science and Engineering, \n",
    "> University of Washington, Seattle, WA. \n",
    "> http://www.cs.washington.edu/ai/alchemy.\n"
   ]
  },
  {
   "cell_type": "markdown",
   "metadata": {},
   "source": [
    "## Using the WFOMC Implementation\n",
    "\n",
    "The conversion from MLN to ProbLog is built into the Weighted First-Order Model Counting (WFOMC) application available from https://dtai.cs.kuleuven.be/wfomc.\n",
    "\n",
    "The complete chain looks as follows:\n",
    "\n",
    "    $ java -jar wfomc.jar --problog-out friendsmoker.pl friendsmoker.mln\n",
    "    $ echo -e \"query(friends(guy,wannes)).\\nquery(smokes(guy)).\" >> friendsmoker.pl\n",
    "    $ ./problog-cli.py friendsmoker.pl\n",
    "    \tfriends(guy,wannes) : 0.45804886\n",
    "\t            smokes(guy) : 0.5\n",
    "\n",
    "The first step creates a ProbLog theory that is equivalent to the given MLN file. The second stap adds the query statements to the ProbLog file. Finally, ProbLog is called to compute the probabilities of the queries."
   ]
  },
  {
   "cell_type": "markdown",
   "metadata": {},
   "source": [
    "## Manual Conversion\n",
    "\n",
    "It is also possible to perform the computation manually. This is based on the method mentioned in the cProbLog paper and the transformation to weighted first-order model counting explained in:\n",
    "\n",
    "> Van den Broeck, Guy, Nima Taghipour, Wannes Meert, Jesse Davis, and Luc De Raedt.\n",
    "> \"Lifted probabilistic inference by first-order knowledge compilation.\"\n",
    "> In Proceedings of the Twenty-Second international joint conference on Artificial Intelligence-Volume Volume Three, pp. 2178-2185. AAAI Press, 2011.\n",
    "\n",
    "### MLN to WFOMC\n",
    "\n",
    "An MLN\n",
    "\n",
    "    people = {A,B}\n",
    "    Smokes(people)\n",
    "    Friends(people,people)\n",
    "    w Smokes(x) ^ Friends(x,y) => Smokes(y)\n",
    "\n",
    "is translated to an MLN where only literal formulas have a weight (ignoring the type definitions):\n",
    "\n",
    "    w R(x,y)\n",
    "    R(x,y) <=> (Smokes(x) ^ Friends(x,y) => Smokes(y)).\n",
    "\n",
    "\n",
    "### WFOMC to ProbLog\n",
    "\n",
    "The WFOMC program above can be written to cProbLog:\n",
    "\n",
    "    people(a). people(b).\n",
    "    0.5 :: smokes(X) :- people(X).\n",
    "    0.5 :: friends(X) :- people(X), people(Y).\n",
    "    w' :: r(X,Y).\n",
    "    evidence(r(X,Y) <=> smokes(X) ^ friends(X,Y) => smokes(Y), true) :- people(X), people(Y).\n",
    "\n",
    "with $w' = \\frac{e^w}{e^w+1}$, upercase symbols for variables and lowercase symbols for constants and predicates. The types of the predicates are introduced by adding a `people` predicate that lists the domain elements and linking this to the `smokes` and `friends` predicates. The 0.5 probability is a default for MLNs if a predicate is not introduced explicitely ($\\frac{e^0}{e^0+1} = 0.5$). If a sentence `w_s Smokes(x)` is present in the MLN, the 0.5 would be replaced by $w_s' = \\frac{e^{w_s}}{e^{w_s}+1}$ for `smokes`.\n",
    "\n",
    "The current ProbLog implementation does not support first-order logic constraints, so this has to be rewritten to ProbLog rules. This can be achieved by turning the constraint into a CNF and adding a ProbLog clauses `ev :- not_c_i` for every clause `c_i` in the CNF. The `not_c_i` is the negation of clause `c_i`. Finally, you set the evidence on `ev` to false.\n",
    "\n",
    "    people(a). people(b).\n",
    "    0.5 :: smokes(X) :- people(X).\n",
    "    0.5 :: friends(X) :- people(X), people(Y).\n",
    "    w' :: r(X,Y).\n",
    "    ev :- people(X), people(Y), \\+f_1(X,Y), \\+friends(X,Y).\n",
    "    ev :- people(X), people(Y), \\+f_1(X,Y), \\+smokes(X).\n",
    "    ev :- people(Y), smokes(X), \\+f_1(Y,X).\n",
    "    ev :- smokes(X), friends(X,Y), f_1(X,Y), \\+smokes(Y).\n",
    "    evidence(ev,false).\n"
   ]
  },
  {
   "cell_type": "markdown",
   "metadata": {},
   "source": [
    "## Partition Function\n",
    "\n",
    "If you want to compute the partition function of an MLN you can query the probability of the evidence `ev` (do not forget to remove the `evidence(ev,false)` rule. Since the ProbLog probabilities are a normalization of the original weights, you have to denormalize them. This can be done by multiplying the probability of evidence with $1+e^w$ for all grounded sentences that appear in the MLN (or equivalently all groundings of all `r` that appear in ProbLog).\n",
    "\n",
    "\\begin{equation}\n",
    "    \\textit{partitionfunction(program)} = Pr(ev)\\cdot \\prod_{w = \\textit{weight(c)} \\land c \\in \\textit{clauses(grounding)}} (1+e^w)\n",
    "\\end{equation}\n"
   ]
  },
  {
   "cell_type": "markdown",
   "metadata": {},
   "source": [
    "## More information\n",
    "\n",
    "https://dtai.cs.kuleuven.be/problog"
   ]
  }
 ],
 "metadata": {
  "kernelspec": {
   "display_name": "Python 3",
   "language": "python",
   "name": "python3"
  },
  "language_info": {
   "codemirror_mode": {
    "name": "ipython",
    "version": 3
   },
   "file_extension": ".py",
   "mimetype": "text/x-python",
   "name": "python",
   "nbconvert_exporter": "python",
   "pygments_lexer": "ipython3",
   "version": "3.4.2"
  }
 },
 "nbformat": 4,
 "nbformat_minor": 0
}
