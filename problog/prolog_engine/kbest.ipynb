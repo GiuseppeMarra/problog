{
 "cells": [
  {
   "cell_type": "code",
   "execution_count": 1,
   "metadata": {},
   "outputs": [],
   "source": [
    "import os\n",
    "import sys\n",
    "\n",
    "sys.path.append('/home/robinm/phd/problog/')"
   ]
  },
  {
   "cell_type": "code",
   "execution_count": 2,
   "metadata": {},
   "outputs": [],
   "source": [
    "from problog.program import PrologString\n",
    "from problog.engine import DefaultEngine\n",
    "from problog.logic import Term, Var\n",
    "from problog.prolog_engine.engine_prolog import EngineProlog\n",
    "from problog.formula import LogicFormula, LogicDAG\n",
    "from graphviz import Source\n",
    "from problog.cycles import break_cycles\n",
    "from problog.sdd_formula import SDD\n",
    "from time import time\n",
    "\n",
    "from problog.prolog_engine.swi_program import SWIProgram"
   ]
  },
  {
   "cell_type": "code",
   "execution_count": 3,
   "metadata": {},
   "outputs": [],
   "source": [
    "file='''\n",
    "0.5::edge(1,2).\n",
    "0.6::edge(1,3).\n",
    "0.9::edge(2,4).\n",
    "0.9::edge(2,5).\n",
    "0.6::edge(3,6).\n",
    "0.9::edge(4,6).\n",
    "0.9::edge(5,6).\n",
    "path(X,Y) :- edge(X,Y).\n",
    "path(X,Y) :- edge(Z,Y), path(X,Z).\n",
    "query(path(1,6)).\n",
    "'''"
   ]
  },
  {
   "cell_type": "code",
   "execution_count": 4,
   "metadata": {},
   "outputs": [
    {
     "name": "stdout",
     "output_type": "stream",
     "text": [
      "rule(path(A1,A2),[edge(A1,A2)]).\n",
      "rule(path(A1,A2),[edge(A3,A2),path(A1,A3)]).\n",
      "fact(0.5,edge(1,2),1).\n",
      "fact(0.6,edge(1,3),2).\n",
      "fact(0.9,edge(2,4),3).\n",
      "fact(0.9,edge(2,5),4).\n",
      "fact(0.6,edge(3,6),5).\n",
      "fact(0.9,edge(4,6),6).\n",
      "fact(0.9,edge(5,6),7).\n",
      "fact(1.0,query(path(1,6)),8).\n"
     ]
    }
   ],
   "source": [
    "program = PrologString(file)\n",
    "engine = EngineProlog()\n",
    "db = engine.prepare(program)\n",
    "swiprogram = SWIProgram(db)\n",
    "for l in swiprogram.get_lines():\n",
    "    print(l+'.')"
   ]
  },
  {
   "cell_type": "markdown",
   "metadata": {},
   "source": [
    "# Large graph"
   ]
  },
  {
   "cell_type": "code",
   "execution_count": 5,
   "metadata": {},
   "outputs": [],
   "source": [
    "N=50000\n",
    "file='''\n",
    "0.6::edge(start,b).\n",
    "0.6::edge(b,end).\n",
    "0.5::edge(start,c).\n",
    "0.9::edge(c,d).\n",
    "0.9::edge(d,end).\n",
    "0.9::edge(c,e).\n",
    "0.9::edge(e,end).\n",
    "{}\n",
    "path(X,Y) :- edge(X,Y).\n",
    "path(X,Y) :- edge(Z,Y), path(X,Z).\n",
    "query(path(start,end)).\n",
    "'''\n",
    "extra_edges = ['0.01::edge(start,{}).'.format(i) for i in range(N)]\n",
    "extra_edges += ['0.01::edge({},{}).'.format(i,i+N) for i in range(N)]\n",
    "extra_edges += ['0.01::edge({},end).'.format(i+N) for i in range(N)]\n",
    "file=file.format('\\n'.join(extra_edges))\n",
    "#print(file)\n",
    "program = PrologString(file)\n",
    "\n"
   ]
  },
  {
   "cell_type": "markdown",
   "metadata": {},
   "source": [
    "# Exact inference"
   ]
  },
  {
   "cell_type": "code",
   "execution_count": 6,
   "metadata": {},
   "outputs": [],
   "source": [
    "engine = DefaultEngine()\n",
    "db = engine.prepare(program)"
   ]
  },
  {
   "cell_type": "code",
   "execution_count": 7,
   "metadata": {},
   "outputs": [
    {
     "name": "stdout",
     "output_type": "stream",
     "text": [
      "Grounded in 73.86713457107544 seconds\n",
      "Compiled in 11.870221138000488 seconds\n",
      "Evaluated in 2.1127631664276123 seconds\n",
      "P =  {path(start,end): 0.6846179897324968}\n"
     ]
    }
   ],
   "source": [
    "start = time()\n",
    "ground = engine.ground_all(db, target=LogicFormula())\n",
    "print('Grounded in {} seconds'.format(time()-start))\n",
    "start = time()\n",
    "ac = SDD.create_from(ground)\n",
    "print('Compiled in {} seconds'.format(time()-start))\n",
    "start = time()\n",
    "p = ac.evaluate()\n",
    "print('Evaluated in {} seconds'.format(time()-start))\n",
    "print('P = ',p)"
   ]
  },
  {
   "cell_type": "markdown",
   "metadata": {},
   "source": [
    "# K-best"
   ]
  },
  {
   "cell_type": "code",
   "execution_count": 8,
   "metadata": {},
   "outputs": [],
   "source": [
    "\n",
    "engine = EngineProlog()\n",
    "db = engine.prepare(program)\n",
    "swiprogram = SWIProgram(db)\n",
    "# for l in swiprogram.get_lines():\n",
    "#     print(l+'.')"
   ]
  },
  {
   "cell_type": "code",
   "execution_count": 9,
   "metadata": {},
   "outputs": [
    {
     "name": "stdout",
     "output_type": "stream",
     "text": [
      "1 proofs\n",
      "    Grounded in 8.01073670387268 seconds\n",
      "    Compiled in 0.5855984687805176 seconds\n",
      "    Evaluated in 0.00020933151245117188 seconds\n",
      "P =  {path(start,end): 0.405}\n",
      "2 proofs\n",
      "    Grounded in 7.71810507774353 seconds\n",
      "    Compiled in 0.03845667839050293 seconds\n",
      "    Evaluated in 0.00016307830810546875 seconds\n",
      "P =  {path(start,end): 0.48195000000000005}\n",
      "3 proofs\n",
      "    Grounded in 7.764331102371216 seconds\n",
      "    Compiled in 0.0008828639984130859 seconds\n",
      "    Evaluated in 0.00017499923706054688 seconds\n",
      "P =  {path(start,end): 0.668448}\n",
      "4 proofs\n",
      "    Grounded in 8.305662155151367 seconds\n",
      "    Compiled in 0.0390164852142334 seconds\n",
      "    Evaluated in 0.0002052783966064453 seconds\n",
      "P =  {path(start,end): 0.668448331552}\n"
     ]
    }
   ],
   "source": [
    "for k in range(1,5):\n",
    "    print('{} proofs'.format(k))\n",
    "    start = time()\n",
    "    ground = engine.ground_all(db, target=LogicFormula(), k=k)\n",
    "    print('    Grounded in {} seconds'.format(time()-start))\n",
    "    start = time()\n",
    "    ac = SDD.create_from(ground)\n",
    "    print('    Compiled in {} seconds'.format(time()-start))\n",
    "    start = time()\n",
    "    p = ac.evaluate()\n",
    "    print('    Evaluated in {} seconds'.format(time()-start))\n",
    "    print('P = ',p)"
   ]
  },
  {
   "cell_type": "code",
   "execution_count": null,
   "metadata": {},
   "outputs": [],
   "source": []
  }
 ],
 "metadata": {
  "kernelspec": {
   "display_name": "Python 3",
   "language": "python",
   "name": "python3"
  },
  "language_info": {
   "codemirror_mode": {
    "name": "ipython",
    "version": 3
   },
   "file_extension": ".py",
   "mimetype": "text/x-python",
   "name": "python",
   "nbconvert_exporter": "python",
   "pygments_lexer": "ipython3",
   "version": "3.7.3"
  }
 },
 "nbformat": 4,
 "nbformat_minor": 2
}
