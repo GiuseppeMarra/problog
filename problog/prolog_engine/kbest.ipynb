{
 "cells": [
  {
   "cell_type": "code",
   "execution_count": 1,
   "metadata": {},
   "outputs": [],
   "source": [
    "import os\n",
    "import sys\n",
    "\n",
    "sys.path.append('/home/robinm/phd/problog/')"
   ]
  },
  {
   "cell_type": "code",
   "execution_count": 2,
   "metadata": {},
   "outputs": [],
   "source": [
    "from problog.program import PrologString\n",
    "from problog.prolog_engine.translate import TranslatedProgram, translate_clausedb\n",
    "from problog.engine import DefaultEngine\n",
    "from problog.logic import Term, Var\n",
    "from problog.prolog_engine.engine_prolog import EngineProlog\n",
    "from problog.formula import LogicFormula, LogicDAG\n",
    "from graphviz import Source\n",
    "from problog.cycles import break_cycles\n",
    "from problog.sdd_formula import SDD"
   ]
  },
  {
   "cell_type": "code",
   "execution_count": 7,
   "metadata": {},
   "outputs": [],
   "source": [
    "file='''\n",
    "0.5::edge(1,2).\n",
    "0.6::edge(1,3).\n",
    "0.9::edge(2,4).\n",
    "0.9::edge(2,5).\n",
    "0.6::edge(3,6).\n",
    "0.9::edge(4,6).\n",
    "0.9::edge(5,6).\n",
    "path(X,Y) :- edge(X,Y).\n",
    "path(X,Y) :- edge(Z,Y), path(X,Z).\n",
    "query(path(1,6)).\n",
    "'''"
   ]
  },
  {
   "cell_type": "code",
   "execution_count": 8,
   "metadata": {},
   "outputs": [
    {
     "name": "stdout",
     "output_type": "stream",
     "text": [
      "ad([p(0.5,edge(1,2),1)],[]).\n",
      "ad([p(0.6,edge(1,3),2)],[]).\n",
      "ad([p(0.9,edge(2,4),3)],[]).\n",
      "ad([p(0.9,edge(2,5),4)],[]).\n",
      "ad([p(0.6,edge(3,6),5)],[]).\n",
      "ad([p(0.9,edge(4,6),6)],[]).\n",
      "ad([p(0.9,edge(5,6),7)],[]).\n",
      "ad([p(1.0,path(A1,A2),8)],[edge(A1,A2)]).\n",
      "ad([p(1.0,path(A1,A2),9)],[edge(A3,A2),path(A1,A3)]).\n",
      "ad([p(1.0,query(path(1,6)),10)],[]).\n"
     ]
    }
   ],
   "source": [
    "program = PrologString(file)\n",
    "engine = EngineProlog()\n",
    "db = engine.prepare(program)\n",
    "transformed = translate_clausedb(db)\n",
    "for l in transformed.get_lines():\n",
    "    print(l+'.')"
   ]
  },
  {
   "cell_type": "markdown",
   "metadata": {},
   "source": [
    "# Standard"
   ]
  },
  {
   "cell_type": "code",
   "execution_count": 9,
   "metadata": {},
   "outputs": [],
   "source": [
    "ground = engine.ground_all(db, target=LogicFormula())"
   ]
  },
  {
   "cell_type": "code",
   "execution_count": 10,
   "metadata": {},
   "outputs": [],
   "source": [
    "ac = SDD.create_from(ground)"
   ]
  },
  {
   "cell_type": "code",
   "execution_count": 11,
   "metadata": {},
   "outputs": [
    {
     "data": {
      "text/plain": [
       "{path(1,6): 0.668448}"
      ]
     },
     "execution_count": 11,
     "metadata": {},
     "output_type": "execute_result"
    }
   ],
   "source": [
    "ac.evaluate()"
   ]
  },
  {
   "cell_type": "markdown",
   "metadata": {},
   "source": [
    "# K-best"
   ]
  },
  {
   "cell_type": "code",
   "execution_count": null,
   "metadata": {},
   "outputs": [],
   "source": []
  }
 ],
 "metadata": {
  "kernelspec": {
   "display_name": "Python [conda env:problog] *",
   "language": "python",
   "name": "conda-env-problog-py"
  },
  "language_info": {
   "codemirror_mode": {
    "name": "ipython",
    "version": 3
   },
   "file_extension": ".py",
   "mimetype": "text/x-python",
   "name": "python",
   "nbconvert_exporter": "python",
   "pygments_lexer": "ipython3",
   "version": "3.7.3"
  }
 },
 "nbformat": 4,
 "nbformat_minor": 2
}
